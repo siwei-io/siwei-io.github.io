{
 "cells": [
  {
   "cell_type": "markdown",
   "id": "6086ce6c-0e9f-4aa5-94e2-91feaf023c85",
   "metadata": {},
   "source": [
    "![](https://user-images.githubusercontent.com/1651790/250497795-f50e4a91-3f32-434f-9dd7-8090f69b94d9.png)"
   ]
  },
  {
   "cell_type": "markdown",
   "id": "078a171c-421c-4c6e-88ee-59ea0131ac7c",
   "metadata": {},
   "source": [
    "> Graph Schema\n",
    "\n",
    "![](https://github.com/wey-gu/fraud-detection-datagen/raw/main/images/fraud_detection_graph_model.svg)"
   ]
  },
  {
   "cell_type": "markdown",
   "id": "8bea6933-e3ab-48ae-a07b-7c4d5785fedd",
   "metadata": {},
   "source": [
    "## Sample a subgraph\n",
    "\n",
    "```cypher\n",
    "MATCH ()-[e]->() RETURN e LIMIT 1000\n",
    "```\n",
    "\n",
    "![](https://github.com/siwei-io/talks/assets/1651790/f6d58e79-1a2a-4663-9f26-b9bbbf357eb8)"
   ]
  },
  {
   "cell_type": "markdown",
   "id": "b32a80a4-97f2-43b6-b291-53a10ab3b2a3",
   "metadata": {},
   "source": [
    "Run Louvain Algo\n",
    "\n",
    "![](https://github.com/siwei-io/talks/assets/1651790/c7595b92-93ea-42aa-b666-0c2b9eb4973e)"
   ]
  },
  {
   "cell_type": "markdown",
   "id": "a895d9fb-4fc6-4784-b06c-3f59f11b718c",
   "metadata": {},
   "source": [
    "Run Pagerank Algo\n",
    "\n",
    "![](https://github.com/siwei-io/talks/assets/1651790/c2c11f11-bf01-4ab3-8d2e-602b2c32f42a)\n"
   ]
  }
 ],
 "metadata": {
  "kernelspec": {
   "display_name": "Python 3 (ipykernel)",
   "language": "python",
   "name": "python3"
  },
  "language_info": {
   "codemirror_mode": {
    "name": "ipython",
    "version": 3
   },
   "file_extension": ".py",
   "mimetype": "text/x-python",
   "name": "python",
   "nbconvert_exporter": "python",
   "pygments_lexer": "ipython3",
   "version": "3.9.13"
  }
 },
 "nbformat": 4,
 "nbformat_minor": 5
}

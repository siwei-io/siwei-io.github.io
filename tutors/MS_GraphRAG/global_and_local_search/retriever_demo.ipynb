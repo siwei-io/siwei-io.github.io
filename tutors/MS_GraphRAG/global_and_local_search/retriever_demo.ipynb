{
 "cells": [
  {
   "cell_type": "markdown",
   "id": "2dc7f7e7",
   "metadata": {},
   "source": [
    "# Global Search Demo\n",
    "\n",
    "In this demo, we'll step by step analyze MS GraphRAG paper's Graph Index to be persistent into NebulaGraph, and then implement Retrievers over such Graph Index for global and local query tasks."
   ]
  },
  {
   "cell_type": "markdown",
   "id": "a259c8c8",
   "metadata": {},
   "source": [
    "## Graph Data Preparation\n",
    "\n",
    "For this Demo, we leverage the extracted and processed data from the [GraphRAG](https://github.com/microsoft/graphrag) project."
   ]
  },
  {
   "cell_type": "code",
   "execution_count": 134,
   "id": "e5aa8ca5",
   "metadata": {},
   "outputs": [],
   "source": [
    "import pandas as pd\n",
    "\n",
    "# df_community_reports = pd.read_parquet(\"https://github.com/microsoft/graphrag/raw/main/examples_notebooks/inputs/operation%20dulce/create_final_community_reports.parquet\")\n",
    "# df_covariates = pd.read_parquet(\"https://github.com/microsoft/graphrag/raw/main/examples_notebooks/inputs/operation%20dulce/create_final_covariates.parquet\")\n",
    "# df_entities = pd.read_parquet(\"https://github.com/microsoft/graphrag/raw/main/examples_notebooks/inputs/operation%20dulce/create_final_entities.parquet\")\n",
    "# df_nodes = pd.read_parquet(\"https://github.com/microsoft/graphrag/raw/main/examples_notebooks/inputs/operation%20dulce/create_final_nodes.parquet\")\n",
    "# df_relationships = pd.read_parquet(\"https://github.com/microsoft/graphrag/raw/main/examples_notebooks/inputs/operation%20dulce/create_final_relationships.parquet\")\n",
    "# df_text_units = pd.read_parquet(\"https://github.com/microsoft/graphrag/raw/main/examples_notebooks/inputs/operation%20dulce/create_final_text_units.parquet\")\n",
    "\n",
    "# print(\"> df_community_reports\")\n",
    "# df_community_reports.info()\n",
    "# print(\"\\n\\n> df_covariates\")\n",
    "# df_covariates.info()\n",
    "# print(\"\\n\\n> df_entities\")\n",
    "# df_entities.info()\n",
    "# print(\"\\n\\n> df_nodes\")\n",
    "# df_nodes.info()\n",
    "# print(\"\\n\\n> df_relationships\")\n",
    "# df_relationships.info()\n",
    "# print(\"\\n\\n> df_text_units\")\n",
    "# df_text_units.info()"
   ]
  },
  {
   "cell_type": "markdown",
   "id": "9f23a21a",
   "metadata": {},
   "source": [
    "\n",
    "The printout shows the data schema of the extracted data.\n",
    "\n",
    "> df_community_reports\n",
    "\n",
    "```\n",
    "<class 'pandas.core.frame.DataFrame'>\n",
    "RangeIndex: 6 entries, 0 to 5\n",
    "Data columns (total 10 columns):\n",
    " #   Column             Non-Null Count  Dtype  \n",
    "---  ------             --------------  -----  \n",
    " 0   community          6 non-null      object \n",
    " 1   full_content       6 non-null      object \n",
    " 2   level              6 non-null      int64  \n",
    " 3   rank               6 non-null      float64\n",
    " 4   title              6 non-null      object \n",
    " 5   rank_explanation   6 non-null      object \n",
    " 6   summary            6 non-null      object \n",
    " 7   findings           6 non-null      object \n",
    " 8   full_content_json  6 non-null      object \n",
    " 9   id                 6 non-null      object \n",
    "dtypes: float64(1), int64(1), object(8)\n",
    "memory usage: 612.0+ bytes\n",
    "```\n",
    "\n",
    "> df_entities\n",
    "\n",
    "```\n",
    "<class 'pandas.core.frame.DataFrame'>\n",
    "RangeIndex: 217 entries, 0 to 216\n",
    "Data columns (total 8 columns):\n",
    " #   Column                 Non-Null Count  Dtype \n",
    "---  ------                 --------------  ----- \n",
    " 0   id                     217 non-null    object\n",
    " 1   name                   217 non-null    object\n",
    " 2   type                   217 non-null    object\n",
    " 3   description            217 non-null    object\n",
    " 4   human_readable_id      217 non-null    int64 \n",
    " 5   graph_embedding        0 non-null      object\n",
    " 6   text_unit_ids          217 non-null    object\n",
    " 7   description_embedding  217 non-null    object\n",
    "dtypes: int64(1), object(7)\n",
    "memory usage: 13.7+ KB\n",
    "```\n",
    "\n",
    "\n",
    "> df_relationships\n",
    "\n",
    "```\n",
    "<class 'pandas.core.frame.DataFrame'>\n",
    "RangeIndex: 276 entries, 0 to 275\n",
    "Data columns (total 10 columns):\n",
    " #   Column             Non-Null Count  Dtype  \n",
    "---  ------             --------------  -----  \n",
    " 0   source             276 non-null    object \n",
    " 1   target             276 non-null    object \n",
    " 2   weight             276 non-null    float64\n",
    " 3   description        276 non-null    object \n",
    " 4   text_unit_ids      276 non-null    object \n",
    " 5   id                 276 non-null    object \n",
    " 6   human_readable_id  276 non-null    object \n",
    " 7   source_degree      276 non-null    int64  \n",
    " 8   target_degree      276 non-null    int64  \n",
    " 9   rank               276 non-null    int64  \n",
    "dtypes: float64(1), int64(3), object(6)\n",
    "memory usage: 21.7+ KB\n",
    "```\n",
    "\n",
    "> df_text_units\n",
    "\n",
    "```\n",
    "<class 'pandas.core.frame.DataFrame'>\n",
    "RangeIndex: 12 entries, 0 to 11\n",
    "Data columns (total 7 columns):\n",
    " #   Column            Non-Null Count  Dtype \n",
    "---  ------            --------------  ----- \n",
    " 0   id                12 non-null     object\n",
    " 1   text              12 non-null     object\n",
    " 2   n_tokens          12 non-null     int64 \n",
    " 3   document_ids      12 non-null     object\n",
    " 4   entity_ids        12 non-null     object\n",
    " 5   relationship_ids  12 non-null     object\n",
    " 6   covariate_ids     12 non-null     object\n",
    "dtypes: int64(1), object(6)\n",
    "memory usage: 804.0+ bytes\n",
    "```\n"
   ]
  },
  {
   "cell_type": "markdown",
   "id": "60c774f4",
   "metadata": {},
   "source": [
    "### Entity Type Analysis\n",
    "\n",
    "Let's first load the data and see the type distribution."
   ]
  },
  {
   "cell_type": "code",
   "execution_count": 4,
   "id": "adfe206e",
   "metadata": {},
   "outputs": [],
   "source": [
    "import pandas as pd\n",
    "\n",
    "df_entities = pd.read_parquet(\n",
    "    \"https://github.com/microsoft/graphrag/raw/main/examples_notebooks/inputs/operation%20dulce/create_final_entities.parquet\"\n",
    ")"
   ]
  },
  {
   "cell_type": "markdown",
   "id": "8611c536",
   "metadata": {},
   "source": [
    "We can see the data schema of df_entities, and its type distribution, besides the type distribution, we also see the sample data of each type.\n",
    "\n",
    "Then we simply fill the empty type with the guessed type(quite rough)."
   ]
  },
  {
   "cell_type": "code",
   "execution_count": 5,
   "id": "c9ea6335",
   "metadata": {},
   "outputs": [
    {
     "data": {
      "text/markdown": [
       "**Entity Type Distribution**"
      ],
      "text/plain": [
       "<IPython.core.display.Markdown object>"
      ]
     },
     "metadata": {},
     "output_type": "display_data"
    },
    {
     "name": "stdout",
     "output_type": "stream",
     "text": [
      "                          Type  Count                       Sample Name                                    Sample Description  Sample Human Readable ID Sample Text Unit IDs\n",
      "                        PERSON     97                       ALEX MERCER Alex Mercer is a character with a military backgro...                         0               ['0...\n",
      "                       CONCEPT     90         EXTRATERRESTRIAL RESEARCH The study of extraterrestrial life forms and their...                        96               ['2...\n",
      "                                    5    EXTRATERRESTRIAL COMMUNICATION                                                   ...                       101               ['2...\n",
      "                         EVENT      4                  OPERATION: DULCE Operation: Dulce is a secretive mission undertaken...                         5               ['2...\n",
      "                           GEO      4               DULCE MILITARY BASE The Dulce Military Base is a pivotal location in t...                       116               ['6...\n",
      "                     ATTRIBUTE      3                 STRATEGIC MINDSET The approach of carefully considering the broader ...                       172               ['1...\n",
      "                        OBJECT      2                             DRONE A drone is encountered by the team, posing a threa...                       107               ['6...\n",
      "                          ROLE      1               OPERATION OVERSIGHT The responsibility of supervising and directing an...                       176               ['1...\n",
      "EXTRATERRESTRIAL COMMUNICATION      1           OPERATIVE JESS(\"ENTITY\"                                            CONCEPT...                        95               ['2...\n",
      "                          TASK      1            ALIEN CODE DECIPHERING The activity that Dr. Jordan Hayes is focused on w...                       169               ['1...\n",
      "                  ORGANIZATION      1         PARANORMAL MILITARY SQUAD The Paranormal Military Squad is an elite clandest...                         4               ['0...\n",
      "                      STRATEGY      1                 CAUTIOUS APPROACH The strategy employed by Alex Mercer in leading th...                       175               ['1...\n",
      "                         SKILL      1                          ANALYSIS The detailed examination of elements or structure,...                       212               ['e...\n",
      "                      FACILITY      1                    COMMAND CENTER The Command Center is the central hub at Dulce Bas...                       170               ['1...\n",
      "                      ACTIVITY      1 RESPONDING TO ALIEN COMMUNICATION The actions taken by the team to communicate back ...                       198               ['6...\n",
      "                         PLACE      1             SUBTERRANEAN FACILITY An underground complex that houses Dulce Base and ...                       200               ['0...\n",
      "                         TRAIT      1                          AMBITION A strong desire to achieve something, often requir...                       213               ['e...\n",
      "                       PROJECT      1       ALIEN COMMUNICATION PROJECT The collective efforts of the team at Dulce Milita...                       193               ['6...\n",
      "                    PHENOMENON      1                            STORMS Severe weather conditions involving wind, rain, or...                       215               ['e...\n"
     ]
    },
    {
     "data": {
      "text/markdown": [
       "**Visualization of Entity Type Distribution**"
      ],
      "text/plain": [
       "<IPython.core.display.Markdown object>"
      ]
     },
     "metadata": {},
     "output_type": "display_data"
    },
    {
     "data": {
      "image/png": "[encoded data removed]",
      "text/plain": [
       "<Figure size 1200x600 with 1 Axes>"
      ]
     },
     "metadata": {},
     "output_type": "display_data"
    },
    {
     "data": {
      "text/markdown": [
       "**Total Number of Entities**"
      ],
      "text/plain": [
       "<IPython.core.display.Markdown object>"
      ]
     },
     "metadata": {},
     "output_type": "display_data"
    },
    {
     "name": "stdout",
     "output_type": "stream",
     "text": [
      "\n",
      "Total number of entities: 217\n"
     ]
    },
    {
     "data": {
      "text/markdown": [
       "**Entity Type Guessing Function**"
      ],
      "text/plain": [
       "<IPython.core.display.Markdown object>"
      ]
     },
     "metadata": {},
     "output_type": "display_data"
    },
    {
     "data": {
      "text/markdown": [
       "**Applying Entity Type Guessing**"
      ],
      "text/plain": [
       "<IPython.core.display.Markdown object>"
      ]
     },
     "metadata": {},
     "output_type": "display_data"
    },
    {
     "data": {
      "text/markdown": [
       "**Updated Entity Type Distribution**"
      ],
      "text/plain": [
       "<IPython.core.display.Markdown object>"
      ]
     },
     "metadata": {},
     "output_type": "display_data"
    },
    {
     "name": "stdout",
     "output_type": "stream",
     "text": [
      "\n",
      "Updated entity type distribution:\n",
      "type\n",
      "PERSON                            98\n",
      "CONCEPT                           90\n",
      "EVENT                              4\n",
      "MISCELLANEOUS                      4\n",
      "GEO                                4\n",
      "ATTRIBUTE                          3\n",
      "OBJECT                             2\n",
      "PROJECT                            1\n",
      "TRAIT                              1\n",
      "SKILL                              1\n",
      "PLACE                              1\n",
      "ACTIVITY                           1\n",
      "FACILITY                           1\n",
      "ROLE                               1\n",
      "STRATEGY                           1\n",
      "ORGANIZATION                       1\n",
      "TASK                               1\n",
      "EXTRATERRESTRIAL COMMUNICATION     1\n",
      "PHENOMENON                         1\n",
      "Name: count, dtype: int64\n"
     ]
    },
    {
     "data": {
      "text/markdown": [
       "**Visualization of Updated Entity Type Distribution**"
      ],
      "text/plain": [
       "<IPython.core.display.Markdown object>"
      ]
     },
     "metadata": {},
     "output_type": "display_data"
    },
    {
     "data": {
      "image/png": "[encoded data removed]",
      "text/plain": [
       "<Figure size 1200x600 with 1 Axes>"
      ]
     },
     "metadata": {},
     "output_type": "display_data"
    }
   ],
   "source": [
    "## Raw Data Schema\n",
    "\n",
    "#  #   Column                 Non-Null Count  Dtype\n",
    "# ---  ------                 --------------  -----\n",
    "#  0   id                     217 non-null    object\n",
    "#  1   name                   217 non-null    object\n",
    "#  2   type                   217 non-null    object\n",
    "#  3   description            217 non-null    object\n",
    "#  4   human_readable_id      217 non-null    int64\n",
    "#  5   graph_embedding        0 non-null      object\n",
    "#  6   text_unit_ids          217 non-null    object  ----------- For connection to text units\n",
    "#  7   description_embedding  217 non-null    object  ----------- Embedding for description, we don't use it\n",
    "\n",
    "from IPython.display import display, Markdown\n",
    "\n",
    "display(Markdown(\"**Entity Type Distribution**\"))\n",
    "\n",
    "# Get all types of df_entities and their counts\n",
    "type_counts = df_entities[\"type\"].value_counts().sort_values(ascending=False)\n",
    "\n",
    "# Create a DataFrame with type information and sample data\n",
    "type_info = []\n",
    "for entity_type in type_counts.index:\n",
    "    sample = df_entities[df_entities[\"type\"] == entity_type].iloc[0]\n",
    "    type_info.append(\n",
    "        {\n",
    "            \"Type\": entity_type,\n",
    "            \"Count\": type_counts[entity_type],\n",
    "            \"Sample Name\": sample[\"name\"],\n",
    "            \"Sample Description\": sample[\"description\"][:50] + \"...\",\n",
    "            \"Sample Human Readable ID\": sample[\"human_readable_id\"],\n",
    "            \"Sample Text Unit IDs\": str(sample[\"text_unit_ids\"])[:3] + \"...\",\n",
    "        }\n",
    "    )\n",
    "\n",
    "# Create and display the DataFrame\n",
    "df_type_info = pd.DataFrame(type_info)\n",
    "pd.set_option(\"display.max_columns\", None)\n",
    "pd.set_option(\"display.width\", None)\n",
    "print(df_type_info.to_string(index=False))\n",
    "\n",
    "display(Markdown(\"**Visualization of Entity Type Distribution**\"))\n",
    "\n",
    "# Visualize the graph\n",
    "import matplotlib.pyplot as plt\n",
    "import seaborn as sns\n",
    "\n",
    "# Set the seaborn style\n",
    "sns.set_style(\"whitegrid\")\n",
    "\n",
    "# Create a figure and axis\n",
    "fig, ax = plt.subplots(figsize=(12, 6))\n",
    "\n",
    "# Create a bar plot\n",
    "sns.barplot(x=\"Type\", y=\"Count\", data=df_type_info, ax=ax)\n",
    "\n",
    "# Customize the plot\n",
    "ax.set_title(\"Distribution of Entity Types\", fontsize=16)\n",
    "ax.set_xlabel(\"Entity Type\", fontsize=12)\n",
    "ax.set_ylabel(\"Count\", fontsize=12)\n",
    "\n",
    "# Rotate x-axis labels for better readability\n",
    "plt.xticks(rotation=45, ha=\"right\")\n",
    "\n",
    "# Adjust layout to prevent cutting off labels\n",
    "plt.tight_layout()\n",
    "\n",
    "# Show the plot\n",
    "plt.show()\n",
    "\n",
    "display(Markdown(\"**Total Number of Entities**\"))\n",
    "\n",
    "# Print total number of entities\n",
    "total_entities = df_type_info[\"Count\"].sum()\n",
    "print(f\"\\nTotal number of entities: {total_entities}\")\n",
    "\n",
    "display(Markdown(\"**Entity Type Guessing Function**\"))\n",
    "\n",
    "# Function to guess entity type based on name and description\n",
    "def guess_entity_type(row):\n",
    "    name = row[\"name\"].lower()\n",
    "    description = row[\"description\"].lower()\n",
    "\n",
    "    type_keywords = {\n",
    "        \"PERSON\": [\"person\", \"individual\", \"mr\", \"mrs\", \"ms\", \"dr\"],\n",
    "        \"ORGANIZATION\": [\n",
    "            \"company\",\n",
    "            \"organization\",\n",
    "            \"corporation\",\n",
    "            \"agency\",\n",
    "            \"institute\",\n",
    "        ],\n",
    "        \"PLACE\": [\"city\", \"country\", \"place\", \"region\", \"area\"],\n",
    "        \"EVENT\": [\"event\", \"incident\", \"occurrence\", \"happening\"],\n",
    "        \"PRODUCT\": [\"product\", \"item\", \"goods\"],\n",
    "        \"CONCEPT\": [\"concept\", \"idea\", \"theory\", \"principle\"],\n",
    "    }\n",
    "\n",
    "    for entity_type, keywords in type_keywords.items():\n",
    "        # I know, this is a quite rough guess, we will improve it later :-P\n",
    "        if any(keyword in name or keyword in description for keyword in keywords):\n",
    "            return entity_type\n",
    "    return \"MISCELLANEOUS\"  # Default type if no match found\n",
    "\n",
    "\n",
    "display(Markdown(\"**Applying Entity Type Guessing**\"))\n",
    "\n",
    "# Apply the guessing function to rows with empty type or empty string\n",
    "df_entities.loc[\n",
    "    (df_entities[\"type\"].isna()) | (df_entities[\"type\"] == \"\"), \"type\"\n",
    "] = df_entities[(df_entities[\"type\"].isna()) | (df_entities[\"type\"] == \"\")].apply(\n",
    "    guess_entity_type, axis=1\n",
    ")\n",
    "\n",
    "display(Markdown(\"**Updated Entity Type Distribution**\"))\n",
    "\n",
    "# Check the updated type distribution\n",
    "updated_type_counts = df_entities[\"type\"].value_counts()\n",
    "print(\"\\nUpdated entity type distribution:\")\n",
    "print(updated_type_counts)\n",
    "\n",
    "display(Markdown(\"**Visualization of Updated Entity Type Distribution**\"))\n",
    "\n",
    "# Visualize the updated distribution\n",
    "plt.figure(figsize=(12, 6))\n",
    "sns.barplot(x=updated_type_counts.index, y=updated_type_counts.values)\n",
    "plt.title(\"Revised Distribution of Entity Types After Filling Empty Types\")\n",
    "plt.xlabel(\"Entity Type\")\n",
    "plt.ylabel(\"Count\")\n",
    "plt.xticks(rotation=45, ha=\"right\")\n",
    "plt.tight_layout()\n",
    "plt.show()"
   ]
  },
  {
   "cell_type": "code",
   "execution_count": 6,
   "id": "b06fdf49",
   "metadata": {},
   "outputs": [],
   "source": [
    "# Let's see all MISCELLANEOUS and EXTRATERRESTRIAL COMMUNICATION items' names and descriptions\n",
    "# pd.concat([\n",
    "#     df_entities[df_entities['type'] == 'MISCELLANEOUS'][['name', 'description']].head(10),\n",
    "#     df_entities[df_entities['type'] == 'EXTRATERRESTRIAL COMMUNICATION'][['name', 'description']].head(10)\n",
    "# ])\n",
    "\n",
    "# We can see 95: OPERATIVE JESS(\"ENTITY\" CONCEPT... seems like a dirty data, but we will keep it for now.\n",
    "# We will remove it later if it causes trouble."
   ]
  },
  {
   "cell_type": "markdown",
   "id": "ba161fa7",
   "metadata": {},
   "source": [
    "#### Schema Design\n",
    "\n",
    "Now, let's create NebulaGraph DDL to create TAGs per entity type.\n",
    "\n",
    "We just generate the DDL and print it out.\n",
    "\n",
    "```text\n",
    " #   Column                 Non-Null Count  Dtype \n",
    "---  ------                 --------------  ----- \n",
    " 0   id                     217 non-null    object\n",
    " 1   name                   217 non-null    object\n",
    " 2   type                   217 non-null    object\n",
    " 3   description            217 non-null    object\n",
    " 4   human_readable_id      217 non-null    int64 \n",
    " 5   graph_embedding        0 non-null      object\n",
    " 6   text_unit_ids          217 non-null    object\n",
    " 7   description_embedding  217 non-null    object\n",
    "\n",
    "Type       Count  Sample Name             Sample Description                Sample Human Readable ID  Sample Text Unit IDs\n",
    "PERSON        97  ALEX MERCER             Alex Mercer is a character...                            0  ['0...\n",
    "CONCEPT       90  EXTRATERRESTRIAL R...   The study of extraterrestr...                           96  ['2...\n",
    "EVENT          4  OPERATION: DULCE        Operation: Dulce is a secr...                            5  ['2...\n",
    "GEO            4  DULCE MILITARY BASE     The Dulce Military Base is...                          116  ['6...\n",
    "ATTRIBUTE      3  STRATEGIC MINDSET       The approach of carefully ...                          172  ['1...\n",
    "OBJECT         2  DRONE                   A drone is encountered by ...                          107  ['6...\n",
    "ROLE           1  OPERATION OVERSIGHT     The responsibility of supe...                          176  ['1...\n",
    "TASK           1  ALIEN CODE DECIPHERING  The activity that Dr. Jord...                          169  ['1...\n",
    "```\n",
    "\n",
    "We could leverage the multi-tagging feature of NebulaGraph to:\n",
    "\n",
    "- Create TAGs per entity type with its type as TAG name\n",
    "    - properties:\n",
    "        - name\n",
    "        - human_readable_id\n",
    "- Add a meta TAG `__Entity` to all entities to help scope the search namespace, indexing semantic template, etc.\n",
    "    - properties:\n",
    "        - name\n",
    "        - human_readable_id\n",
    "        - type\n",
    "        - description\n",
    "- Vertex ID: `entity_{human_readable_id}`\n",
    "\n",
    "> Also, we could see here the `text_unit_ids` is a list of text unit ids, this will be EDGEs between `entity` and `text_unit`\n",
    ">\n",
    "> Here `text_unit` is no longer a Knowledge-Level Vertex in our Graph Index, but a Meta-Level Vertex, which is the raw Texutal Doc Snippet.\n",
    ">\n",
    "> We will come back to this later.\n",
    "\n",
    "Now, let's create NebulaGraph DDL to create TAGs per entity type."
   ]
  },
  {
   "cell_type": "code",
   "execution_count": 139,
   "id": "272802d8",
   "metadata": {},
   "outputs": [
    {
     "name": "stdout",
     "output_type": "stream",
     "text": [
      "NebulaGraph DDL Statements for Knowledge-Level Graph:\n",
      "CREATE TAG IF NOT EXISTS `__Entity` (name string, human_readable_id int, type string, description string);\n",
      "\n",
      "CREATE TAG IF NOT EXISTS `PERSON` (name string, human_readable_id int);\n",
      "CREATE TAG IF NOT EXISTS `ORGANIZATION` (name string, human_readable_id int);\n",
      "CREATE TAG IF NOT EXISTS `EVENT` (name string, human_readable_id int);\n",
      "CREATE TAG IF NOT EXISTS `EXTRATERRESTRIAL_COMMUNICATION` (name string, human_readable_id int);\n",
      "CREATE TAG IF NOT EXISTS `CONCEPT` (name string, human_readable_id int);\n",
      "CREATE TAG IF NOT EXISTS `MISCELLANEOUS` (name string, human_readable_id int);\n",
      "CREATE TAG IF NOT EXISTS `OBJECT` (name string, human_readable_id int);\n",
      "CREATE TAG IF NOT EXISTS `GEO` (name string, human_readable_id int);\n",
      "CREATE TAG IF NOT EXISTS `TASK` (name string, human_readable_id int);\n",
      "CREATE TAG IF NOT EXISTS `FACILITY` (name string, human_readable_id int);\n",
      "CREATE TAG IF NOT EXISTS `ATTRIBUTE` (name string, human_readable_id int);\n",
      "CREATE TAG IF NOT EXISTS `STRATEGY` (name string, human_readable_id int);\n",
      "CREATE TAG IF NOT EXISTS `ROLE` (name string, human_readable_id int);\n",
      "CREATE TAG IF NOT EXISTS `PROJECT` (name string, human_readable_id int);\n",
      "CREATE TAG IF NOT EXISTS `ACTIVITY` (name string, human_readable_id int);\n",
      "CREATE TAG IF NOT EXISTS `PLACE` (name string, human_readable_id int);\n",
      "CREATE TAG IF NOT EXISTS `SKILL` (name string, human_readable_id int);\n",
      "CREATE TAG IF NOT EXISTS `TRAIT` (name string, human_readable_id int);\n",
      "CREATE TAG IF NOT EXISTS `PHENOMENON` (name string, human_readable_id int);\n",
      "\n"
     ]
    }
   ],
   "source": [
    "# Generate DDL for entity types\n",
    "entity_types = df_entities[\"type\"].unique()\n",
    "\n",
    "ddl_statements = [\n",
    "    \"CREATE TAG IF NOT EXISTS `__Entity` (name string, human_readable_id int, type string, description string);\\n\\n\"\n",
    "]\n",
    "\n",
    "for entity_type in entity_types:\n",
    "    ddl = f\"\"\"CREATE TAG IF NOT EXISTS `{entity_type.replace(' ', '_')}` (name string, human_readable_id int);\n",
    "\"\"\"\n",
    "    ddl_statements.append(ddl)\n",
    "\n",
    "# Print all DDL statements\n",
    "print(\"NebulaGraph DDL Statements for Knowledge-Level Graph:\")\n",
    "print(\"\".join(ddl_statements))"
   ]
  },
  {
   "cell_type": "markdown",
   "id": "3afe2ffe",
   "metadata": {},
   "source": [
    "Before we load the data, we need to persist the data into different tabular ones by TAG, with our desired vertex id and properties fields like:\n",
    "\n",
    "| Vertex ID | Name | Description | Human Readable ID | Type |\n",
    "| --------- | ---- | ----------- | ----------------- | ---- |\n",
    "| entity_0  | ALEX MERCER                    | Alex Mercer is a character with a military backgro... | 0 | PERSON |\n",
    "| entity_1  | EXTRATERRESTRIAL RESEARCH      | The study of extraterrestrial life forms and their... | 1 | CONCEPT |\n",
    "| entity_2  | OPERATION: DULCE               | Operation: Dulce is a secretive mission undertaken... | 2 | EVENT |\n",
    "| entity_3  | DULCE MILITARY BASE            | The Dulce Military Base is a pivotal location in t... | 3 | GEO |\n",
    "| entity_4  | STRATEGIC MINDSET              | The approach of carefully considering the broader ... | 4 | ATTRIBUTE |\n",
    "\n",
    "\n"
   ]
  },
  {
   "cell_type": "code",
   "execution_count": 148,
   "id": "57c61551",
   "metadata": {},
   "outputs": [
    {
     "name": "stdout",
     "output_type": "stream",
     "text": [
      "All TAG CSV files have been created.\n",
      "%ng_load --header --source data/TAG_PERSON.csv --tag __Entity --vid 0 --props 1:name,3:human_readable_id,4:type,2:description --space ms_paper\n",
      "%ng_load --header --source data/TAG_PERSON.csv --tag PERSON --vid 0 --props 1:name,3:human_readable_id --space ms_paper\n",
      "%ng_load --header --source data/TAG_ORGANIZATION.csv --tag __Entity --vid 0 --props 1:name,3:human_readable_id,4:type,2:description --space ms_paper\n",
      "%ng_load --header --source data/TAG_ORGANIZATION.csv --tag ORGANIZATION --vid 0 --props 1:name,3:human_readable_id --space ms_paper\n",
      "%ng_load --header --source data/TAG_EVENT.csv --tag __Entity --vid 0 --props 1:name,3:human_readable_id,4:type,2:description --space ms_paper\n",
      "%ng_load --header --source data/TAG_EVENT.csv --tag EVENT --vid 0 --props 1:name,3:human_readable_id --space ms_paper\n",
      "%ng_load --header --source data/TAG_EXTRATERRESTRIAL_COMMUNICATION.csv --tag __Entity --vid 0 --props 1:name,3:human_readable_id,4:type,2:description --space ms_paper\n",
      "%ng_load --header --source data/TAG_EXTRATERRESTRIAL_COMMUNICATION.csv --tag EXTRATERRESTRIAL_COMMUNICATION --vid 0 --props 1:name,3:human_readable_id --space ms_paper\n",
      "%ng_load --header --source data/TAG_CONCEPT.csv --tag __Entity --vid 0 --props 1:name,3:human_readable_id,4:type,2:description --space ms_paper\n",
      "%ng_load --header --source data/TAG_CONCEPT.csv --tag CONCEPT --vid 0 --props 1:name,3:human_readable_id --space ms_paper\n",
      "%ng_load --header --source data/TAG_MISCELLANEOUS.csv --tag __Entity --vid 0 --props 1:name,3:human_readable_id,4:type,2:description --space ms_paper\n",
      "%ng_load --header --source data/TAG_MISCELLANEOUS.csv --tag MISCELLANEOUS --vid 0 --props 1:name,3:human_readable_id --space ms_paper\n",
      "%ng_load --header --source data/TAG_OBJECT.csv --tag __Entity --vid 0 --props 1:name,3:human_readable_id,4:type,2:description --space ms_paper\n",
      "%ng_load --header --source data/TAG_OBJECT.csv --tag OBJECT --vid 0 --props 1:name,3:human_readable_id --space ms_paper\n",
      "%ng_load --header --source data/TAG_GEO.csv --tag __Entity --vid 0 --props 1:name,3:human_readable_id,4:type,2:description --space ms_paper\n",
      "%ng_load --header --source data/TAG_GEO.csv --tag GEO --vid 0 --props 1:name,3:human_readable_id --space ms_paper\n",
      "%ng_load --header --source data/TAG_TASK.csv --tag __Entity --vid 0 --props 1:name,3:human_readable_id,4:type,2:description --space ms_paper\n",
      "%ng_load --header --source data/TAG_TASK.csv --tag TASK --vid 0 --props 1:name,3:human_readable_id --space ms_paper\n",
      "%ng_load --header --source data/TAG_FACILITY.csv --tag __Entity --vid 0 --props 1:name,3:human_readable_id,4:type,2:description --space ms_paper\n",
      "%ng_load --header --source data/TAG_FACILITY.csv --tag FACILITY --vid 0 --props 1:name,3:human_readable_id --space ms_paper\n",
      "%ng_load --header --source data/TAG_ATTRIBUTE.csv --tag __Entity --vid 0 --props 1:name,3:human_readable_id,4:type,2:description --space ms_paper\n",
      "%ng_load --header --source data/TAG_ATTRIBUTE.csv --tag ATTRIBUTE --vid 0 --props 1:name,3:human_readable_id --space ms_paper\n",
      "%ng_load --header --source data/TAG_STRATEGY.csv --tag __Entity --vid 0 --props 1:name,3:human_readable_id,4:type,2:description --space ms_paper\n",
      "%ng_load --header --source data/TAG_STRATEGY.csv --tag STRATEGY --vid 0 --props 1:name,3:human_readable_id --space ms_paper\n",
      "%ng_load --header --source data/TAG_ROLE.csv --tag __Entity --vid 0 --props 1:name,3:human_readable_id,4:type,2:description --space ms_paper\n",
      "%ng_load --header --source data/TAG_ROLE.csv --tag ROLE --vid 0 --props 1:name,3:human_readable_id --space ms_paper\n",
      "%ng_load --header --source data/TAG_PROJECT.csv --tag __Entity --vid 0 --props 1:name,3:human_readable_id,4:type,2:description --space ms_paper\n",
      "%ng_load --header --source data/TAG_PROJECT.csv --tag PROJECT --vid 0 --props 1:name,3:human_readable_id --space ms_paper\n",
      "%ng_load --header --source data/TAG_ACTIVITY.csv --tag __Entity --vid 0 --props 1:name,3:human_readable_id,4:type,2:description --space ms_paper\n",
      "%ng_load --header --source data/TAG_ACTIVITY.csv --tag ACTIVITY --vid 0 --props 1:name,3:human_readable_id --space ms_paper\n",
      "%ng_load --header --source data/TAG_PLACE.csv --tag __Entity --vid 0 --props 1:name,3:human_readable_id,4:type,2:description --space ms_paper\n",
      "%ng_load --header --source data/TAG_PLACE.csv --tag PLACE --vid 0 --props 1:name,3:human_readable_id --space ms_paper\n",
      "%ng_load --header --source data/TAG_SKILL.csv --tag __Entity --vid 0 --props 1:name,3:human_readable_id,4:type,2:description --space ms_paper\n",
      "%ng_load --header --source data/TAG_SKILL.csv --tag SKILL --vid 0 --props 1:name,3:human_readable_id --space ms_paper\n",
      "%ng_load --header --source data/TAG_TRAIT.csv --tag __Entity --vid 0 --props 1:name,3:human_readable_id,4:type,2:description --space ms_paper\n",
      "%ng_load --header --source data/TAG_TRAIT.csv --tag TRAIT --vid 0 --props 1:name,3:human_readable_id --space ms_paper\n",
      "%ng_load --header --source data/TAG_PHENOMENON.csv --tag __Entity --vid 0 --props 1:name,3:human_readable_id,4:type,2:description --space ms_paper\n",
      "%ng_load --header --source data/TAG_PHENOMENON.csv --tag PHENOMENON --vid 0 --props 1:name,3:human_readable_id --space ms_paper\n"
     ]
    }
   ],
   "source": [
    "# Persist data into multiple csv files named by TAG_{TAG}.csv\n",
    "import pandas as pd\n",
    "import os\n",
    "\n",
    "# Create a directory to store the CSV files\n",
    "os.makedirs(\"data\", exist_ok=True)\n",
    "\n",
    "# Group the dataframe by 'type'\n",
    "grouped = df_entities.groupby(\"type\")\n",
    "\n",
    "# Iterate through each group and save as a separate CSV file\n",
    "for tag, group in grouped:\n",
    "    tag_name = str(tag).replace(\" \", \"_\")\n",
    "\n",
    "    # Create a new dataframe with the desired columns\n",
    "    df_tag = pd.DataFrame(\n",
    "        {\n",
    "            \"Vertex ID\": \"entity_\" + group[\"human_readable_id\"].astype(str),\n",
    "            \"Name\": group[\"name\"].astype(str),\n",
    "            \"Description\": group[\"description\"].astype(str),\n",
    "            \"Human Readable ID\": group[\"human_readable_id\"].astype(int),\n",
    "            \"Type\": tag_name,\n",
    "        }\n",
    "    )\n",
    "\n",
    "    # Save the dataframe as a CSV file\n",
    "    csv_filename = f\"data/TAG_{tag_name}.csv\"\n",
    "    df_tag.to_csv(csv_filename, index=False)\n",
    "    # print(f\"Saved {csv_filename}\")\n",
    "\n",
    "print(\"All TAG CSV files have been created.\")\n",
    "\n",
    "# Print ng_load commands for each TAG file\n",
    "for tag in df_entities[\"type\"].unique():\n",
    "    tag_name = str(tag).replace(\" \", \"_\")\n",
    "    ng_load_command_entity = f\"%ng_load --header --source data/TAG_{tag_name}.csv --tag __Entity --vid 0 --props 1:name,3:human_readable_id,4:type,2:description --space ms_paper\"\n",
    "    ng_load_command_type = f\"%ng_load --header --source data/TAG_{tag_name}.csv --tag {tag_name} --vid 0 --props 1:name,3:human_readable_id --space ms_paper\"\n",
    "    print(ng_load_command_entity)\n",
    "    print(ng_load_command_type)"
   ]
  },
  {
   "cell_type": "markdown",
   "id": "d36c60dc",
   "metadata": {},
   "source": [
    "#### Load Entities Data to NebulaGraph\n",
    "\n",
    "##### Connect to NebulaGraph"
   ]
  },
  {
   "cell_type": "code",
   "execution_count": null,
   "id": "0310250a",
   "metadata": {},
   "outputs": [],
   "source": [
    "# %pip install jupyter-nebulagraph\n",
    "%load_ext ngql\n",
    "%ngql --address 127.0.0.1 --port 9669 --user root --password nebula"
   ]
  },
  {
   "cell_type": "markdown",
   "id": "94d463c7",
   "metadata": {},
   "source": [
    "##### Create Space"
   ]
  },
  {
   "cell_type": "code",
   "execution_count": null,
   "id": "b6a07de4",
   "metadata": {},
   "outputs": [],
   "source": [
    "%ngql CREATE SPACE IF NOT EXISTS ms_paper (partition_num=1, replica_factor=1, vid_type=FIXED_STRING(128));"
   ]
  },
  {
   "cell_type": "code",
   "execution_count": null,
   "id": "83a32f2a",
   "metadata": {},
   "outputs": [],
   "source": [
    "!sleep 20\n",
    "%ngql USE ms_paper"
   ]
  },
  {
   "cell_type": "markdown",
   "id": "65b4eacb",
   "metadata": {},
   "source": [
    "##### Create TAGs"
   ]
  },
  {
   "cell_type": "code",
   "execution_count": 145,
   "id": "8b14c5eb",
   "metadata": {},
   "outputs": [
    {
     "data": {
      "text/html": [
       "<div>\n",
       "<style scoped>\n",
       "    .dataframe tbody tr th:only-of-type {\n",
       "        vertical-align: middle;\n",
       "    }\n",
       "\n",
       "    .dataframe tbody tr th {\n",
       "        vertical-align: top;\n",
       "    }\n",
       "\n",
       "    .dataframe thead th {\n",
       "        text-align: right;\n",
       "    }\n",
       "</style>\n",
       "<table border=\"1\" class=\"dataframe\">\n",
       "  <thead>\n",
       "    <tr style=\"text-align: right;\">\n",
       "      <th></th>\n",
       "    </tr>\n",
       "  </thead>\n",
       "  <tbody>\n",
       "  </tbody>\n",
       "</table>\n",
       "</div>"
      ],
      "text/plain": [
       "Empty DataFrame\n",
       "Columns: []\n",
       "Index: []"
      ]
     },
     "execution_count": 145,
     "metadata": {},
     "output_type": "execute_result"
    }
   ],
   "source": [
    "%%ngql\n",
    "\n",
    "CREATE TAG IF NOT EXISTS `__Entity` (name string, human_readable_id int, type string, description string);\n",
    "\n",
    "CREATE TAG IF NOT EXISTS `PERSON` (name string, human_readable_id int);\n",
    "CREATE TAG IF NOT EXISTS `ORGANIZATION` (name string, human_readable_id int);\n",
    "CREATE TAG IF NOT EXISTS `EVENT` (name string, human_readable_id int);\n",
    "CREATE TAG IF NOT EXISTS `EXTRATERRESTRIAL_COMMUNICATION` (name string, human_readable_id int);\n",
    "CREATE TAG IF NOT EXISTS `CONCEPT` (name string, human_readable_id int);\n",
    "CREATE TAG IF NOT EXISTS `MISCELLANEOUS` (name string, human_readable_id int);\n",
    "CREATE TAG IF NOT EXISTS `OBJECT` (name string, human_readable_id int);\n",
    "CREATE TAG IF NOT EXISTS `GEO` (name string, human_readable_id int);\n",
    "CREATE TAG IF NOT EXISTS `TASK` (name string, human_readable_id int);\n",
    "CREATE TAG IF NOT EXISTS `FACILITY` (name string, human_readable_id int);\n",
    "CREATE TAG IF NOT EXISTS `ATTRIBUTE` (name string, human_readable_id int);\n",
    "CREATE TAG IF NOT EXISTS `STRATEGY` (name string, human_readable_id int);\n",
    "CREATE TAG IF NOT EXISTS `ROLE` (name string, human_readable_id int);\n",
    "CREATE TAG IF NOT EXISTS `PROJECT` (name string, human_readable_id int);\n",
    "CREATE TAG IF NOT EXISTS `ACTIVITY` (name string, human_readable_id int);\n",
    "CREATE TAG IF NOT EXISTS `PLACE` (name string, human_readable_id int);\n",
    "CREATE TAG IF NOT EXISTS `SKILL` (name string, human_readable_id int);\n",
    "CREATE TAG IF NOT EXISTS `TRAIT` (name string, human_readable_id int);\n",
    "CREATE TAG IF NOT EXISTS `PHENOMENON` (name string, human_readable_id int);\n"
   ]
  },
  {
   "cell_type": "code",
   "execution_count": 146,
   "id": "977134ca",
   "metadata": {},
   "outputs": [
    {
     "data": {
      "text/html": [
       "<div>\n",
       "<style scoped>\n",
       "    .dataframe tbody tr th:only-of-type {\n",
       "        vertical-align: middle;\n",
       "    }\n",
       "\n",
       "    .dataframe tbody tr th {\n",
       "        vertical-align: top;\n",
       "    }\n",
       "\n",
       "    .dataframe thead th {\n",
       "        text-align: right;\n",
       "    }\n",
       "</style>\n",
       "<table border=\"1\" class=\"dataframe\">\n",
       "  <thead>\n",
       "    <tr style=\"text-align: right;\">\n",
       "      <th></th>\n",
       "      <th>Name</th>\n",
       "    </tr>\n",
       "  </thead>\n",
       "  <tbody>\n",
       "    <tr>\n",
       "      <th>0</th>\n",
       "      <td>ACTIVITY</td>\n",
       "    </tr>\n",
       "    <tr>\n",
       "      <th>1</th>\n",
       "      <td>ATTRIBUTE</td>\n",
       "    </tr>\n",
       "    <tr>\n",
       "      <th>2</th>\n",
       "      <td>CONCEPT</td>\n",
       "    </tr>\n",
       "    <tr>\n",
       "      <th>3</th>\n",
       "      <td>EVENT</td>\n",
       "    </tr>\n",
       "    <tr>\n",
       "      <th>4</th>\n",
       "      <td>EXTRATERRESTRIAL_COMMUNICATION</td>\n",
       "    </tr>\n",
       "    <tr>\n",
       "      <th>5</th>\n",
       "      <td>FACILITY</td>\n",
       "    </tr>\n",
       "    <tr>\n",
       "      <th>6</th>\n",
       "      <td>GEO</td>\n",
       "    </tr>\n",
       "    <tr>\n",
       "      <th>7</th>\n",
       "      <td>MISCELLANEOUS</td>\n",
       "    </tr>\n",
       "    <tr>\n",
       "      <th>8</th>\n",
       "      <td>OBJECT</td>\n",
       "    </tr>\n",
       "    <tr>\n",
       "      <th>9</th>\n",
       "      <td>ORGANIZATION</td>\n",
       "    </tr>\n",
       "    <tr>\n",
       "      <th>10</th>\n",
       "      <td>PERSON</td>\n",
       "    </tr>\n",
       "    <tr>\n",
       "      <th>11</th>\n",
       "      <td>PHENOMENON</td>\n",
       "    </tr>\n",
       "    <tr>\n",
       "      <th>12</th>\n",
       "      <td>PLACE</td>\n",
       "    </tr>\n",
       "    <tr>\n",
       "      <th>13</th>\n",
       "      <td>PROJECT</td>\n",
       "    </tr>\n",
       "    <tr>\n",
       "      <th>14</th>\n",
       "      <td>ROLE</td>\n",
       "    </tr>\n",
       "    <tr>\n",
       "      <th>15</th>\n",
       "      <td>SKILL</td>\n",
       "    </tr>\n",
       "    <tr>\n",
       "      <th>16</th>\n",
       "      <td>STRATEGY</td>\n",
       "    </tr>\n",
       "    <tr>\n",
       "      <th>17</th>\n",
       "      <td>TASK</td>\n",
       "    </tr>\n",
       "    <tr>\n",
       "      <th>18</th>\n",
       "      <td>TRAIT</td>\n",
       "    </tr>\n",
       "    <tr>\n",
       "      <th>19</th>\n",
       "      <td>__Chunk</td>\n",
       "    </tr>\n",
       "    <tr>\n",
       "      <th>20</th>\n",
       "      <td>__Community</td>\n",
       "    </tr>\n",
       "    <tr>\n",
       "      <th>21</th>\n",
       "      <td>__Entity</td>\n",
       "    </tr>\n",
       "    <tr>\n",
       "      <th>22</th>\n",
       "      <td>__Finding</td>\n",
       "    </tr>\n",
       "  </tbody>\n",
       "</table>\n",
       "</div>"
      ],
      "text/plain": [
       "                              Name\n",
       "0                         ACTIVITY\n",
       "1                        ATTRIBUTE\n",
       "2                          CONCEPT\n",
       "3                            EVENT\n",
       "4   EXTRATERRESTRIAL_COMMUNICATION\n",
       "5                         FACILITY\n",
       "6                              GEO\n",
       "7                    MISCELLANEOUS\n",
       "8                           OBJECT\n",
       "9                     ORGANIZATION\n",
       "10                          PERSON\n",
       "11                      PHENOMENON\n",
       "12                           PLACE\n",
       "13                         PROJECT\n",
       "14                            ROLE\n",
       "15                           SKILL\n",
       "16                        STRATEGY\n",
       "17                            TASK\n",
       "18                           TRAIT\n",
       "19                         __Chunk\n",
       "20                     __Community\n",
       "21                        __Entity\n",
       "22                       __Finding"
      ]
     },
     "execution_count": 146,
     "metadata": {},
     "output_type": "execute_result"
    }
   ],
   "source": [
    "!sleep 20\n",
    "%ngql SHOW TAGS;"
   ]
  },
  {
   "cell_type": "code",
   "execution_count": 149,
   "id": "d587b59d",
   "metadata": {},
   "outputs": [
    {
     "name": "stdout",
     "output_type": "stream",
     "text": [
      "\u001b[1;3;38;2;0;120;215m[INFO] Parsed 98 vertices 'ms_paper' for tag '__Entity' in memory\u001b[0m\n"
     ]
    },
    {
     "data": {
      "application/vnd.jupyter.widget-view+json": {
       "model_id": "e1c242abc80843d49ddc1b4285948c09",
       "version_major": 2,
       "version_minor": 0
      },
      "text/plain": [
       "Loading Vertices:   0%|          | 0/1 [00:00<?, ?it/s]"
      ]
     },
     "metadata": {},
     "output_type": "display_data"
    },
    {
     "name": "stdout",
     "output_type": "stream",
     "text": [
      "Loaded 98 of 98 vertices\n",
      "\u001b[1;3;38;2;0;135;107m[INFO] Successfully loaded 98 vertices 'ms_paper' for tag '__Entity'\u001b[0m\n",
      "\u001b[1;3;38;2;0;120;215m[INFO] Parsed 98 vertices 'ms_paper' for tag 'PERSON' in memory\u001b[0m\n"
     ]
    },
    {
     "data": {
      "application/vnd.jupyter.widget-view+json": {
       "model_id": "9cb73d9b0332439d8bc868159a421ee7",
       "version_major": 2,
       "version_minor": 0
      },
      "text/plain": [
       "Loading Vertices:   0%|          | 0/1 [00:00<?, ?it/s]"
      ]
     },
     "metadata": {},
     "output_type": "display_data"
    },
    {
     "name": "stdout",
     "output_type": "stream",
     "text": [
      "Loaded 98 of 98 vertices\n",
      "\u001b[1;3;38;2;0;135;107m[INFO] Successfully loaded 98 vertices 'ms_paper' for tag 'PERSON'\u001b[0m\n",
      "\u001b[1;3;38;2;0;120;215m[INFO] Parsed 1 vertices 'ms_paper' for tag '__Entity' in memory\u001b[0m\n"
     ]
    },
    {
     "data": {
      "application/vnd.jupyter.widget-view+json": {
       "model_id": "6d0333fa9ea040848e98b3880113f2de",
       "version_major": 2,
       "version_minor": 0
      },
      "text/plain": [
       "Loading Vertices:   0%|          | 0/1 [00:00<?, ?it/s]"
      ]
     },
     "metadata": {},
     "output_type": "display_data"
    },
    {
     "name": "stdout",
     "output_type": "stream",
     "text": [
      "Loaded 1 of 1 vertices\n",
      "\u001b[1;3;38;2;0;135;107m[INFO] Successfully loaded 1 vertices 'ms_paper' for tag '__Entity'\u001b[0m\n",
      "\u001b[1;3;38;2;0;120;215m[INFO] Parsed 1 vertices 'ms_paper' for tag 'ORGANIZATION' in memory\u001b[0m\n"
     ]
    },
    {
     "data": {
      "application/vnd.jupyter.widget-view+json": {
       "model_id": "39279a4cb35b4ac2859f24a925de3378",
       "version_major": 2,
       "version_minor": 0
      },
      "text/plain": [
       "Loading Vertices:   0%|          | 0/1 [00:00<?, ?it/s]"
      ]
     },
     "metadata": {},
     "output_type": "display_data"
    },
    {
     "name": "stdout",
     "output_type": "stream",
     "text": [
      "Loaded 1 of 1 vertices\n",
      "\u001b[1;3;38;2;0;135;107m[INFO] Successfully loaded 1 vertices 'ms_paper' for tag 'ORGANIZATION'\u001b[0m\n",
      "\u001b[1;3;38;2;0;120;215m[INFO] Parsed 4 vertices 'ms_paper' for tag '__Entity' in memory\u001b[0m\n"
     ]
    },
    {
     "data": {
      "application/vnd.jupyter.widget-view+json": {
       "model_id": "eebb5544d2154540b602536f223459a0",
       "version_major": 2,
       "version_minor": 0
      },
      "text/plain": [
       "Loading Vertices:   0%|          | 0/1 [00:00<?, ?it/s]"
      ]
     },
     "metadata": {},
     "output_type": "display_data"
    },
    {
     "name": "stdout",
     "output_type": "stream",
     "text": [
      "Loaded 4 of 4 vertices\n",
      "\u001b[1;3;38;2;0;135;107m[INFO] Successfully loaded 4 vertices 'ms_paper' for tag '__Entity'\u001b[0m\n",
      "\u001b[1;3;38;2;0;120;215m[INFO] Parsed 4 vertices 'ms_paper' for tag 'EVENT' in memory\u001b[0m\n"
     ]
    },
    {
     "data": {
      "application/vnd.jupyter.widget-view+json": {
       "model_id": "1b94ad7ee70b4a078ea1917486143d0e",
       "version_major": 2,
       "version_minor": 0
      },
      "text/plain": [
       "Loading Vertices:   0%|          | 0/1 [00:00<?, ?it/s]"
      ]
     },
     "metadata": {},
     "output_type": "display_data"
    },
    {
     "name": "stdout",
     "output_type": "stream",
     "text": [
      "Loaded 4 of 4 vertices\n",
      "\u001b[1;3;38;2;0;135;107m[INFO] Successfully loaded 4 vertices 'ms_paper' for tag 'EVENT'\u001b[0m\n",
      "\u001b[1;3;38;2;0;120;215m[INFO] Parsed 1 vertices 'ms_paper' for tag '__Entity' in memory\u001b[0m\n"
     ]
    },
    {
     "data": {
      "application/vnd.jupyter.widget-view+json": {
       "model_id": "04298724907941b89330509092cb4229",
       "version_major": 2,
       "version_minor": 0
      },
      "text/plain": [
       "Loading Vertices:   0%|          | 0/1 [00:00<?, ?it/s]"
      ]
     },
     "metadata": {},
     "output_type": "display_data"
    },
    {
     "name": "stdout",
     "output_type": "stream",
     "text": [
      "Loaded 1 of 1 vertices\n",
      "\u001b[1;3;38;2;0;135;107m[INFO] Successfully loaded 1 vertices 'ms_paper' for tag '__Entity'\u001b[0m\n",
      "\u001b[1;3;38;2;0;120;215m[INFO] Parsed 1 vertices 'ms_paper' for tag 'EXTRATERRESTRIAL_COMMUNICATION' in memory\u001b[0m\n"
     ]
    },
    {
     "data": {
      "application/vnd.jupyter.widget-view+json": {
       "model_id": "e7e269e210ea494db41076fe04420f15",
       "version_major": 2,
       "version_minor": 0
      },
      "text/plain": [
       "Loading Vertices:   0%|          | 0/1 [00:00<?, ?it/s]"
      ]
     },
     "metadata": {},
     "output_type": "display_data"
    },
    {
     "name": "stdout",
     "output_type": "stream",
     "text": [
      "Loaded 1 of 1 vertices\n",
      "\u001b[1;3;38;2;0;135;107m[INFO] Successfully loaded 1 vertices 'ms_paper' for tag 'EXTRATERRESTRIAL_COMMUNICATION'\u001b[0m\n",
      "\u001b[1;3;38;2;0;120;215m[INFO] Parsed 90 vertices 'ms_paper' for tag '__Entity' in memory\u001b[0m\n"
     ]
    },
    {
     "data": {
      "application/vnd.jupyter.widget-view+json": {
       "model_id": "9bf83600ae274fad98fa5ecca2fc3f5d",
       "version_major": 2,
       "version_minor": 0
      },
      "text/plain": [
       "Loading Vertices:   0%|          | 0/1 [00:00<?, ?it/s]"
      ]
     },
     "metadata": {},
     "output_type": "display_data"
    },
    {
     "name": "stdout",
     "output_type": "stream",
     "text": [
      "Loaded 90 of 90 vertices\n",
      "\u001b[1;3;38;2;0;135;107m[INFO] Successfully loaded 90 vertices 'ms_paper' for tag '__Entity'\u001b[0m\n",
      "\u001b[1;3;38;2;0;120;215m[INFO] Parsed 90 vertices 'ms_paper' for tag 'CONCEPT' in memory\u001b[0m\n"
     ]
    },
    {
     "data": {
      "application/vnd.jupyter.widget-view+json": {
       "model_id": "eb64ea511d1b4dd69dc7d2f6b380a332",
       "version_major": 2,
       "version_minor": 0
      },
      "text/plain": [
       "Loading Vertices:   0%|          | 0/1 [00:00<?, ?it/s]"
      ]
     },
     "metadata": {},
     "output_type": "display_data"
    },
    {
     "name": "stdout",
     "output_type": "stream",
     "text": [
      "Loaded 90 of 90 vertices\n",
      "\u001b[1;3;38;2;0;135;107m[INFO] Successfully loaded 90 vertices 'ms_paper' for tag 'CONCEPT'\u001b[0m\n",
      "\u001b[1;3;38;2;0;120;215m[INFO] Parsed 4 vertices 'ms_paper' for tag '__Entity' in memory\u001b[0m\n"
     ]
    },
    {
     "data": {
      "application/vnd.jupyter.widget-view+json": {
       "model_id": "e44ec61dfce64d218a6ecf91d2c6c90c",
       "version_major": 2,
       "version_minor": 0
      },
      "text/plain": [
       "Loading Vertices:   0%|          | 0/1 [00:00<?, ?it/s]"
      ]
     },
     "metadata": {},
     "output_type": "display_data"
    },
    {
     "name": "stdout",
     "output_type": "stream",
     "text": [
      "Loaded 4 of 4 vertices\n",
      "\u001b[1;3;38;2;0;135;107m[INFO] Successfully loaded 4 vertices 'ms_paper' for tag '__Entity'\u001b[0m\n",
      "\u001b[1;3;38;2;0;120;215m[INFO] Parsed 4 vertices 'ms_paper' for tag 'MISCELLANEOUS' in memory\u001b[0m\n"
     ]
    },
    {
     "data": {
      "application/vnd.jupyter.widget-view+json": {
       "model_id": "085a924d637c4761b5b3f9a4c531c79d",
       "version_major": 2,
       "version_minor": 0
      },
      "text/plain": [
       "Loading Vertices:   0%|          | 0/1 [00:00<?, ?it/s]"
      ]
     },
     "metadata": {},
     "output_type": "display_data"
    },
    {
     "name": "stdout",
     "output_type": "stream",
     "text": [
      "Loaded 4 of 4 vertices\n",
      "\u001b[1;3;38;2;0;135;107m[INFO] Successfully loaded 4 vertices 'ms_paper' for tag 'MISCELLANEOUS'\u001b[0m\n",
      "\u001b[1;3;38;2;0;120;215m[INFO] Parsed 2 vertices 'ms_paper' for tag '__Entity' in memory\u001b[0m\n"
     ]
    },
    {
     "data": {
      "application/vnd.jupyter.widget-view+json": {
       "model_id": "32371395860740179b87d0da9ae87dfb",
       "version_major": 2,
       "version_minor": 0
      },
      "text/plain": [
       "Loading Vertices:   0%|          | 0/1 [00:00<?, ?it/s]"
      ]
     },
     "metadata": {},
     "output_type": "display_data"
    },
    {
     "name": "stdout",
     "output_type": "stream",
     "text": [
      "Loaded 2 of 2 vertices\n",
      "\u001b[1;3;38;2;0;135;107m[INFO] Successfully loaded 2 vertices 'ms_paper' for tag '__Entity'\u001b[0m\n",
      "\u001b[1;3;38;2;0;120;215m[INFO] Parsed 2 vertices 'ms_paper' for tag 'OBJECT' in memory\u001b[0m\n"
     ]
    },
    {
     "data": {
      "application/vnd.jupyter.widget-view+json": {
       "model_id": "6f2962c1e7044901b0f4ed8d0cd85e7a",
       "version_major": 2,
       "version_minor": 0
      },
      "text/plain": [
       "Loading Vertices:   0%|          | 0/1 [00:00<?, ?it/s]"
      ]
     },
     "metadata": {},
     "output_type": "display_data"
    },
    {
     "name": "stdout",
     "output_type": "stream",
     "text": [
      "Loaded 2 of 2 vertices\n",
      "\u001b[1;3;38;2;0;135;107m[INFO] Successfully loaded 2 vertices 'ms_paper' for tag 'OBJECT'\u001b[0m\n",
      "\u001b[1;3;38;2;0;120;215m[INFO] Parsed 4 vertices 'ms_paper' for tag '__Entity' in memory\u001b[0m\n"
     ]
    },
    {
     "data": {
      "application/vnd.jupyter.widget-view+json": {
       "model_id": "30362e7d05604fadbcdb24406f567905",
       "version_major": 2,
       "version_minor": 0
      },
      "text/plain": [
       "Loading Vertices:   0%|          | 0/1 [00:00<?, ?it/s]"
      ]
     },
     "metadata": {},
     "output_type": "display_data"
    },
    {
     "name": "stdout",
     "output_type": "stream",
     "text": [
      "Loaded 4 of 4 vertices\n",
      "\u001b[1;3;38;2;0;135;107m[INFO] Successfully loaded 4 vertices 'ms_paper' for tag '__Entity'\u001b[0m\n",
      "\u001b[1;3;38;2;0;120;215m[INFO] Parsed 4 vertices 'ms_paper' for tag 'GEO' in memory\u001b[0m\n"
     ]
    },
    {
     "data": {
      "application/vnd.jupyter.widget-view+json": {
       "model_id": "3cd801ed3a7e492b9b16e47c68c5be4e",
       "version_major": 2,
       "version_minor": 0
      },
      "text/plain": [
       "Loading Vertices:   0%|          | 0/1 [00:00<?, ?it/s]"
      ]
     },
     "metadata": {},
     "output_type": "display_data"
    },
    {
     "name": "stdout",
     "output_type": "stream",
     "text": [
      "Loaded 4 of 4 vertices\n",
      "\u001b[1;3;38;2;0;135;107m[INFO] Successfully loaded 4 vertices 'ms_paper' for tag 'GEO'\u001b[0m\n",
      "\u001b[1;3;38;2;0;120;215m[INFO] Parsed 1 vertices 'ms_paper' for tag '__Entity' in memory\u001b[0m\n"
     ]
    },
    {
     "data": {
      "application/vnd.jupyter.widget-view+json": {
       "model_id": "b59581f550ff462a8e4dd211bfba93bd",
       "version_major": 2,
       "version_minor": 0
      },
      "text/plain": [
       "Loading Vertices:   0%|          | 0/1 [00:00<?, ?it/s]"
      ]
     },
     "metadata": {},
     "output_type": "display_data"
    },
    {
     "name": "stdout",
     "output_type": "stream",
     "text": [
      "Loaded 1 of 1 vertices\n",
      "\u001b[1;3;38;2;0;135;107m[INFO] Successfully loaded 1 vertices 'ms_paper' for tag '__Entity'\u001b[0m\n",
      "\u001b[1;3;38;2;0;120;215m[INFO] Parsed 1 vertices 'ms_paper' for tag 'TASK' in memory\u001b[0m\n"
     ]
    },
    {
     "data": {
      "application/vnd.jupyter.widget-view+json": {
       "model_id": "3c05f20f0fe64acb9d454686f8c750ad",
       "version_major": 2,
       "version_minor": 0
      },
      "text/plain": [
       "Loading Vertices:   0%|          | 0/1 [00:00<?, ?it/s]"
      ]
     },
     "metadata": {},
     "output_type": "display_data"
    },
    {
     "name": "stdout",
     "output_type": "stream",
     "text": [
      "Loaded 1 of 1 vertices\n",
      "\u001b[1;3;38;2;0;135;107m[INFO] Successfully loaded 1 vertices 'ms_paper' for tag 'TASK'\u001b[0m\n",
      "\u001b[1;3;38;2;0;120;215m[INFO] Parsed 1 vertices 'ms_paper' for tag '__Entity' in memory\u001b[0m\n"
     ]
    },
    {
     "data": {
      "application/vnd.jupyter.widget-view+json": {
       "model_id": "8cf08dc6273540af9fea76300bb4b65f",
       "version_major": 2,
       "version_minor": 0
      },
      "text/plain": [
       "Loading Vertices:   0%|          | 0/1 [00:00<?, ?it/s]"
      ]
     },
     "metadata": {},
     "output_type": "display_data"
    },
    {
     "name": "stdout",
     "output_type": "stream",
     "text": [
      "Loaded 1 of 1 vertices\n",
      "\u001b[1;3;38;2;0;135;107m[INFO] Successfully loaded 1 vertices 'ms_paper' for tag '__Entity'\u001b[0m\n",
      "\u001b[1;3;38;2;0;120;215m[INFO] Parsed 1 vertices 'ms_paper' for tag 'FACILITY' in memory\u001b[0m\n"
     ]
    },
    {
     "data": {
      "application/vnd.jupyter.widget-view+json": {
       "model_id": "43ef591d1de747a6ade0ca565be86743",
       "version_major": 2,
       "version_minor": 0
      },
      "text/plain": [
       "Loading Vertices:   0%|          | 0/1 [00:00<?, ?it/s]"
      ]
     },
     "metadata": {},
     "output_type": "display_data"
    },
    {
     "name": "stdout",
     "output_type": "stream",
     "text": [
      "Loaded 1 of 1 vertices\n",
      "\u001b[1;3;38;2;0;135;107m[INFO] Successfully loaded 1 vertices 'ms_paper' for tag 'FACILITY'\u001b[0m\n",
      "\u001b[1;3;38;2;0;120;215m[INFO] Parsed 3 vertices 'ms_paper' for tag '__Entity' in memory\u001b[0m\n"
     ]
    },
    {
     "data": {
      "application/vnd.jupyter.widget-view+json": {
       "model_id": "a46d0d18ed4341069bb9a9f4b1ea6ce5",
       "version_major": 2,
       "version_minor": 0
      },
      "text/plain": [
       "Loading Vertices:   0%|          | 0/1 [00:00<?, ?it/s]"
      ]
     },
     "metadata": {},
     "output_type": "display_data"
    },
    {
     "name": "stdout",
     "output_type": "stream",
     "text": [
      "Loaded 3 of 3 vertices\n",
      "\u001b[1;3;38;2;0;135;107m[INFO] Successfully loaded 3 vertices 'ms_paper' for tag '__Entity'\u001b[0m\n",
      "\u001b[1;3;38;2;0;120;215m[INFO] Parsed 3 vertices 'ms_paper' for tag 'ATTRIBUTE' in memory\u001b[0m\n"
     ]
    },
    {
     "data": {
      "application/vnd.jupyter.widget-view+json": {
       "model_id": "e7dd4780cb2247e19c768104d7a37c04",
       "version_major": 2,
       "version_minor": 0
      },
      "text/plain": [
       "Loading Vertices:   0%|          | 0/1 [00:00<?, ?it/s]"
      ]
     },
     "metadata": {},
     "output_type": "display_data"
    },
    {
     "name": "stdout",
     "output_type": "stream",
     "text": [
      "Loaded 3 of 3 vertices\n",
      "\u001b[1;3;38;2;0;135;107m[INFO] Successfully loaded 3 vertices 'ms_paper' for tag 'ATTRIBUTE'\u001b[0m\n",
      "\u001b[1;3;38;2;0;120;215m[INFO] Parsed 1 vertices 'ms_paper' for tag '__Entity' in memory\u001b[0m\n"
     ]
    },
    {
     "data": {
      "application/vnd.jupyter.widget-view+json": {
       "model_id": "1806ff70cea2474c89972e1aa25e1ec5",
       "version_major": 2,
       "version_minor": 0
      },
      "text/plain": [
       "Loading Vertices:   0%|          | 0/1 [00:00<?, ?it/s]"
      ]
     },
     "metadata": {},
     "output_type": "display_data"
    },
    {
     "name": "stdout",
     "output_type": "stream",
     "text": [
      "Loaded 1 of 1 vertices\n",
      "\u001b[1;3;38;2;0;135;107m[INFO] Successfully loaded 1 vertices 'ms_paper' for tag '__Entity'\u001b[0m\n",
      "\u001b[1;3;38;2;0;120;215m[INFO] Parsed 1 vertices 'ms_paper' for tag 'STRATEGY' in memory\u001b[0m\n"
     ]
    },
    {
     "data": {
      "application/vnd.jupyter.widget-view+json": {
       "model_id": "9303f00a2dbd4d18ae8dcaf554c8aa96",
       "version_major": 2,
       "version_minor": 0
      },
      "text/plain": [
       "Loading Vertices:   0%|          | 0/1 [00:00<?, ?it/s]"
      ]
     },
     "metadata": {},
     "output_type": "display_data"
    },
    {
     "name": "stdout",
     "output_type": "stream",
     "text": [
      "Loaded 1 of 1 vertices\n",
      "\u001b[1;3;38;2;0;135;107m[INFO] Successfully loaded 1 vertices 'ms_paper' for tag 'STRATEGY'\u001b[0m\n",
      "\u001b[1;3;38;2;0;120;215m[INFO] Parsed 1 vertices 'ms_paper' for tag '__Entity' in memory\u001b[0m\n"
     ]
    },
    {
     "data": {
      "application/vnd.jupyter.widget-view+json": {
       "model_id": "206525ae52504a4192530425522eb176",
       "version_major": 2,
       "version_minor": 0
      },
      "text/plain": [
       "Loading Vertices:   0%|          | 0/1 [00:00<?, ?it/s]"
      ]
     },
     "metadata": {},
     "output_type": "display_data"
    },
    {
     "name": "stdout",
     "output_type": "stream",
     "text": [
      "Loaded 1 of 1 vertices\n",
      "\u001b[1;3;38;2;0;135;107m[INFO] Successfully loaded 1 vertices 'ms_paper' for tag '__Entity'\u001b[0m\n",
      "\u001b[1;3;38;2;0;120;215m[INFO] Parsed 1 vertices 'ms_paper' for tag 'ROLE' in memory\u001b[0m\n"
     ]
    },
    {
     "data": {
      "application/vnd.jupyter.widget-view+json": {
       "model_id": "3ad3da4d24bf4d718604674567426492",
       "version_major": 2,
       "version_minor": 0
      },
      "text/plain": [
       "Loading Vertices:   0%|          | 0/1 [00:00<?, ?it/s]"
      ]
     },
     "metadata": {},
     "output_type": "display_data"
    },
    {
     "name": "stdout",
     "output_type": "stream",
     "text": [
      "Loaded 1 of 1 vertices\n",
      "\u001b[1;3;38;2;0;135;107m[INFO] Successfully loaded 1 vertices 'ms_paper' for tag 'ROLE'\u001b[0m\n",
      "\u001b[1;3;38;2;0;120;215m[INFO] Parsed 1 vertices 'ms_paper' for tag '__Entity' in memory\u001b[0m\n"
     ]
    },
    {
     "data": {
      "application/vnd.jupyter.widget-view+json": {
       "model_id": "271c2f8ecdec4bf89d03513374c46136",
       "version_major": 2,
       "version_minor": 0
      },
      "text/plain": [
       "Loading Vertices:   0%|          | 0/1 [00:00<?, ?it/s]"
      ]
     },
     "metadata": {},
     "output_type": "display_data"
    },
    {
     "name": "stdout",
     "output_type": "stream",
     "text": [
      "Loaded 1 of 1 vertices\n",
      "\u001b[1;3;38;2;0;135;107m[INFO] Successfully loaded 1 vertices 'ms_paper' for tag '__Entity'\u001b[0m\n",
      "\u001b[1;3;38;2;0;120;215m[INFO] Parsed 1 vertices 'ms_paper' for tag 'PROJECT' in memory\u001b[0m\n"
     ]
    },
    {
     "data": {
      "application/vnd.jupyter.widget-view+json": {
       "model_id": "1681f151dd354c35bb728c1fe452c25d",
       "version_major": 2,
       "version_minor": 0
      },
      "text/plain": [
       "Loading Vertices:   0%|          | 0/1 [00:00<?, ?it/s]"
      ]
     },
     "metadata": {},
     "output_type": "display_data"
    },
    {
     "name": "stdout",
     "output_type": "stream",
     "text": [
      "Loaded 1 of 1 vertices\n",
      "\u001b[1;3;38;2;0;135;107m[INFO] Successfully loaded 1 vertices 'ms_paper' for tag 'PROJECT'\u001b[0m\n",
      "\u001b[1;3;38;2;0;120;215m[INFO] Parsed 1 vertices 'ms_paper' for tag '__Entity' in memory\u001b[0m\n"
     ]
    },
    {
     "data": {
      "application/vnd.jupyter.widget-view+json": {
       "model_id": "39877960e3324572bb974350aa0812ce",
       "version_major": 2,
       "version_minor": 0
      },
      "text/plain": [
       "Loading Vertices:   0%|          | 0/1 [00:00<?, ?it/s]"
      ]
     },
     "metadata": {},
     "output_type": "display_data"
    },
    {
     "name": "stdout",
     "output_type": "stream",
     "text": [
      "Loaded 1 of 1 vertices\n",
      "\u001b[1;3;38;2;0;135;107m[INFO] Successfully loaded 1 vertices 'ms_paper' for tag '__Entity'\u001b[0m\n",
      "\u001b[1;3;38;2;0;120;215m[INFO] Parsed 1 vertices 'ms_paper' for tag 'ACTIVITY' in memory\u001b[0m\n"
     ]
    },
    {
     "data": {
      "application/vnd.jupyter.widget-view+json": {
       "model_id": "ae6ac62bb6904937b9a13d2539260dfa",
       "version_major": 2,
       "version_minor": 0
      },
      "text/plain": [
       "Loading Vertices:   0%|          | 0/1 [00:00<?, ?it/s]"
      ]
     },
     "metadata": {},
     "output_type": "display_data"
    },
    {
     "name": "stdout",
     "output_type": "stream",
     "text": [
      "Loaded 1 of 1 vertices\n",
      "\u001b[1;3;38;2;0;135;107m[INFO] Successfully loaded 1 vertices 'ms_paper' for tag 'ACTIVITY'\u001b[0m\n",
      "\u001b[1;3;38;2;0;120;215m[INFO] Parsed 1 vertices 'ms_paper' for tag '__Entity' in memory\u001b[0m\n"
     ]
    },
    {
     "data": {
      "application/vnd.jupyter.widget-view+json": {
       "model_id": "e3f6dfc8e43246fcbf1141325a8ff17a",
       "version_major": 2,
       "version_minor": 0
      },
      "text/plain": [
       "Loading Vertices:   0%|          | 0/1 [00:00<?, ?it/s]"
      ]
     },
     "metadata": {},
     "output_type": "display_data"
    },
    {
     "name": "stdout",
     "output_type": "stream",
     "text": [
      "Loaded 1 of 1 vertices\n",
      "\u001b[1;3;38;2;0;135;107m[INFO] Successfully loaded 1 vertices 'ms_paper' for tag '__Entity'\u001b[0m\n",
      "\u001b[1;3;38;2;0;120;215m[INFO] Parsed 1 vertices 'ms_paper' for tag 'PLACE' in memory\u001b[0m\n"
     ]
    },
    {
     "data": {
      "application/vnd.jupyter.widget-view+json": {
       "model_id": "e1afdf6140b540cda3c1f98a0a1c8499",
       "version_major": 2,
       "version_minor": 0
      },
      "text/plain": [
       "Loading Vertices:   0%|          | 0/1 [00:00<?, ?it/s]"
      ]
     },
     "metadata": {},
     "output_type": "display_data"
    },
    {
     "name": "stdout",
     "output_type": "stream",
     "text": [
      "Loaded 1 of 1 vertices\n",
      "\u001b[1;3;38;2;0;135;107m[INFO] Successfully loaded 1 vertices 'ms_paper' for tag 'PLACE'\u001b[0m\n",
      "\u001b[1;3;38;2;0;120;215m[INFO] Parsed 1 vertices 'ms_paper' for tag '__Entity' in memory\u001b[0m\n"
     ]
    },
    {
     "data": {
      "application/vnd.jupyter.widget-view+json": {
       "model_id": "45f00240d07d42c2a83a2507df7c46e3",
       "version_major": 2,
       "version_minor": 0
      },
      "text/plain": [
       "Loading Vertices:   0%|          | 0/1 [00:00<?, ?it/s]"
      ]
     },
     "metadata": {},
     "output_type": "display_data"
    },
    {
     "name": "stdout",
     "output_type": "stream",
     "text": [
      "Loaded 1 of 1 vertices\n",
      "\u001b[1;3;38;2;0;135;107m[INFO] Successfully loaded 1 vertices 'ms_paper' for tag '__Entity'\u001b[0m\n",
      "\u001b[1;3;38;2;0;120;215m[INFO] Parsed 1 vertices 'ms_paper' for tag 'SKILL' in memory\u001b[0m\n"
     ]
    },
    {
     "data": {
      "application/vnd.jupyter.widget-view+json": {
       "model_id": "598cf66a334840d4947385e6e3ddd38a",
       "version_major": 2,
       "version_minor": 0
      },
      "text/plain": [
       "Loading Vertices:   0%|          | 0/1 [00:00<?, ?it/s]"
      ]
     },
     "metadata": {},
     "output_type": "display_data"
    },
    {
     "name": "stdout",
     "output_type": "stream",
     "text": [
      "Loaded 1 of 1 vertices\n",
      "\u001b[1;3;38;2;0;135;107m[INFO] Successfully loaded 1 vertices 'ms_paper' for tag 'SKILL'\u001b[0m\n",
      "\u001b[1;3;38;2;0;120;215m[INFO] Parsed 1 vertices 'ms_paper' for tag '__Entity' in memory\u001b[0m\n"
     ]
    },
    {
     "data": {
      "application/vnd.jupyter.widget-view+json": {
       "model_id": "12d0fc0c50fe4fa69eb687a5be2cb6da",
       "version_major": 2,
       "version_minor": 0
      },
      "text/plain": [
       "Loading Vertices:   0%|          | 0/1 [00:00<?, ?it/s]"
      ]
     },
     "metadata": {},
     "output_type": "display_data"
    },
    {
     "name": "stdout",
     "output_type": "stream",
     "text": [
      "Loaded 1 of 1 vertices\n",
      "\u001b[1;3;38;2;0;135;107m[INFO] Successfully loaded 1 vertices 'ms_paper' for tag '__Entity'\u001b[0m\n",
      "\u001b[1;3;38;2;0;120;215m[INFO] Parsed 1 vertices 'ms_paper' for tag 'TRAIT' in memory\u001b[0m\n"
     ]
    },
    {
     "data": {
      "application/vnd.jupyter.widget-view+json": {
       "model_id": "403c1ab189724477948181da98740ed5",
       "version_major": 2,
       "version_minor": 0
      },
      "text/plain": [
       "Loading Vertices:   0%|          | 0/1 [00:00<?, ?it/s]"
      ]
     },
     "metadata": {},
     "output_type": "display_data"
    },
    {
     "name": "stdout",
     "output_type": "stream",
     "text": [
      "Loaded 1 of 1 vertices\n",
      "\u001b[1;3;38;2;0;135;107m[INFO] Successfully loaded 1 vertices 'ms_paper' for tag 'TRAIT'\u001b[0m\n",
      "\u001b[1;3;38;2;0;120;215m[INFO] Parsed 1 vertices 'ms_paper' for tag '__Entity' in memory\u001b[0m\n"
     ]
    },
    {
     "data": {
      "application/vnd.jupyter.widget-view+json": {
       "model_id": "3747256fb7754f129eec8832a6720821",
       "version_major": 2,
       "version_minor": 0
      },
      "text/plain": [
       "Loading Vertices:   0%|          | 0/1 [00:00<?, ?it/s]"
      ]
     },
     "metadata": {},
     "output_type": "display_data"
    },
    {
     "name": "stdout",
     "output_type": "stream",
     "text": [
      "Loaded 1 of 1 vertices\n",
      "\u001b[1;3;38;2;0;135;107m[INFO] Successfully loaded 1 vertices 'ms_paper' for tag '__Entity'\u001b[0m\n",
      "\u001b[1;3;38;2;0;120;215m[INFO] Parsed 1 vertices 'ms_paper' for tag 'PHENOMENON' in memory\u001b[0m\n"
     ]
    },
    {
     "data": {
      "application/vnd.jupyter.widget-view+json": {
       "model_id": "fd2c3af1c2c0455e95e8baebc04d5ec1",
       "version_major": 2,
       "version_minor": 0
      },
      "text/plain": [
       "Loading Vertices:   0%|          | 0/1 [00:00<?, ?it/s]"
      ]
     },
     "metadata": {},
     "output_type": "display_data"
    },
    {
     "name": "stdout",
     "output_type": "stream",
     "text": [
      "Loaded 1 of 1 vertices\n",
      "\u001b[1;3;38;2;0;135;107m[INFO] Successfully loaded 1 vertices 'ms_paper' for tag 'PHENOMENON'\u001b[0m\n"
     ]
    }
   ],
   "source": [
    "\n",
    "%ng_load --header --source data/TAG_PERSON.csv --tag __Entity --vid 0 --props 1:name,3:human_readable_id,4:type,2:description --space ms_paper\n",
    "%ng_load --header --source data/TAG_PERSON.csv --tag PERSON --vid 0 --props 1:name,3:human_readable_id --space ms_paper\n",
    "%ng_load --header --source data/TAG_ORGANIZATION.csv --tag __Entity --vid 0 --props 1:name,3:human_readable_id,4:type,2:description --space ms_paper\n",
    "%ng_load --header --source data/TAG_ORGANIZATION.csv --tag ORGANIZATION --vid 0 --props 1:name,3:human_readable_id --space ms_paper\n",
    "%ng_load --header --source data/TAG_EVENT.csv --tag __Entity --vid 0 --props 1:name,3:human_readable_id,4:type,2:description --space ms_paper\n",
    "%ng_load --header --source data/TAG_EVENT.csv --tag EVENT --vid 0 --props 1:name,3:human_readable_id --space ms_paper\n",
    "%ng_load --header --source data/TAG_EXTRATERRESTRIAL_COMMUNICATION.csv --tag __Entity --vid 0 --props 1:name,3:human_readable_id,4:type,2:description --space ms_paper\n",
    "%ng_load --header --source data/TAG_EXTRATERRESTRIAL_COMMUNICATION.csv --tag EXTRATERRESTRIAL_COMMUNICATION --vid 0 --props 1:name,3:human_readable_id --space ms_paper\n",
    "%ng_load --header --source data/TAG_CONCEPT.csv --tag __Entity --vid 0 --props 1:name,3:human_readable_id,4:type,2:description --space ms_paper\n",
    "%ng_load --header --source data/TAG_CONCEPT.csv --tag CONCEPT --vid 0 --props 1:name,3:human_readable_id --space ms_paper\n",
    "%ng_load --header --source data/TAG_MISCELLANEOUS.csv --tag __Entity --vid 0 --props 1:name,3:human_readable_id,4:type,2:description --space ms_paper\n",
    "%ng_load --header --source data/TAG_MISCELLANEOUS.csv --tag MISCELLANEOUS --vid 0 --props 1:name,3:human_readable_id --space ms_paper\n",
    "%ng_load --header --source data/TAG_OBJECT.csv --tag __Entity --vid 0 --props 1:name,3:human_readable_id,4:type,2:description --space ms_paper\n",
    "%ng_load --header --source data/TAG_OBJECT.csv --tag OBJECT --vid 0 --props 1:name,3:human_readable_id --space ms_paper\n",
    "%ng_load --header --source data/TAG_GEO.csv --tag __Entity --vid 0 --props 1:name,3:human_readable_id,4:type,2:description --space ms_paper\n",
    "%ng_load --header --source data/TAG_GEO.csv --tag GEO --vid 0 --props 1:name,3:human_readable_id --space ms_paper\n",
    "%ng_load --header --source data/TAG_TASK.csv --tag __Entity --vid 0 --props 1:name,3:human_readable_id,4:type,2:description --space ms_paper\n",
    "%ng_load --header --source data/TAG_TASK.csv --tag TASK --vid 0 --props 1:name,3:human_readable_id --space ms_paper\n",
    "%ng_load --header --source data/TAG_FACILITY.csv --tag __Entity --vid 0 --props 1:name,3:human_readable_id,4:type,2:description --space ms_paper\n",
    "%ng_load --header --source data/TAG_FACILITY.csv --tag FACILITY --vid 0 --props 1:name,3:human_readable_id --space ms_paper\n",
    "%ng_load --header --source data/TAG_ATTRIBUTE.csv --tag __Entity --vid 0 --props 1:name,3:human_readable_id,4:type,2:description --space ms_paper\n",
    "%ng_load --header --source data/TAG_ATTRIBUTE.csv --tag ATTRIBUTE --vid 0 --props 1:name,3:human_readable_id --space ms_paper\n",
    "%ng_load --header --source data/TAG_STRATEGY.csv --tag __Entity --vid 0 --props 1:name,3:human_readable_id,4:type,2:description --space ms_paper\n",
    "%ng_load --header --source data/TAG_STRATEGY.csv --tag STRATEGY --vid 0 --props 1:name,3:human_readable_id --space ms_paper\n",
    "%ng_load --header --source data/TAG_ROLE.csv --tag __Entity --vid 0 --props 1:name,3:human_readable_id,4:type,2:description --space ms_paper\n",
    "%ng_load --header --source data/TAG_ROLE.csv --tag ROLE --vid 0 --props 1:name,3:human_readable_id --space ms_paper\n",
    "%ng_load --header --source data/TAG_PROJECT.csv --tag __Entity --vid 0 --props 1:name,3:human_readable_id,4:type,2:description --space ms_paper\n",
    "%ng_load --header --source data/TAG_PROJECT.csv --tag PROJECT --vid 0 --props 1:name,3:human_readable_id --space ms_paper\n",
    "%ng_load --header --source data/TAG_ACTIVITY.csv --tag __Entity --vid 0 --props 1:name,3:human_readable_id,4:type,2:description --space ms_paper\n",
    "%ng_load --header --source data/TAG_ACTIVITY.csv --tag ACTIVITY --vid 0 --props 1:name,3:human_readable_id --space ms_paper\n",
    "%ng_load --header --source data/TAG_PLACE.csv --tag __Entity --vid 0 --props 1:name,3:human_readable_id,4:type,2:description --space ms_paper\n",
    "%ng_load --header --source data/TAG_PLACE.csv --tag PLACE --vid 0 --props 1:name,3:human_readable_id --space ms_paper\n",
    "%ng_load --header --source data/TAG_SKILL.csv --tag __Entity --vid 0 --props 1:name,3:human_readable_id,4:type,2:description --space ms_paper\n",
    "%ng_load --header --source data/TAG_SKILL.csv --tag SKILL --vid 0 --props 1:name,3:human_readable_id --space ms_paper\n",
    "%ng_load --header --source data/TAG_TRAIT.csv --tag __Entity --vid 0 --props 1:name,3:human_readable_id,4:type,2:description --space ms_paper\n",
    "%ng_load --header --source data/TAG_TRAIT.csv --tag TRAIT --vid 0 --props 1:name,3:human_readable_id --space ms_paper\n",
    "%ng_load --header --source data/TAG_PHENOMENON.csv --tag __Entity --vid 0 --props 1:name,3:human_readable_id,4:type,2:description --space ms_paper\n",
    "%ng_load --header --source data/TAG_PHENOMENON.csv --tag PHENOMENON --vid 0 --props 1:name,3:human_readable_id --space ms_paper"
   ]
  },
  {
   "cell_type": "markdown",
   "id": "94e5a157",
   "metadata": {},
   "source": [
    "### Entity Relationship Analysis\n",
    "\n",
    "> df_relationships\n",
    "\n",
    "```\n",
    "<class 'pandas.core.frame.DataFrame'>\n",
    "RangeIndex: 276 entries, 0 to 275\n",
    "Data columns (total 10 columns):\n",
    " #   Column             Non-Null Count  Dtype  \n",
    "---  ------             --------------  -----  \n",
    " 0   source             276 non-null    object \n",
    " 1   target             276 non-null    object \n",
    " 2   weight             276 non-null    float64\n",
    " 3   description        276 non-null    object \n",
    " 4   text_unit_ids      276 non-null    object \n",
    " 5   id                 276 non-null    object \n",
    " 6   human_readable_id  276 non-null    object \n",
    " 7   source_degree      276 non-null    int64  \n",
    " 8   target_degree      276 non-null    int64  \n",
    " 9   rank               276 non-null    int64  \n",
    "dtypes: float64(1), int64(3), object(6)\n",
    "```"
   ]
  },
  {
   "cell_type": "code",
   "execution_count": 92,
   "id": "af22cd8f",
   "metadata": {},
   "outputs": [],
   "source": [
    "df_relationships = pd.read_parquet(\n",
    "    \"https://github.com/microsoft/graphrag/raw/main/examples_notebooks/inputs/operation%20dulce/create_final_relationships.parquet\"\n",
    ")"
   ]
  },
  {
   "cell_type": "code",
   "execution_count": 106,
   "id": "d83c59a2",
   "metadata": {},
   "outputs": [
    {
     "data": {
      "text/html": [
       "<div>\n",
       "<style scoped>\n",
       "    .dataframe tbody tr th:only-of-type {\n",
       "        vertical-align: middle;\n",
       "    }\n",
       "\n",
       "    .dataframe tbody tr th {\n",
       "        vertical-align: top;\n",
       "    }\n",
       "\n",
       "    .dataframe thead th {\n",
       "        text-align: right;\n",
       "    }\n",
       "</style>\n",
       "<table border=\"1\" class=\"dataframe\">\n",
       "  <thead>\n",
       "    <tr style=\"text-align: right;\">\n",
       "      <th></th>\n",
       "      <th>source</th>\n",
       "      <th>target</th>\n",
       "      <th>weight</th>\n",
       "      <th>description</th>\n",
       "      <th>text_unit_ids</th>\n",
       "      <th>id</th>\n",
       "      <th>human_readable_id</th>\n",
       "      <th>source_degree</th>\n",
       "      <th>target_degree</th>\n",
       "      <th>rank</th>\n",
       "    </tr>\n",
       "  </thead>\n",
       "  <tbody>\n",
       "    <tr>\n",
       "      <th>0</th>\n",
       "      <td>ALEX MERCER</td>\n",
       "      <td>TAYLOR CRUZ</td>\n",
       "      <td>7.0</td>\n",
       "      <td>Alex Mercer and Taylor Cruz are integral members of the Paranormal Military Squad at the Dulce milit...</td>\n",
       "      <td>[00fafabae48948779fee2afe600f5143, 1e433d6b30887893e803d716486b14f0, 2cf7a230c367a2dfaf0fc3c903eb8948, 6ce53dc78770579f3d8369771db6f80c, 6d1255303acb7c9dc951cb0f5fc3042c, e841f178310356740b2ee9101d12c97f, f36d96862b9366d7240b5c7ceb04f12b]</td>\n",
       "      <td>b35c3d1a7daa4924b6bdb58bc69c354d</td>\n",
       "      <td>0</td>\n",
       "      <td>9</td>\n",
       "      <td>12</td>\n",
       "      <td>21</td>\n",
       "    </tr>\n",
       "  </tbody>\n",
       "</table>\n",
       "</div>"
      ],
      "text/plain": [
       "        source       target  weight                                                                                              description                                                                                                                                                                                                                                   text_unit_ids                                id human_readable_id  source_degree  target_degree  rank\n",
       "0  ALEX MERCER  TAYLOR CRUZ     7.0  Alex Mercer and Taylor Cruz are integral members of the Paranormal Military Squad at the Dulce milit...  [00fafabae48948779fee2afe600f5143, 1e433d6b30887893e803d716486b14f0, 2cf7a230c367a2dfaf0fc3c903eb8948, 6ce53dc78770579f3d8369771db6f80c, 6d1255303acb7c9dc951cb0f5fc3042c, e841f178310356740b2ee9101d12c97f, f36d96862b9366d7240b5c7ceb04f12b]  b35c3d1a7daa4924b6bdb58bc69c354d                 0              9             12    21"
      ]
     },
     "execution_count": 106,
     "metadata": {},
     "output_type": "execute_result"
    }
   ],
   "source": [
    "# inspect the data\n",
    "df_relationships.head(1).assign(\n",
    "    description=lambda x: x[\"description\"].str[:100] + \"...\"\n",
    ")"
   ]
  },
  {
   "cell_type": "markdown",
   "id": "87341df4",
   "metadata": {},
   "source": [
    "We can see th source and target are entity names, all relationships are not typed.\n",
    "\n",
    "So we could create one EDGE Type named `related_to` with properties `weight`, `rank` and `description`.\n",
    "\n",
    "```text\n",
    "CREATE EDGE IF NOT EXISTS `RELATED_TO` (weight float, rank int, description string);\n",
    "```\n",
    "\n",
    "And we need to resolve the source and target to entity ids from df_entities, and build a CSV file for `RELATED_TO` EDGE like:\n",
    "\n",
    "```CSV\n",
    "source,target,weight,rank,description\n",
    "entity_0,entity_1,1.0,1,\"ALEX MERCER and EXTRATERRESTRIAL RESEARCH are...\"\n",
    "```\n",
    "\n",
    "##### Create RELATED_TO EDGE and load it to NebulaGraph\n"
   ]
  },
  {
   "cell_type": "code",
   "execution_count": 97,
   "id": "ba139eeb",
   "metadata": {},
   "outputs": [
    {
     "name": "stdout",
     "output_type": "stream",
     "text": [
      "Created 276 RELATED_TO edges\n",
      "     source    target  weight  rank                                                                                                                                                                                                                                                                                                                                                                                                                                                                                                                                                                                                                                                                                                                                                                                                                                                                                     description human_readable_id\n",
      "0  entity_0  entity_1     7.0    21                                                                                                         Alex Mercer and Taylor Cruz are integral members of the Paranormal Military Squad at the Dulce military base, where they focus on interactions with extraterrestrial intelligence. Alex is recognized as the leader of the team, while Taylor provides strategic oversight, although there is a noted tension and authority dynamic between them. Together, they collaborate on developing protocols for responding to alien communication and engage in professional discussions about the mission's hypotheses. Despite initial contradictions about who leads the team, it is clear that Alex Mercer holds the leadership role, with Taylor Cruz playing a significant strategic role in the mission, ensuring a comprehensive approach to their shared objectives within the squad.                 0\n",
      "1  entity_0  entity_1     7.0    21                                                                                                         Alex Mercer and Taylor Cruz are integral members of the Paranormal Military Squad at the Dulce military base, where they focus on interactions with extraterrestrial intelligence. Alex is recognized as the leader of the team, while Taylor provides strategic oversight, although there is a noted tension and authority dynamic between them. Together, they collaborate on developing protocols for responding to alien communication and engage in professional discussions about the mission's hypotheses. Despite initial contradictions about who leads the team, it is clear that Alex Mercer holds the leadership role, with Taylor Cruz playing a significant strategic role in the mission, ensuring a comprehensive approach to their shared objectives within the squad.                 0\n",
      "2  entity_0  entity_1     7.0    21                                                                                                         Alex Mercer and Taylor Cruz are integral members of the Paranormal Military Squad at the Dulce military base, where they focus on interactions with extraterrestrial intelligence. Alex is recognized as the leader of the team, while Taylor provides strategic oversight, although there is a noted tension and authority dynamic between them. Together, they collaborate on developing protocols for responding to alien communication and engage in professional discussions about the mission's hypotheses. Despite initial contradictions about who leads the team, it is clear that Alex Mercer holds the leadership role, with Taylor Cruz playing a significant strategic role in the mission, ensuring a comprehensive approach to their shared objectives within the squad.                 0\n",
      "3  entity_0  entity_1     7.0    21                                                                                                         Alex Mercer and Taylor Cruz are integral members of the Paranormal Military Squad at the Dulce military base, where they focus on interactions with extraterrestrial intelligence. Alex is recognized as the leader of the team, while Taylor provides strategic oversight, although there is a noted tension and authority dynamic between them. Together, they collaborate on developing protocols for responding to alien communication and engage in professional discussions about the mission's hypotheses. Despite initial contradictions about who leads the team, it is clear that Alex Mercer holds the leadership role, with Taylor Cruz playing a significant strategic role in the mission, ensuring a comprehensive approach to their shared objectives within the squad.                 0\n",
      "4  entity_0  entity_2     6.0    18  Alex Mercer and Jordan Hayes are colleagues who work closely together at Dulce Base, where they are deeply involved in the highly specialized task of decrypting and communicating with extraterrestrial intelligence. Their collaboration primarily focuses on understanding alien code and responding to alien messages. Both Mercer and Hayes have a mutual understanding and recognition of each other's analytical skills, which plays a significant role in their successful partnership. Additionally, they share a moment of mutual respect and understanding regarding the significance of their mission, which involves investigating the Dulce military base and its extraterrestrial-related activities. Their combined efforts contribute to the broader objectives of their work at Dulce Base, highlighting the importance of their roles in this unique and challenging field.                 1\n",
      "\u001b[1;3;38;2;0;120;215m[INFO] Parsed 276 edges 'ms_paper' for edge type 'RELATED_TO' in memory\u001b[0m\n"
     ]
    },
    {
     "data": {
      "application/vnd.jupyter.widget-view+json": {
       "model_id": "1234679697294d969519941539604501",
       "version_major": 2,
       "version_minor": 0
      },
      "text/plain": [
       "Loading Edges:   0%|          | 0/2 [00:00<?, ?it/s]"
      ]
     },
     "metadata": {},
     "output_type": "display_data"
    },
    {
     "name": "stdout",
     "output_type": "stream",
     "text": [
      "Loaded 256 of 276 edges\n",
      "Loaded 276 of 276 edges\n",
      "\u001b[1;3;38;2;0;135;107m[INFO] Successfully loaded 276 edges 'ms_paper' for edge type 'RELATED_TO'\u001b[0m\n"
     ]
    }
   ],
   "source": [
    "# Create a mapping of entity names to their IDs\n",
    "entity_id_map = dict(zip(df_entities[\"name\"], df_entities[\"human_readable_id\"]))\n",
    "\n",
    "# Function to get entity ID, or return None if not found\n",
    "def get_entity_id(name):\n",
    "    return f\"entity_{entity_id_map.get(name)}\"\n",
    "\n",
    "\n",
    "# Prepare the data for RELATED_TO edges\n",
    "related_to_data = []\n",
    "for _, row in df_relationships.iterrows():\n",
    "    source_id = get_entity_id(row[\"source\"])\n",
    "    target_id = get_entity_id(row[\"target\"])\n",
    "    if source_id and target_id:\n",
    "        related_to_data.append(\n",
    "            {\n",
    "                \"source\": source_id,\n",
    "                \"target\": target_id,\n",
    "                \"weight\": row[\"weight\"],\n",
    "                \"rank\": row[\"rank\"],\n",
    "                \"description\": row[\"description\"],\n",
    "                \"human_readable_id\": row[\"human_readable_id\"],\n",
    "            }\n",
    "        )\n",
    "\n",
    "# Create a DataFrame for RELATED_TO edges\n",
    "df_related_to = pd.DataFrame(related_to_data)\n",
    "\n",
    "# Save to CSV\n",
    "df_related_to.to_csv(\"data/RELATED_TO.csv\", index=False)\n",
    "\n",
    "print(f\"Created {len(df_related_to)} RELATED_TO edges\")\n",
    "print(df_related_to.head())\n",
    "\n",
    "# Create the RELATED_TO edge in the graph\n",
    "%ngql CREATE EDGE IF NOT EXISTS `RELATED_TO` (weight float, rank int, description string, human_readable_id int);\n",
    "\n",
    "# Wait for the Schema to be ready\n",
    "!sleep 20\n",
    "%ngql SHOW CREATE EDGE RELATED_TO;\n",
    "\n",
    "# Load the RELATED_TO edges into the graph\n",
    "%ng_load --header --source data/RELATED_TO.csv --edge RELATED_TO --src 0 --dst 1 --props 2:weight,3:rank,4:description,5:human_readable_id --space ms_paper"
   ]
  },
  {
   "cell_type": "code",
   "execution_count": 98,
   "id": "e6650f9f",
   "metadata": {},
   "outputs": [
    {
     "data": {
      "text/html": [
       "<div>\n",
       "<style scoped>\n",
       "    .dataframe tbody tr th:only-of-type {\n",
       "        vertical-align: middle;\n",
       "    }\n",
       "\n",
       "    .dataframe tbody tr th {\n",
       "        vertical-align: top;\n",
       "    }\n",
       "\n",
       "    .dataframe thead th {\n",
       "        text-align: right;\n",
       "    }\n",
       "</style>\n",
       "<table border=\"1\" class=\"dataframe\">\n",
       "  <thead>\n",
       "    <tr style=\"text-align: right;\">\n",
       "      <th></th>\n",
       "      <th>Type</th>\n",
       "      <th>Name</th>\n",
       "      <th>Count</th>\n",
       "    </tr>\n",
       "  </thead>\n",
       "  <tbody>\n",
       "    <tr>\n",
       "      <th>0</th>\n",
       "      <td>Tag</td>\n",
       "      <td>ACTIVITY</td>\n",
       "      <td>1</td>\n",
       "    </tr>\n",
       "    <tr>\n",
       "      <th>1</th>\n",
       "      <td>Tag</td>\n",
       "      <td>ATTRIBUTE</td>\n",
       "      <td>3</td>\n",
       "    </tr>\n",
       "    <tr>\n",
       "      <th>2</th>\n",
       "      <td>Tag</td>\n",
       "      <td>CONCEPT</td>\n",
       "      <td>90</td>\n",
       "    </tr>\n",
       "    <tr>\n",
       "      <th>3</th>\n",
       "      <td>Tag</td>\n",
       "      <td>EVENT</td>\n",
       "      <td>4</td>\n",
       "    </tr>\n",
       "    <tr>\n",
       "      <th>4</th>\n",
       "      <td>Tag</td>\n",
       "      <td>EXTRATERRESTRIAL_COMMUNICATION</td>\n",
       "      <td>1</td>\n",
       "    </tr>\n",
       "    <tr>\n",
       "      <th>5</th>\n",
       "      <td>Tag</td>\n",
       "      <td>FACILITY</td>\n",
       "      <td>1</td>\n",
       "    </tr>\n",
       "    <tr>\n",
       "      <th>6</th>\n",
       "      <td>Tag</td>\n",
       "      <td>GEO</td>\n",
       "      <td>4</td>\n",
       "    </tr>\n",
       "    <tr>\n",
       "      <th>7</th>\n",
       "      <td>Tag</td>\n",
       "      <td>MISCELLANEOUS</td>\n",
       "      <td>4</td>\n",
       "    </tr>\n",
       "    <tr>\n",
       "      <th>8</th>\n",
       "      <td>Tag</td>\n",
       "      <td>OBJECT</td>\n",
       "      <td>2</td>\n",
       "    </tr>\n",
       "    <tr>\n",
       "      <th>9</th>\n",
       "      <td>Tag</td>\n",
       "      <td>ORGANIZATION</td>\n",
       "      <td>1</td>\n",
       "    </tr>\n",
       "    <tr>\n",
       "      <th>10</th>\n",
       "      <td>Tag</td>\n",
       "      <td>PERSON</td>\n",
       "      <td>98</td>\n",
       "    </tr>\n",
       "    <tr>\n",
       "      <th>11</th>\n",
       "      <td>Tag</td>\n",
       "      <td>PHENOMENON</td>\n",
       "      <td>1</td>\n",
       "    </tr>\n",
       "    <tr>\n",
       "      <th>12</th>\n",
       "      <td>Tag</td>\n",
       "      <td>PLACE</td>\n",
       "      <td>1</td>\n",
       "    </tr>\n",
       "    <tr>\n",
       "      <th>13</th>\n",
       "      <td>Tag</td>\n",
       "      <td>PROJECT</td>\n",
       "      <td>1</td>\n",
       "    </tr>\n",
       "    <tr>\n",
       "      <th>14</th>\n",
       "      <td>Tag</td>\n",
       "      <td>ROLE</td>\n",
       "      <td>1</td>\n",
       "    </tr>\n",
       "    <tr>\n",
       "      <th>15</th>\n",
       "      <td>Tag</td>\n",
       "      <td>SKILL</td>\n",
       "      <td>1</td>\n",
       "    </tr>\n",
       "    <tr>\n",
       "      <th>16</th>\n",
       "      <td>Tag</td>\n",
       "      <td>STRATEGY</td>\n",
       "      <td>1</td>\n",
       "    </tr>\n",
       "    <tr>\n",
       "      <th>17</th>\n",
       "      <td>Tag</td>\n",
       "      <td>TASK</td>\n",
       "      <td>1</td>\n",
       "    </tr>\n",
       "    <tr>\n",
       "      <th>18</th>\n",
       "      <td>Tag</td>\n",
       "      <td>TRAIT</td>\n",
       "      <td>1</td>\n",
       "    </tr>\n",
       "    <tr>\n",
       "      <th>19</th>\n",
       "      <td>Tag</td>\n",
       "      <td>__Chunk</td>\n",
       "      <td>12</td>\n",
       "    </tr>\n",
       "    <tr>\n",
       "      <th>20</th>\n",
       "      <td>Edge</td>\n",
       "      <td>CHUNK_WITH_ENTITY</td>\n",
       "      <td>307</td>\n",
       "    </tr>\n",
       "    <tr>\n",
       "      <th>21</th>\n",
       "      <td>Edge</td>\n",
       "      <td>RELATED_TO</td>\n",
       "      <td>69</td>\n",
       "    </tr>\n",
       "    <tr>\n",
       "      <th>22</th>\n",
       "      <td>Space</td>\n",
       "      <td>vertices</td>\n",
       "      <td>229</td>\n",
       "    </tr>\n",
       "    <tr>\n",
       "      <th>23</th>\n",
       "      <td>Space</td>\n",
       "      <td>edges</td>\n",
       "      <td>376</td>\n",
       "    </tr>\n",
       "  </tbody>\n",
       "</table>\n",
       "</div>"
      ],
      "text/plain": [
       "     Type                            Name  Count\n",
       "0     Tag                        ACTIVITY      1\n",
       "1     Tag                       ATTRIBUTE      3\n",
       "2     Tag                         CONCEPT     90\n",
       "3     Tag                           EVENT      4\n",
       "4     Tag  EXTRATERRESTRIAL_COMMUNICATION      1\n",
       "5     Tag                        FACILITY      1\n",
       "6     Tag                             GEO      4\n",
       "7     Tag                   MISCELLANEOUS      4\n",
       "8     Tag                          OBJECT      2\n",
       "9     Tag                    ORGANIZATION      1\n",
       "10    Tag                          PERSON     98\n",
       "11    Tag                      PHENOMENON      1\n",
       "12    Tag                           PLACE      1\n",
       "13    Tag                         PROJECT      1\n",
       "14    Tag                            ROLE      1\n",
       "15    Tag                           SKILL      1\n",
       "16    Tag                        STRATEGY      1\n",
       "17    Tag                            TASK      1\n",
       "18    Tag                           TRAIT      1\n",
       "19    Tag                         __Chunk     12\n",
       "20   Edge               CHUNK_WITH_ENTITY    307\n",
       "21   Edge                      RELATED_TO     69\n",
       "22  Space                        vertices    229\n",
       "23  Space                           edges    376"
      ]
     },
     "execution_count": 98,
     "metadata": {},
     "output_type": "execute_result"
    }
   ],
   "source": [
    "# Let's see the stats on the graph\n",
    "\n",
    "%ngql SUBMIT JOB STATS;\n",
    "\n",
    "!sleep 5\n",
    "%ngql SHOW STATS;"
   ]
  },
  {
   "cell_type": "markdown",
   "id": "f7cb9333",
   "metadata": {},
   "source": [
    "Let's inspect the RELATED_TO EDGE:"
   ]
  },
  {
   "cell_type": "code",
   "execution_count": 159,
   "id": "29d0b863",
   "metadata": {},
   "outputs": [
    {
     "data": {
      "text/html": [
       "<div>\n",
       "<style scoped>\n",
       "    .dataframe tbody tr th:only-of-type {\n",
       "        vertical-align: middle;\n",
       "    }\n",
       "\n",
       "    .dataframe tbody tr th {\n",
       "        vertical-align: top;\n",
       "    }\n",
       "\n",
       "    .dataframe thead th {\n",
       "        text-align: right;\n",
       "    }\n",
       "</style>\n",
       "<table border=\"1\" class=\"dataframe\">\n",
       "  <thead>\n",
       "    <tr style=\"text-align: right;\">\n",
       "      <th></th>\n",
       "      <th>Entity_Name</th>\n",
       "      <th>TAGS_of_Source</th>\n",
       "      <th>TAGS_of_Target</th>\n",
       "      <th>Description</th>\n",
       "      <th>Human_Readable_ID</th>\n",
       "    </tr>\n",
       "  </thead>\n",
       "  <tbody>\n",
       "    <tr>\n",
       "      <th>0</th>\n",
       "      <td>DULCE BASE</td>\n",
       "      <td>[__Entity, CONCEPT]</td>\n",
       "      <td>[__Entity, MISCELLANEOUS]</td>\n",
       "      <td>Dulce Base is a facility dedicated to the advancement of extraterrestrial research. It serves as a center for conducting studies and activities related to extraterrestrial entities and phenomena.</td>\n",
       "      <td>51</td>\n",
       "    </tr>\n",
       "    <tr>\n",
       "      <th>1</th>\n",
       "      <td>DULCE BASE</td>\n",
       "      <td>[__Entity, EVENT]</td>\n",
       "      <td>[__Entity, MISCELLANEOUS]</td>\n",
       "      <td>Dulce Base is the location where Operation: Dulce is taking place</td>\n",
       "      <td>49</td>\n",
       "    </tr>\n",
       "    <tr>\n",
       "      <th>2</th>\n",
       "      <td>DULCE MILITARY BASE</td>\n",
       "      <td>[__Entity, EVENT]</td>\n",
       "      <td>[__Entity, GEO]</td>\n",
       "      <td>The Dulce military base is the location where Operation: Dulce takes place</td>\n",
       "      <td>50</td>\n",
       "    </tr>\n",
       "    <tr>\n",
       "      <th>3</th>\n",
       "      <td>DULCE BASE</td>\n",
       "      <td>[__Entity, ORGANIZATION]</td>\n",
       "      <td>[__Entity, MISCELLANEOUS]</td>\n",
       "      <td>The Paranormal Military Squad is a specialized team that operates out of Dulce Base. This unit is not only stationed within the confines of Dulce Base but is also actively involved in interstellar communication. Dulce Base serves as the central hub for the squad's operations, where they carry out their unique and covert activities.</td>\n",
       "      <td>46</td>\n",
       "    </tr>\n",
       "    <tr>\n",
       "      <th>4</th>\n",
       "      <td>DR. JORDAN HAYES</td>\n",
       "      <td>[__Entity, ORGANIZATION]</td>\n",
       "      <td>[__Entity, PERSON]</td>\n",
       "      <td>Dr. Jordan Hayes is a key member of the Paranormal Military Squad, contributing their expertise to the mission, particularly working on the alien code deciphering project.</td>\n",
       "      <td>40</td>\n",
       "    </tr>\n",
       "    <tr>\n",
       "      <th>5</th>\n",
       "      <td>DULCE MILITARY BASE</td>\n",
       "      <td>[__Entity, ORGANIZATION]</td>\n",
       "      <td>[__Entity, GEO]</td>\n",
       "      <td>The Paranormal Military Squad is a specialized unit that operates within the confines of the Dulce Military Base. This squad is dedicated to activities and missions that pertain to the paranormal, utilizing the facilities and resources of the Dulce Military Base as their operational headquarters. Both descriptions emphasize the integral relationship between the squad and the base, highlighting that the base serves as the home and primary location for the squad's operations.</td>\n",
       "      <td>45</td>\n",
       "    </tr>\n",
       "    <tr>\n",
       "      <th>6</th>\n",
       "      <td>WASHINGTON</td>\n",
       "      <td>[__Entity, ORGANIZATION]</td>\n",
       "      <td>[__Entity, GEO]</td>\n",
       "      <td>The Paranormal Military Squad team is in communication with Washington, suggesting a command structure</td>\n",
       "      <td>41</td>\n",
       "    </tr>\n",
       "    <tr>\n",
       "      <th>7</th>\n",
       "      <td>NEW MEXICO</td>\n",
       "      <td>[__Entity, ORGANIZATION]</td>\n",
       "      <td>[__Entity, GEO]</td>\n",
       "      <td>The Paranormal Military Squad team is convened in the heart of the Dulce military complex in New Mexico</td>\n",
       "      <td>42</td>\n",
       "    </tr>\n",
       "    <tr>\n",
       "      <th>8</th>\n",
       "      <td>INTERSTELLAR COMMUNICATION</td>\n",
       "      <td>[__Entity, ORGANIZATION]</td>\n",
       "      <td>[__Entity, CONCEPT]</td>\n",
       "      <td>The Paranormal Military Squad team engages in interstellar communication</td>\n",
       "      <td>44</td>\n",
       "    </tr>\n",
       "    <tr>\n",
       "      <th>9</th>\n",
       "      <td>CLANDESTINE OPERATIONS</td>\n",
       "      <td>[__Entity, ORGANIZATION]</td>\n",
       "      <td>[__Entity, CONCEPT]</td>\n",
       "      <td>The Paranormal Military Squad team is involved in clandestine operations</td>\n",
       "      <td>43</td>\n",
       "    </tr>\n",
       "    <tr>\n",
       "      <th>10</th>\n",
       "      <td>COVERT OPERATIONS</td>\n",
       "      <td>[__Entity, ORGANIZATION]</td>\n",
       "      <td>[__Entity, CONCEPT]</td>\n",
       "      <td>The Paranormal Military Squad is involved in covert operations related to extraterrestrial activity at Dulce Base</td>\n",
       "      <td>47</td>\n",
       "    </tr>\n",
       "    <tr>\n",
       "      <th>11</th>\n",
       "      <td>AGENT ALEX MERCER</td>\n",
       "      <td>[__Entity, ORGANIZATION]</td>\n",
       "      <td>[__Entity, PERSON]</td>\n",
       "      <td>Alex Mercer is a member of the Paranormal Military Squad</td>\n",
       "      <td>48</td>\n",
       "    </tr>\n",
       "    <tr>\n",
       "      <th>12</th>\n",
       "      <td>OPERATION: DULCE</td>\n",
       "      <td>[__Entity, ORGANIZATION]</td>\n",
       "      <td>[__Entity, EVENT]</td>\n",
       "      <td>The Paranormal Military Squad is a specialized team that has been assigned to carry out Operation: Dulce. This mission involves the squad engaging in activities that pertain to the paranormal or supernatural realm. The comprehensive description of the entity and the operation is that Operation: Dulce is a specific mission executed by the Paranormal Military Squad, with both terms referring to the same coordinated effort between the team and their assigned task.</td>\n",
       "      <td>39</td>\n",
       "    </tr>\n",
       "    <tr>\n",
       "      <th>13</th>\n",
       "      <td>OPTIMISM AND INTRIGUE</td>\n",
       "      <td>[__Entity, PERSON]</td>\n",
       "      <td>[__Entity, CONCEPT]</td>\n",
       "      <td>Sam Rivera's approach to extraterrestrial contact is characterized by optimism and intrigue</td>\n",
       "      <td>27</td>\n",
       "    </tr>\n",
       "    <tr>\n",
       "      <th>14</th>\n",
       "      <td>DULCE BASE</td>\n",
       "      <td>[__Entity, PERSON]</td>\n",
       "      <td>[__Entity, MISCELLANEOUS]</td>\n",
       "      <td>Sam Rivera is part of the Dulce Base team, contributing to the dialogue with extraterrestrial intelligence</td>\n",
       "      <td>35</td>\n",
       "    </tr>\n",
       "    <tr>\n",
       "      <th>15</th>\n",
       "      <td>PARANORMAL MILITARY SQUAD TEAM</td>\n",
       "      <td>[__Entity, PERSON]</td>\n",
       "      <td>[__Entity, MISCELLANEOUS]</td>\n",
       "      <td>Sam Rivera is a member of the Paranormal Military Squad team, enthusiastic about the potential of first contact</td>\n",
       "      <td>38</td>\n",
       "    </tr>\n",
       "    <tr>\n",
       "      <th>16</th>\n",
       "      <td>DR. JORDAN HAYES</td>\n",
       "      <td>[__Entity, PERSON]</td>\n",
       "      <td>[__Entity, PERSON]</td>\n",
       "      <td>Dr. Jordan Hayes and Sam Rivera are colleagues in Paranormal Military Squad, each playing a role in the alien code deciphering</td>\n",
       "      <td>34</td>\n",
       "    </tr>\n",
       "    <tr>\n",
       "      <th>17</th>\n",
       "      <td>CRUZ</td>\n",
       "      <td>[__Entity, PERSON]</td>\n",
       "      <td>[__Entity, PERSON]</td>\n",
       "      <td>Cruz and Sam Rivera are both part of the same team, with Cruz commanding and Sam providing technical expertise</td>\n",
       "      <td>28</td>\n",
       "    </tr>\n",
       "    <tr>\n",
       "      <th>18</th>\n",
       "      <td>TAYLOR</td>\n",
       "      <td>[__Entity, PERSON]</td>\n",
       "      <td>[__Entity, PERSON]</td>\n",
       "      <td>Taylor seeks counsel from Sam Rivera, indicating a working relationship and trust</td>\n",
       "      <td>29</td>\n",
       "    </tr>\n",
       "    <tr>\n",
       "      <th>19</th>\n",
       "      <td>MERCER</td>\n",
       "      <td>[__Entity, PERSON]</td>\n",
       "      <td>[__Entity, PERSON]</td>\n",
       "      <td>Sam Rivera's actions are a testament to the mentorship and belief instilled in them by Mercer</td>\n",
       "      <td>30</td>\n",
       "    </tr>\n",
       "  </tbody>\n",
       "</table>\n",
       "</div>"
      ],
      "text/plain": [
       "                       Entity_Name            TAGS_of_Source             TAGS_of_Target                                                                                                                                                                                                                                                                                                                                                                                                                                                                                     Description  Human_Readable_ID\n",
       "0                       DULCE BASE       [__Entity, CONCEPT]  [__Entity, MISCELLANEOUS]                                                                                                                                                                                                                                                                                             Dulce Base is a facility dedicated to the advancement of extraterrestrial research. It serves as a center for conducting studies and activities related to extraterrestrial entities and phenomena.                 51\n",
       "1                       DULCE BASE         [__Entity, EVENT]  [__Entity, MISCELLANEOUS]                                                                                                                                                                                                                                                                                                                                                                                                                               Dulce Base is the location where Operation: Dulce is taking place                 49\n",
       "2              DULCE MILITARY BASE         [__Entity, EVENT]            [__Entity, GEO]                                                                                                                                                                                                                                                                                                                                                                                                                      The Dulce military base is the location where Operation: Dulce takes place                 50\n",
       "3                       DULCE BASE  [__Entity, ORGANIZATION]  [__Entity, MISCELLANEOUS]                                                                                                                                                   The Paranormal Military Squad is a specialized team that operates out of Dulce Base. This unit is not only stationed within the confines of Dulce Base but is also actively involved in interstellar communication. Dulce Base serves as the central hub for the squad's operations, where they carry out their unique and covert activities.                 46\n",
       "4                 DR. JORDAN HAYES  [__Entity, ORGANIZATION]         [__Entity, PERSON]                                                                                                                                                                                                                                                                                                                     Dr. Jordan Hayes is a key member of the Paranormal Military Squad, contributing their expertise to the mission, particularly working on the alien code deciphering project.                 40\n",
       "5              DULCE MILITARY BASE  [__Entity, ORGANIZATION]            [__Entity, GEO]  The Paranormal Military Squad is a specialized unit that operates within the confines of the Dulce Military Base. This squad is dedicated to activities and missions that pertain to the paranormal, utilizing the facilities and resources of the Dulce Military Base as their operational headquarters. Both descriptions emphasize the integral relationship between the squad and the base, highlighting that the base serves as the home and primary location for the squad's operations.                 45\n",
       "6                       WASHINGTON  [__Entity, ORGANIZATION]            [__Entity, GEO]                                                                                                                                                                                                                                                                                                                                                                                          The Paranormal Military Squad team is in communication with Washington, suggesting a command structure                 41\n",
       "7                       NEW MEXICO  [__Entity, ORGANIZATION]            [__Entity, GEO]                                                                                                                                                                                                                                                                                                                                                                                         The Paranormal Military Squad team is convened in the heart of the Dulce military complex in New Mexico                 42\n",
       "8       INTERSTELLAR COMMUNICATION  [__Entity, ORGANIZATION]        [__Entity, CONCEPT]                                                                                                                                                                                                                                                                                                                                                                                                                        The Paranormal Military Squad team engages in interstellar communication                 44\n",
       "9           CLANDESTINE OPERATIONS  [__Entity, ORGANIZATION]        [__Entity, CONCEPT]                                                                                                                                                                                                                                                                                                                                                                                                                        The Paranormal Military Squad team is involved in clandestine operations                 43\n",
       "10               COVERT OPERATIONS  [__Entity, ORGANIZATION]        [__Entity, CONCEPT]                                                                                                                                                                                                                                                                                                                                                                               The Paranormal Military Squad is involved in covert operations related to extraterrestrial activity at Dulce Base                 47\n",
       "11               AGENT ALEX MERCER  [__Entity, ORGANIZATION]         [__Entity, PERSON]                                                                                                                                                                                                                                                                                                                                                                                                                                        Alex Mercer is a member of the Paranormal Military Squad                 48\n",
       "12                OPERATION: DULCE  [__Entity, ORGANIZATION]          [__Entity, EVENT]               The Paranormal Military Squad is a specialized team that has been assigned to carry out Operation: Dulce. This mission involves the squad engaging in activities that pertain to the paranormal or supernatural realm. The comprehensive description of the entity and the operation is that Operation: Dulce is a specific mission executed by the Paranormal Military Squad, with both terms referring to the same coordinated effort between the team and their assigned task.                 39\n",
       "13           OPTIMISM AND INTRIGUE        [__Entity, PERSON]        [__Entity, CONCEPT]                                                                                                                                                                                                                                                                                                                                                                                                     Sam Rivera's approach to extraterrestrial contact is characterized by optimism and intrigue                 27\n",
       "14                      DULCE BASE        [__Entity, PERSON]  [__Entity, MISCELLANEOUS]                                                                                                                                                                                                                                                                                                                                                                                      Sam Rivera is part of the Dulce Base team, contributing to the dialogue with extraterrestrial intelligence                 35\n",
       "15  PARANORMAL MILITARY SQUAD TEAM        [__Entity, PERSON]  [__Entity, MISCELLANEOUS]                                                                                                                                                                                                                                                                                                                                                                                 Sam Rivera is a member of the Paranormal Military Squad team, enthusiastic about the potential of first contact                 38\n",
       "16                DR. JORDAN HAYES        [__Entity, PERSON]         [__Entity, PERSON]                                                                                                                                                                                                                                                                                                                                                                  Dr. Jordan Hayes and Sam Rivera are colleagues in Paranormal Military Squad, each playing a role in the alien code deciphering                 34\n",
       "17                            CRUZ        [__Entity, PERSON]         [__Entity, PERSON]                                                                                                                                                                                                                                                                                                                                                                                  Cruz and Sam Rivera are both part of the same team, with Cruz commanding and Sam providing technical expertise                 28\n",
       "18                          TAYLOR        [__Entity, PERSON]         [__Entity, PERSON]                                                                                                                                                                                                                                                                                                                                                                                                               Taylor seeks counsel from Sam Rivera, indicating a working relationship and trust                 29\n",
       "19                          MERCER        [__Entity, PERSON]         [__Entity, PERSON]                                                                                                                                                                                                                                                                                                                                                                                                   Sam Rivera's actions are a testament to the mentorship and belief instilled in them by Mercer                 30"
      ]
     },
     "execution_count": 159,
     "metadata": {},
     "output_type": "execute_result"
    }
   ],
   "source": [
    "%%ngql \n",
    "\n",
    "MATCH (m)-[e:RELATED_TO]->(n)\n",
    "RETURN \n",
    "    properties(m).name AS Entity_Name,\n",
    "    tags(m) AS TAGS_of_Source,\n",
    "    properties(n).name AS Entity_Name,\n",
    "    tags(n) AS TAGS_of_Target,\n",
    "    e.description AS Description,\n",
    "    e.human_readable_id AS Human_Readable_ID\n",
    "LIMIT 20"
   ]
  },
  {
   "cell_type": "code",
   "execution_count": null,
   "id": "58017a5c",
   "metadata": {},
   "outputs": [],
   "source": [
    "# You could also use %ng_draw to visualize the graph\n",
    "%%ng_draw\n",
    "\n",
    "MATCH p=(m)-[e:RELATED_TO]->(n)\n",
    "RETURN\n",
    "    p\n",
    "    LIMIT 20"
   ]
  },
  {
   "cell_type": "markdown",
   "id": "fba9fe42",
   "metadata": {},
   "source": [
    "### Raw Documents\n",
    "\n",
    "The single document is [here](https://github.com/microsoft/graphrag/blob/main/examples_notebooks/inputs/operation%20dulce/Operation%20Dulce%20v2%201%201.md), and during the Graph Indexing, it's splitted into text units/chunks.\n",
    "\n",
    "\n",
    "Below is the data schema of the processed df_text_units table:\n",
    "\n",
    "> df_text_units\n",
    "\n",
    "```\n",
    "<class 'pandas.core.frame.DataFrame'>\n",
    "RangeIndex: 12 entries, 0 to 11\n",
    "Data columns (total 7 columns):\n",
    " #   Column            Non-Null Count  Dtype \n",
    "---  ------            --------------  ----- \n",
    " 0   id                12 non-null     object\n",
    " 1   text              12 non-null     object\n",
    " 2   n_tokens          12 non-null     int64 \n",
    " 3   document_ids      12 non-null     object\n",
    " 4   entity_ids        12 non-null     object\n",
    " 5   relationship_ids  12 non-null     object\n",
    " 6   covariate_ids     12 non-null     object\n",
    "dtypes: int64(1), object(6)\n",
    "memory usage: 804.0+ bytes\n",
    "```"
   ]
  },
  {
   "cell_type": "code",
   "execution_count": 46,
   "id": "596fa533",
   "metadata": {},
   "outputs": [],
   "source": [
    "df_text_units = pd.read_parquet(\n",
    "    \"https://github.com/microsoft/graphrag/raw/main/examples_notebooks/inputs/operation%20dulce/create_final_text_units.parquet\"\n",
    ")"
   ]
  },
  {
   "cell_type": "code",
   "execution_count": 62,
   "id": "bede0e6c",
   "metadata": {},
   "outputs": [
    {
     "data": {
      "text/html": [
       "<div>\n",
       "<style scoped>\n",
       "    .dataframe tbody tr th:only-of-type {\n",
       "        vertical-align: middle;\n",
       "    }\n",
       "\n",
       "    .dataframe tbody tr th {\n",
       "        vertical-align: top;\n",
       "    }\n",
       "\n",
       "    .dataframe thead th {\n",
       "        text-align: right;\n",
       "    }\n",
       "</style>\n",
       "<table border=\"1\" class=\"dataframe\">\n",
       "  <thead>\n",
       "    <tr style=\"text-align: right;\">\n",
       "      <th></th>\n",
       "      <th>id</th>\n",
       "      <th>n_tokens</th>\n",
       "      <th>entity_ids</th>\n",
       "      <th>relationship_ids</th>\n",
       "    </tr>\n",
       "  </thead>\n",
       "  <tbody>\n",
       "    <tr>\n",
       "      <th>10</th>\n",
       "      <td>58227f6b1cad4bf95bb4a004db391c9e</td>\n",
       "      <td>2500</td>\n",
       "      <td>['b45241d70f0e43fca764df95b2b81f77' '4119fd06010c494caa07f439b333f4c5', ...]</td>\n",
       "      <td>['e02be3e37ca0454883a4c1fd859c24bb' '6e0c81bef5364c988b21bf9b709d9861', ...]</td>\n",
       "    </tr>\n",
       "    <tr>\n",
       "      <th>9</th>\n",
       "      <td>e74e58b69ef0036197960aec2bab84da</td>\n",
       "      <td>2500</td>\n",
       "      <td>['4119fd06010c494caa07f439b333f4c5' 'd3835bf3dda84ead99deadbeac5d0d7d', ...]</td>\n",
       "      <td>['27505f6ade4b4e5f9316ffe9c34821f7' '0ee7db2c6bea4630ba9f0c25e8a967ad', ...]</td>\n",
       "    </tr>\n",
       "    <tr>\n",
       "      <th>0</th>\n",
       "      <td>2cf7a230c367a2dfaf0fc3c903eb8948</td>\n",
       "      <td>2500</td>\n",
       "      <td>['b45241d70f0e43fca764df95b2b81f77' '4119fd06010c494caa07f439b333f4c5', ...]</td>\n",
       "      <td>['b35c3d1a7daa4924b6bdb58bc69c354d' 'a97e2ecd870944cfbe71c79bc0fcc752', ...]</td>\n",
       "    </tr>\n",
       "  </tbody>\n",
       "</table>\n",
       "</div>"
      ],
      "text/plain": [
       "                                  id  n_tokens                                                                    entity_ids                                                              relationship_ids\n",
       "10  58227f6b1cad4bf95bb4a004db391c9e      2500  ['b45241d70f0e43fca764df95b2b81f77' '4119fd06010c494caa07f439b333f4c5', ...]  ['e02be3e37ca0454883a4c1fd859c24bb' '6e0c81bef5364c988b21bf9b709d9861', ...]\n",
       "9   e74e58b69ef0036197960aec2bab84da      2500  ['4119fd06010c494caa07f439b333f4c5' 'd3835bf3dda84ead99deadbeac5d0d7d', ...]  ['27505f6ade4b4e5f9316ffe9c34821f7' '0ee7db2c6bea4630ba9f0c25e8a967ad', ...]\n",
       "0   2cf7a230c367a2dfaf0fc3c903eb8948      2500  ['b45241d70f0e43fca764df95b2b81f77' '4119fd06010c494caa07f439b333f4c5', ...]  ['b35c3d1a7daa4924b6bdb58bc69c354d' 'a97e2ecd870944cfbe71c79bc0fcc752', ...]"
      ]
     },
     "metadata": {},
     "output_type": "display_data"
    }
   ],
   "source": [
    "# Sample 3 rows from df_text_units for specified columns\n",
    "sampled_df = df_text_units[[\"id\", \"n_tokens\", \"entity_ids\", \"relationship_ids\"]].sample(\n",
    "    n=3, random_state=42\n",
    ")\n",
    "\n",
    "# Function to truncate array items\n",
    "def truncate_array(arr):\n",
    "    if len(arr) > 2:\n",
    "        return str(arr[:2])[:-1] + \", ...]\"\n",
    "    return str(arr)\n",
    "\n",
    "\n",
    "# Apply truncation to entity_ids and relationship_ids\n",
    "sampled_df[\"entity_ids\"] = sampled_df[\"entity_ids\"].apply(truncate_array)\n",
    "sampled_df[\"relationship_ids\"] = sampled_df[\"relationship_ids\"].apply(truncate_array)\n",
    "\n",
    "# Display the sampled rows in a table format\n",
    "display(sampled_df)"
   ]
  },
  {
   "cell_type": "markdown",
   "id": "89135489",
   "metadata": {},
   "source": [
    "As we know this dataset comes from one single long document, so we don't introduce the document content in the graph in this demo.\n",
    "\n",
    "Let's verify the document ids:"
   ]
  },
  {
   "cell_type": "code",
   "execution_count": 58,
   "id": "68fad9b5",
   "metadata": {},
   "outputs": [
    {
     "name": "stdout",
     "output_type": "stream",
     "text": [
      "Unique document IDs:\n",
      "958fdd043f17ade63cb13570b59df295\n",
      "\n",
      "Total number of unique documents: 1\n"
     ]
    }
   ],
   "source": [
    "# Get unique document IDs from df_text_units\n",
    "unique_document_ids = set()\n",
    "for doc_ids in df_text_units[\"document_ids\"]:\n",
    "    unique_document_ids.update(doc_ids.tolist())  # Convert numpy array to list\n",
    "\n",
    "# Convert to a list and sort for better readability\n",
    "unique_document_ids = sorted(list(unique_document_ids))\n",
    "\n",
    "print(\"Unique document IDs:\")\n",
    "for doc_id in unique_document_ids:\n",
    "    print(doc_id)\n",
    "\n",
    "print(f\"\\nTotal number of unique documents: {len(unique_document_ids)}\")"
   ]
  },
  {
   "cell_type": "markdown",
   "id": "9b2dd8fc",
   "metadata": {},
   "source": [
    "#### Add Text Unit to Graph\n",
    "\n",
    "- The text units are the raw textual chunks, we will add them as TAG `__Chunk` with properties `text`, `n_tokens`\n",
    "- For document_ids, we should introduce a new TAG `__Document` with properties `text`, `n_tokens`, but we omit it in this demo as only one document, thus the EDGE between `__Document` and `__Chunk` as `DOC_WITH_CHUNK` is not needed.\n",
    "- For entity_ids, we should introduce a new EDGE `CHUNK_WITH_ENTITY` to connect `__CHUNK` Vertex and all vertices' Vertex ID in `entity_ids`."
   ]
  },
  {
   "cell_type": "code",
   "execution_count": 63,
   "id": "c83dff1e",
   "metadata": {},
   "outputs": [
    {
     "data": {
      "text/html": [
       "<div>\n",
       "<style scoped>\n",
       "    .dataframe tbody tr th:only-of-type {\n",
       "        vertical-align: middle;\n",
       "    }\n",
       "\n",
       "    .dataframe tbody tr th {\n",
       "        vertical-align: top;\n",
       "    }\n",
       "\n",
       "    .dataframe thead th {\n",
       "        text-align: right;\n",
       "    }\n",
       "</style>\n",
       "<table border=\"1\" class=\"dataframe\">\n",
       "  <thead>\n",
       "    <tr style=\"text-align: right;\">\n",
       "      <th></th>\n",
       "    </tr>\n",
       "  </thead>\n",
       "  <tbody>\n",
       "  </tbody>\n",
       "</table>\n",
       "</div>"
      ],
      "text/plain": [
       "Empty DataFrame\n",
       "Columns: []\n",
       "Index: []"
      ]
     },
     "execution_count": 63,
     "metadata": {},
     "output_type": "execute_result"
    }
   ],
   "source": [
    "%ngql CREATE TAG IF NOT EXISTS `__Chunk` (text string, n_tokens int);\n",
    "%ngql CREATE EDGE IF NOT EXISTS `CHUNK_WITH_ENTITY` ();"
   ]
  },
  {
   "cell_type": "markdown",
   "id": "088d4540",
   "metadata": {},
   "source": [
    "The `__Chunk` TAG could be loaded from `df_text_units` directly.\n",
    "\n",
    "Let's prepare for `CHUNK_WITH_ENTITY` EDGE data in CSV file."
   ]
  },
  {
   "cell_type": "code",
   "execution_count": 65,
   "id": "6eff7cf9",
   "metadata": {},
   "outputs": [
    {
     "name": "stdout",
     "output_type": "stream",
     "text": [
      "CHUNK_WITH_ENTITY edge data saved to data/CHUNK_WITH_ENTITY.csv\n",
      "Total edges: 307\n"
     ]
    }
   ],
   "source": [
    "# Prepare CHUNK_WITH_ENTITY edge data\n",
    "chunk_entity_edges = []\n",
    "\n",
    "for _, row in df_text_units.iterrows():\n",
    "    chunk_id = row[\"id\"]\n",
    "    entity_ids = row[\"entity_ids\"]\n",
    "\n",
    "    for entity_id in entity_ids:\n",
    "        # Find the corresponding human_readable_id and name from df_entities\n",
    "        entity_row = df_entities[df_entities[\"id\"] == entity_id]\n",
    "        if not entity_row.empty:\n",
    "            human_readable_id = entity_row[\"human_readable_id\"].values[0]\n",
    "            entity_name = entity_row[\"name\"].values[0]\n",
    "            entity_vertex_id = f\"entity_{human_readable_id}\"\n",
    "\n",
    "            # Append the edge data with entity name\n",
    "            chunk_entity_edges.append([chunk_id, entity_vertex_id, entity_name])\n",
    "\n",
    "# Create a DataFrame for the edges\n",
    "df_chunk_entity_edges = pd.DataFrame(\n",
    "    chunk_entity_edges, columns=[\"chunk_id\", \"entity_id\", \"entity_name\"]\n",
    ")\n",
    "\n",
    "# Save to CSV\n",
    "csv_path = \"data/CHUNK_WITH_ENTITY.csv\"\n",
    "df_chunk_entity_edges.to_csv(csv_path, index=False)\n",
    "\n",
    "print(f\"CHUNK_WITH_ENTITY edge data saved to {csv_path}\")\n",
    "print(f\"Total edges: {len(df_chunk_entity_edges)}\")"
   ]
  },
  {
   "cell_type": "code",
   "execution_count": 66,
   "id": "2470e599",
   "metadata": {},
   "outputs": [
    {
     "name": "stdout",
     "output_type": "stream",
     "text": [
      "chunk_id,entity_id,entity_name\n",
      "2cf7a230c367a2dfaf0fc3c903eb8948,entity_0,ALEX MERCER\n",
      "2cf7a230c367a2dfaf0fc3c903eb8948,entity_1,TAYLOR CRUZ\n"
     ]
    }
   ],
   "source": [
    "!head data/CHUNK_WITH_ENTITY.csv -n 3"
   ]
  },
  {
   "cell_type": "markdown",
   "id": "b5733cd1",
   "metadata": {},
   "source": [
    "Load the data into NebulaGraph:"
   ]
  },
  {
   "cell_type": "code",
   "execution_count": 68,
   "id": "73e874a0",
   "metadata": {},
   "outputs": [
    {
     "name": "stdout",
     "output_type": "stream",
     "text": [
      "\u001b[1;3;38;2;0;120;215m[INFO] Parsed 307 edges 'ms_paper' for edge type 'CHUNK_WITH_ENTITY' in memory\u001b[0m\n"
     ]
    },
    {
     "data": {
      "application/vnd.jupyter.widget-view+json": {
       "model_id": "358ff6bdba7d483dba4ec307b671bc80",
       "version_major": 2,
       "version_minor": 0
      },
      "text/plain": [
       "Loading Edges:   0%|          | 0/2 [00:00<?, ?it/s]"
      ]
     },
     "metadata": {},
     "output_type": "display_data"
    },
    {
     "name": "stdout",
     "output_type": "stream",
     "text": [
      "Loaded 256 of 307 edges\n",
      "Loaded 307 of 307 edges\n",
      "\u001b[1;3;38;2;0;135;107m[INFO] Successfully loaded 307 edges 'ms_paper' for edge type 'CHUNK_WITH_ENTITY'\u001b[0m\n",
      "\u001b[1;3;38;2;0;120;215m[INFO] Parsed 12 vertices 'ms_paper' for tag '__Chunk' in memory\u001b[0m\n"
     ]
    },
    {
     "data": {
      "application/vnd.jupyter.widget-view+json": {
       "model_id": "016ac64a7e13479084d6bd77157e214d",
       "version_major": 2,
       "version_minor": 0
      },
      "text/plain": [
       "Loading Vertices:   0%|          | 0/1 [00:00<?, ?it/s]"
      ]
     },
     "metadata": {},
     "output_type": "display_data"
    },
    {
     "name": "stdout",
     "output_type": "stream",
     "text": [
      "Loaded 12 of 12 vertices\n",
      "\u001b[1;3;38;2;0;135;107m[INFO] Successfully loaded 12 vertices 'ms_paper' for tag '__Chunk'\u001b[0m\n"
     ]
    }
   ],
   "source": [
    "%ng_load --header --source data/CHUNK_WITH_ENTITY.csv --edge CHUNK_WITH_ENTITY --src 0 --dst 1 --space ms_paper\n",
    "%ng_load --header --source https://github.com/microsoft/graphrag/raw/main/examples_notebooks/inputs/operation%20dulce/create_final_text_units.parquet --tag __Chunk --vid 0 --props 1:text,2:n_tokens --space ms_paper"
   ]
  },
  {
   "cell_type": "code",
   "execution_count": 16,
   "id": "4123c3e5",
   "metadata": {},
   "outputs": [
    {
     "data": {
      "text/html": [
       "<div>\n",
       "<style scoped>\n",
       "    .dataframe tbody tr th:only-of-type {\n",
       "        vertical-align: middle;\n",
       "    }\n",
       "\n",
       "    .dataframe tbody tr th {\n",
       "        vertical-align: top;\n",
       "    }\n",
       "\n",
       "    .dataframe thead th {\n",
       "        text-align: right;\n",
       "    }\n",
       "</style>\n",
       "<table border=\"1\" class=\"dataframe\">\n",
       "  <thead>\n",
       "    <tr style=\"text-align: right;\">\n",
       "      <th></th>\n",
       "      <th>Text_Unit_Snippet</th>\n",
       "      <th>TAG_of_Text_Unit</th>\n",
       "      <th>Edge_Type</th>\n",
       "      <th>Entity_Name</th>\n",
       "      <th>TAG_of_Entity</th>\n",
       "    </tr>\n",
       "  </thead>\n",
       "  <tbody>\n",
       "    <tr>\n",
       "      <th>0</th>\n",
       "      <td>were at once...</td>\n",
       "      <td>__Chunk</td>\n",
       "      <td>CHUNK_WITH_ENTITY</td>\n",
       "      <td>ALEX MERCER</td>\n",
       "      <td>__Entity</td>\n",
       "    </tr>\n",
       "    <tr>\n",
       "      <th>1</th>\n",
       "      <td>were at once...</td>\n",
       "      <td>__Chunk</td>\n",
       "      <td>CHUNK_WITH_ENTITY</td>\n",
       "      <td>TAYLOR CRUZ</td>\n",
       "      <td>__Entity</td>\n",
       "    </tr>\n",
       "    <tr>\n",
       "      <th>2</th>\n",
       "      <td>were at once...</td>\n",
       "      <td>__Chunk</td>\n",
       "      <td>CHUNK_WITH_ENTITY</td>\n",
       "      <td>DULCE MILITARY BASE</td>\n",
       "      <td>__Entity</td>\n",
       "    </tr>\n",
       "    <tr>\n",
       "      <th>3</th>\n",
       "      <td>were at once...</td>\n",
       "      <td>__Chunk</td>\n",
       "      <td>CHUNK_WITH_ENTITY</td>\n",
       "      <td>NEW MEXICO</td>\n",
       "      <td>__Entity</td>\n",
       "    </tr>\n",
       "    <tr>\n",
       "      <th>4</th>\n",
       "      <td>were at once...</td>\n",
       "      <td>__Chunk</td>\n",
       "      <td>CHUNK_WITH_ENTITY</td>\n",
       "      <td>EXTRATERRESTRIAL INTELLIGENCE</td>\n",
       "      <td>__Entity</td>\n",
       "    </tr>\n",
       "    <tr>\n",
       "      <th>5</th>\n",
       "      <td>were at once...</td>\n",
       "      <td>__Chunk</td>\n",
       "      <td>CHUNK_WITH_ENTITY</td>\n",
       "      <td>ALIEN SIGNAL</td>\n",
       "      <td>__Entity</td>\n",
       "    </tr>\n",
       "    <tr>\n",
       "      <th>6</th>\n",
       "      <td>were at once...</td>\n",
       "      <td>__Chunk</td>\n",
       "      <td>CHUNK_WITH_ENTITY</td>\n",
       "      <td>COMMUNICATION ENCRYPTION</td>\n",
       "      <td>__Entity</td>\n",
       "    </tr>\n",
       "    <tr>\n",
       "      <th>7</th>\n",
       "      <td>were at once...</td>\n",
       "      <td>__Chunk</td>\n",
       "      <td>CHUNK_WITH_ENTITY</td>\n",
       "      <td>COVERT OPERATIONS</td>\n",
       "      <td>__Entity</td>\n",
       "    </tr>\n",
       "    <tr>\n",
       "      <th>8</th>\n",
       "      <td>were at once...</td>\n",
       "      <td>__Chunk</td>\n",
       "      <td>CHUNK_WITH_ENTITY</td>\n",
       "      <td>CONTACT WITH EXTRATERRESTRIAL INTELLIGENCE</td>\n",
       "      <td>__Entity</td>\n",
       "    </tr>\n",
       "    <tr>\n",
       "      <th>9</th>\n",
       "      <td>were at once...</td>\n",
       "      <td>__Chunk</td>\n",
       "      <td>CHUNK_WITH_ENTITY</td>\n",
       "      <td>TEAM DECISION-MAKING PROCESS</td>\n",
       "      <td>__Entity</td>\n",
       "    </tr>\n",
       "  </tbody>\n",
       "</table>\n",
       "</div>"
      ],
      "text/plain": [
       "  Text_Unit_Snippet TAG_of_Text_Unit          Edge_Type                                 Entity_Name TAG_of_Entity\n",
       "0   were at once...          __Chunk  CHUNK_WITH_ENTITY                                 ALEX MERCER      __Entity\n",
       "1   were at once...          __Chunk  CHUNK_WITH_ENTITY                                 TAYLOR CRUZ      __Entity\n",
       "2   were at once...          __Chunk  CHUNK_WITH_ENTITY                         DULCE MILITARY BASE      __Entity\n",
       "3   were at once...          __Chunk  CHUNK_WITH_ENTITY                                  NEW MEXICO      __Entity\n",
       "4   were at once...          __Chunk  CHUNK_WITH_ENTITY               EXTRATERRESTRIAL INTELLIGENCE      __Entity\n",
       "5   were at once...          __Chunk  CHUNK_WITH_ENTITY                                ALIEN SIGNAL      __Entity\n",
       "6   were at once...          __Chunk  CHUNK_WITH_ENTITY                    COMMUNICATION ENCRYPTION      __Entity\n",
       "7   were at once...          __Chunk  CHUNK_WITH_ENTITY                           COVERT OPERATIONS      __Entity\n",
       "8   were at once...          __Chunk  CHUNK_WITH_ENTITY  CONTACT WITH EXTRATERRESTRIAL INTELLIGENCE      __Entity\n",
       "9   were at once...          __Chunk  CHUNK_WITH_ENTITY                TEAM DECISION-MAKING PROCESS      __Entity"
      ]
     },
     "execution_count": 16,
     "metadata": {},
     "output_type": "execute_result"
    }
   ],
   "source": [
    "%%ngql \n",
    "\n",
    "MATCH (m)-[e:CHUNK_WITH_ENTITY]->(n)\n",
    "RETURN substring(properties(m).text, 0, 13) + \"...\" AS Text_Unit_Snippet,\n",
    "    tags(m)[0] AS TAG_of_Text_Unit,\n",
    "    type(e) AS Edge_Type,\n",
    "    properties(n).name AS Entity_Name,\n",
    "    tags(n)[0] AS TAG_of_Entity\n",
    "    LIMIT 10"
   ]
  },
  {
   "cell_type": "code",
   "execution_count": null,
   "id": "5fea4fc0",
   "metadata": {},
   "outputs": [],
   "source": [
    "# We could also draw the graph to see the relationship\n",
    "\n",
    "%%ng_draw \n",
    "MATCH p=(m)-[e:CHUNK_WITH_ENTITY]->(n)\n",
    "\n",
    "RETURN p\n",
    "    LIMIT 10"
   ]
  },
  {
   "cell_type": "markdown",
   "id": "08ba3d95",
   "metadata": {},
   "source": [
    "### Community Reports\n",
    "\n",
    "We could see the community reports are the summary of the document, and the community is the group of entities that are related to the report.\n",
    "\n",
    "> df_community_reports\n",
    "\n",
    "```\n",
    "<class 'pandas.core.frame.DataFrame'>\n",
    "RangeIndex: 6 entries, 0 to 5\n",
    "Data columns (total 10 columns):\n",
    " #   Column             Non-Null Count  Dtype  \n",
    "---  ------             --------------  -----  \n",
    " 0   community          6 non-null      object \n",
    " 1   full_content       6 non-null      object \n",
    " 2   level              6 non-null      int64  \n",
    " 3   rank               6 non-null      float64\n",
    " 4   title              6 non-null      object \n",
    " 5   rank_explanation   6 non-null      object \n",
    " 6   summary            6 non-null      object \n",
    " 7   findings           6 non-null      object \n",
    " 8   full_content_json  6 non-null      object \n",
    " 9   id                 6 non-null      object \n",
    "dtypes: float64(1), int64(1), object(8)\n",
    "memory usage: 612.0+ bytes\n",
    "```\n"
   ]
  },
  {
   "cell_type": "code",
   "execution_count": 80,
   "id": "2822788f",
   "metadata": {},
   "outputs": [],
   "source": [
    "df_community_reports = pd.read_parquet(\n",
    "    \"https://github.com/microsoft/graphrag/raw/main/examples_notebooks/inputs/operation%20dulce/create_final_community_reports.parquet\"\n",
    ")"
   ]
  },
  {
   "cell_type": "code",
   "execution_count": 85,
   "id": "ac41ef01",
   "metadata": {},
   "outputs": [
    {
     "data": {
      "text/html": [
       "<div>\n",
       "<style scoped>\n",
       "    .dataframe tbody tr th:only-of-type {\n",
       "        vertical-align: middle;\n",
       "    }\n",
       "\n",
       "    .dataframe tbody tr th {\n",
       "        vertical-align: top;\n",
       "    }\n",
       "\n",
       "    .dataframe thead th {\n",
       "        text-align: right;\n",
       "    }\n",
       "</style>\n",
       "<table border=\"1\" class=\"dataframe\">\n",
       "  <thead>\n",
       "    <tr style=\"text-align: right;\">\n",
       "      <th></th>\n",
       "      <th>community</th>\n",
       "      <th>full_content</th>\n",
       "      <th>level</th>\n",
       "      <th>rank</th>\n",
       "      <th>title</th>\n",
       "      <th>rank_explanation</th>\n",
       "      <th>findings</th>\n",
       "      <th>id</th>\n",
       "    </tr>\n",
       "  </thead>\n",
       "  <tbody>\n",
       "    <tr>\n",
       "      <th>0</th>\n",
       "      <td>4</td>\n",
       "      <td># Dulce Base and the Paranorma</td>\n",
       "      <td>1</td>\n",
       "      <td>8.5</td>\n",
       "      <td>Dulce Base and the Paranormal Military Squad: Interstellar Communication Efforts</td>\n",
       "      <td>The impact severity rating is high due to the potential implications of establishing interstellar communication and the sensitive nature of the Paranormal Military Squad's operations.</td>\n",
       "      <td>[{'explanation': \"Dulce Base is..., {'explanation': \"Taylor Cruz i..., {'explanation': \"Dr. Jordan Ha..., {'explanation': \"Alex Mercer i..., {'explanation': \"The Paranorma...]</td>\n",
       "      <td>6f8ba6b6-506e-46c1-83ce-982d59622554</td>\n",
       "    </tr>\n",
       "  </tbody>\n",
       "</table>\n",
       "</div>"
      ],
      "text/plain": [
       "  community                    full_content  level  rank                                                                             title                                                                                                                                                                         rank_explanation                                                                                                                                                                         findings                                    id\n",
       "0         4  # Dulce Base and the Paranorma      1   8.5  Dulce Base and the Paranormal Military Squad: Interstellar Communication Efforts  The impact severity rating is high due to the potential implications of establishing interstellar communication and the sensitive nature of the Paranormal Military Squad's operations.  [{'explanation': \"Dulce Base is..., {'explanation': \"Taylor Cruz i..., {'explanation': \"Dr. Jordan Ha..., {'explanation': \"Alex Mercer i..., {'explanation': \"The Paranorma...]  6f8ba6b6-506e-46c1-83ce-982d59622554"
      ]
     },
     "execution_count": 85,
     "metadata": {},
     "output_type": "execute_result"
    }
   ],
   "source": [
    "# inspect the data\n",
    "df_community_reports[\n",
    "    [\n",
    "        \"community\",\n",
    "        \"full_content\",\n",
    "        \"level\",\n",
    "        \"rank\",\n",
    "        \"title\",\n",
    "        \"rank_explanation\",\n",
    "        \"findings\",\n",
    "        \"id\",\n",
    "    ]\n",
    "].head(1).apply(\n",
    "    lambda x: x.str[:30]\n",
    "    if isinstance(x, pd.Series) and x.name == \"full_content\"\n",
    "    else (\n",
    "        x.apply(lambda y: [str(item)[:30] + \"...\" for item in y])\n",
    "        if x.name == \"findings\"\n",
    "        else x\n",
    "    )\n",
    ")"
   ]
  },
  {
   "cell_type": "code",
   "execution_count": 43,
   "id": "7203f175-07d1-401d-bd43-634ec39fd8b5",
   "metadata": {},
   "outputs": [
    {
     "data": {
      "text/html": [
       "<div>\n",
       "<style scoped>\n",
       "    .dataframe tbody tr th:only-of-type {\n",
       "        vertical-align: middle;\n",
       "    }\n",
       "\n",
       "    .dataframe tbody tr th {\n",
       "        vertical-align: top;\n",
       "    }\n",
       "\n",
       "    .dataframe thead th {\n",
       "        text-align: right;\n",
       "    }\n",
       "</style>\n",
       "<table border=\"1\" class=\"dataframe\">\n",
       "  <thead>\n",
       "    <tr style=\"text-align: right;\">\n",
       "      <th></th>\n",
       "      <th>Type</th>\n",
       "      <th>Name</th>\n",
       "      <th>Count</th>\n",
       "    </tr>\n",
       "  </thead>\n",
       "  <tbody>\n",
       "    <tr>\n",
       "      <th>0</th>\n",
       "      <td>Tag</td>\n",
       "      <td>ACTIVITY</td>\n",
       "      <td>1</td>\n",
       "    </tr>\n",
       "    <tr>\n",
       "      <th>1</th>\n",
       "      <td>Tag</td>\n",
       "      <td>ATTRIBUTE</td>\n",
       "      <td>3</td>\n",
       "    </tr>\n",
       "    <tr>\n",
       "      <th>2</th>\n",
       "      <td>Tag</td>\n",
       "      <td>CONCEPT</td>\n",
       "      <td>90</td>\n",
       "    </tr>\n",
       "    <tr>\n",
       "      <th>3</th>\n",
       "      <td>Tag</td>\n",
       "      <td>EVENT</td>\n",
       "      <td>4</td>\n",
       "    </tr>\n",
       "    <tr>\n",
       "      <th>4</th>\n",
       "      <td>Tag</td>\n",
       "      <td>EXTRATERRESTRIAL_COMMUNICATION</td>\n",
       "      <td>1</td>\n",
       "    </tr>\n",
       "    <tr>\n",
       "      <th>5</th>\n",
       "      <td>Tag</td>\n",
       "      <td>FACILITY</td>\n",
       "      <td>1</td>\n",
       "    </tr>\n",
       "    <tr>\n",
       "      <th>6</th>\n",
       "      <td>Tag</td>\n",
       "      <td>GEO</td>\n",
       "      <td>4</td>\n",
       "    </tr>\n",
       "    <tr>\n",
       "      <th>7</th>\n",
       "      <td>Tag</td>\n",
       "      <td>MISCELLANEOUS</td>\n",
       "      <td>4</td>\n",
       "    </tr>\n",
       "    <tr>\n",
       "      <th>8</th>\n",
       "      <td>Tag</td>\n",
       "      <td>OBJECT</td>\n",
       "      <td>2</td>\n",
       "    </tr>\n",
       "    <tr>\n",
       "      <th>9</th>\n",
       "      <td>Tag</td>\n",
       "      <td>ORGANIZATION</td>\n",
       "      <td>1</td>\n",
       "    </tr>\n",
       "    <tr>\n",
       "      <th>10</th>\n",
       "      <td>Tag</td>\n",
       "      <td>PERSON</td>\n",
       "      <td>98</td>\n",
       "    </tr>\n",
       "    <tr>\n",
       "      <th>11</th>\n",
       "      <td>Tag</td>\n",
       "      <td>PHENOMENON</td>\n",
       "      <td>1</td>\n",
       "    </tr>\n",
       "    <tr>\n",
       "      <th>12</th>\n",
       "      <td>Tag</td>\n",
       "      <td>PLACE</td>\n",
       "      <td>1</td>\n",
       "    </tr>\n",
       "    <tr>\n",
       "      <th>13</th>\n",
       "      <td>Tag</td>\n",
       "      <td>PROJECT</td>\n",
       "      <td>1</td>\n",
       "    </tr>\n",
       "    <tr>\n",
       "      <th>14</th>\n",
       "      <td>Tag</td>\n",
       "      <td>ROLE</td>\n",
       "      <td>1</td>\n",
       "    </tr>\n",
       "    <tr>\n",
       "      <th>15</th>\n",
       "      <td>Tag</td>\n",
       "      <td>SKILL</td>\n",
       "      <td>1</td>\n",
       "    </tr>\n",
       "    <tr>\n",
       "      <th>16</th>\n",
       "      <td>Tag</td>\n",
       "      <td>STRATEGY</td>\n",
       "      <td>1</td>\n",
       "    </tr>\n",
       "    <tr>\n",
       "      <th>17</th>\n",
       "      <td>Tag</td>\n",
       "      <td>TASK</td>\n",
       "      <td>1</td>\n",
       "    </tr>\n",
       "    <tr>\n",
       "      <th>18</th>\n",
       "      <td>Tag</td>\n",
       "      <td>TRAIT</td>\n",
       "      <td>1</td>\n",
       "    </tr>\n",
       "    <tr>\n",
       "      <th>19</th>\n",
       "      <td>Tag</td>\n",
       "      <td>__Chunk</td>\n",
       "      <td>12</td>\n",
       "    </tr>\n",
       "    <tr>\n",
       "      <th>20</th>\n",
       "      <td>Tag</td>\n",
       "      <td>__Community</td>\n",
       "      <td>6</td>\n",
       "    </tr>\n",
       "    <tr>\n",
       "      <th>21</th>\n",
       "      <td>Tag</td>\n",
       "      <td>__Entity</td>\n",
       "      <td>217</td>\n",
       "    </tr>\n",
       "    <tr>\n",
       "      <th>22</th>\n",
       "      <td>Tag</td>\n",
       "      <td>__Finding</td>\n",
       "      <td>31</td>\n",
       "    </tr>\n",
       "    <tr>\n",
       "      <th>23</th>\n",
       "      <td>Edge</td>\n",
       "      <td>CHUNK_WITH_ENTITY</td>\n",
       "      <td>307</td>\n",
       "    </tr>\n",
       "    <tr>\n",
       "      <th>24</th>\n",
       "      <td>Edge</td>\n",
       "      <td>COMMUNITY_WITH_FINDING</td>\n",
       "      <td>31</td>\n",
       "    </tr>\n",
       "    <tr>\n",
       "      <th>25</th>\n",
       "      <td>Edge</td>\n",
       "      <td>RELATED_TO</td>\n",
       "      <td>69</td>\n",
       "    </tr>\n",
       "    <tr>\n",
       "      <th>26</th>\n",
       "      <td>Space</td>\n",
       "      <td>vertices</td>\n",
       "      <td>266</td>\n",
       "    </tr>\n",
       "    <tr>\n",
       "      <th>27</th>\n",
       "      <td>Space</td>\n",
       "      <td>edges</td>\n",
       "      <td>407</td>\n",
       "    </tr>\n",
       "  </tbody>\n",
       "</table>\n",
       "</div>"
      ],
      "text/plain": [
       "     Type                            Name  Count\n",
       "0     Tag                        ACTIVITY      1\n",
       "1     Tag                       ATTRIBUTE      3\n",
       "2     Tag                         CONCEPT     90\n",
       "3     Tag                           EVENT      4\n",
       "4     Tag  EXTRATERRESTRIAL_COMMUNICATION      1\n",
       "5     Tag                        FACILITY      1\n",
       "6     Tag                             GEO      4\n",
       "7     Tag                   MISCELLANEOUS      4\n",
       "8     Tag                          OBJECT      2\n",
       "9     Tag                    ORGANIZATION      1\n",
       "10    Tag                          PERSON     98\n",
       "11    Tag                      PHENOMENON      1\n",
       "12    Tag                           PLACE      1\n",
       "13    Tag                         PROJECT      1\n",
       "14    Tag                            ROLE      1\n",
       "15    Tag                           SKILL      1\n",
       "16    Tag                        STRATEGY      1\n",
       "17    Tag                            TASK      1\n",
       "18    Tag                           TRAIT      1\n",
       "19    Tag                         __Chunk     12\n",
       "20    Tag                     __Community      6\n",
       "21    Tag                        __Entity    217\n",
       "22    Tag                       __Finding     31\n",
       "23   Edge               CHUNK_WITH_ENTITY    307\n",
       "24   Edge          COMMUNITY_WITH_FINDING     31\n",
       "25   Edge                      RELATED_TO     69\n",
       "26  Space                        vertices    266\n",
       "27  Space                           edges    407"
      ]
     },
     "execution_count": 43,
     "metadata": {},
     "output_type": "execute_result"
    }
   ],
   "source": [
    "%ngql SHOW STATS;"
   ]
  },
  {
   "cell_type": "code",
   "execution_count": 90,
   "id": "21b1f281",
   "metadata": {},
   "outputs": [
    {
     "name": "stdout",
     "output_type": "stream",
     "text": [
      "{'explanation': \"Dulce Base is the primary location for the Paranormal Military Squad's \"\n",
      "                'operations, serving as the central hub for their efforts in interstellar '\n",
      "                'communication with extraterrestrial intelligence. The base facilitates the '\n",
      "                'exchange of information and is the site of significant technological and '\n",
      "                \"strategic activities related to the squad's mission [Data: Entities (4); \"\n",
      "                'Relationships (46, 56, +more)]. The presence of key team members at the base, '\n",
      "                'including Taylor Cruz, Dr. Jordan Hayes, and Alex Mercer, underscores its '\n",
      "                \"importance as the operational headquarters for the squad's clandestine activities \"\n",
      "                '[Data: Relationships (16, 24, 8)].',\n",
      " 'summary': 'Dulce Base as the central hub for interstellar communication'}\n"
     ]
    }
   ],
   "source": [
    "# inspect a finding\n",
    "import json\n",
    "from pprint import pprint\n",
    "\n",
    "finding = df_community_reports[\"findings\"].iloc[0][0]\n",
    "pprint(finding, width=100, compact=True)"
   ]
  },
  {
   "cell_type": "markdown",
   "id": "03809425",
   "metadata": {},
   "source": [
    "Thus, we'll have:\n",
    "\n",
    "- TAG: `__Community`:\n",
    "    - Vertex ID: `id`\n",
    "    - properties `community`, `full_content`, `level`, `rank`, `title`, `rank_explanation`, `summary`\n",
    "- TAG: `__Finding`:\n",
    "    - Vertex ID: f\"finding_{community}_{finding_index}\"\n",
    "    - properties `summary`, `explanation`\n",
    "- EDGE: `COMMUNITY_WITH_FINDING`\n",
    "    - src: Vertex ID of __Community\n",
    "    - dst: Vertex ID of __Finding\n",
    "    - properties `summary`, `explanation`\n",
    "\n",
    "For `__Finding`, we need to iterate the `findings` in df_community_reports, and build a CSV file for `COMMUNITY_WITH_FINDING` EDGE like:\n",
    "\n",
    "```CSV\n",
    "community_hash_id,community_number_id,finding_index,finding_vertex_id,summary,explanation\n",
    "fdfdsfdsdfdf,1,0,finding_1_0,This is a summary of the finding,This is the explanation of the finding\n",
    "```\n"
   ]
  },
  {
   "cell_type": "code",
   "execution_count": 110,
   "id": "b4b90b08",
   "metadata": {},
   "outputs": [
    {
     "name": "stdout",
     "output_type": "stream",
     "text": [
      "CSV file has been generated at: data/COMMUNITY_WITH_FINDINGS.csv\n",
      "Total number of findings: 31\n"
     ]
    }
   ],
   "source": [
    "# Create a list to store the data for the CSV\n",
    "community_with_findings = []\n",
    "\n",
    "# Iterate through each row in df_community_reports\n",
    "for _, row in df_community_reports.iterrows():\n",
    "    community_id = row[\"id\"]\n",
    "    community_number = row[\"community\"]\n",
    "    # Iterate through the findings for each community\n",
    "    for finding_index, finding in enumerate(row[\"findings\"]):\n",
    "        community_with_findings.append(\n",
    "            {\n",
    "                \"community_hash_id\": community_id,\n",
    "                \"community_number_id\": community_number,\n",
    "                \"finding_index\": finding_index,\n",
    "                \"finding_vertex_id\": f\"finding_{community_number}_{finding_index}\",\n",
    "                \"summary\": finding[\"summary\"],\n",
    "                \"explanation\": finding[\"explanation\"],\n",
    "            }\n",
    "        )\n",
    "\n",
    "# Create a DataFrame from the list\n",
    "df_community_with_findings = pd.DataFrame(community_with_findings)\n",
    "\n",
    "# Write the DataFrame to a CSV file\n",
    "output_path = \"data/COMMUNITY_WITH_FINDINGS.csv\"\n",
    "df_community_with_findings.to_csv(output_path, index=False)\n",
    "\n",
    "print(f\"CSV file has been generated at: {output_path}\")\n",
    "print(f\"Total number of findings: {len(df_community_with_findings)}\")\n",
    "\n",
    "#!head data/COMMUNITY_WITH_FINDINGS.csv -n 3"
   ]
  },
  {
   "cell_type": "markdown",
   "id": "544dcd4a",
   "metadata": {},
   "source": [
    "#### Load the data into NebulaGraph"
   ]
  },
  {
   "cell_type": "code",
   "execution_count": 120,
   "id": "442cf5d4",
   "metadata": {},
   "outputs": [
    {
     "data": {
      "text/html": [
       "<div>\n",
       "<style scoped>\n",
       "    .dataframe tbody tr th:only-of-type {\n",
       "        vertical-align: middle;\n",
       "    }\n",
       "\n",
       "    .dataframe tbody tr th {\n",
       "        vertical-align: top;\n",
       "    }\n",
       "\n",
       "    .dataframe thead th {\n",
       "        text-align: right;\n",
       "    }\n",
       "</style>\n",
       "<table border=\"1\" class=\"dataframe\">\n",
       "  <thead>\n",
       "    <tr style=\"text-align: right;\">\n",
       "      <th></th>\n",
       "    </tr>\n",
       "  </thead>\n",
       "  <tbody>\n",
       "  </tbody>\n",
       "</table>\n",
       "</div>"
      ],
      "text/plain": [
       "Empty DataFrame\n",
       "Columns: []\n",
       "Index: []"
      ]
     },
     "execution_count": 120,
     "metadata": {},
     "output_type": "execute_result"
    }
   ],
   "source": [
    "%%ngql \n",
    "CREATE EDGE IF NOT EXISTS `COMMUNITY_WITH_FINDING` ();\n",
    "CREATE TAG IF NOT EXISTS `__Finding` (\n",
    "    `id` string NULL,\n",
    "    `summary` string NULL,\n",
    "    `explanation` string NULL\n",
    ");\n",
    "CREATE TAG IF NOT EXISTS `__Community` (\n",
    "    `id` string NULL,\n",
    "    `community` int NULL,\n",
    "    `full_content` string NULL,\n",
    "    `level` int NULL,\n",
    "    `rank` double NULL,\n",
    "    `title` string NULL,\n",
    "    `rank_explanation` string NULL,\n",
    "    `summary` string NULL\n",
    ");\n"
   ]
  },
  {
   "cell_type": "code",
   "execution_count": 38,
   "id": "b5bc41ce-73d9-4b4b-b9bc-a4a965b16390",
   "metadata": {},
   "outputs": [
    {
     "data": {
      "text/html": [
       "<div>\n",
       "<style scoped>\n",
       "    .dataframe tbody tr th:only-of-type {\n",
       "        vertical-align: middle;\n",
       "    }\n",
       "\n",
       "    .dataframe tbody tr th {\n",
       "        vertical-align: top;\n",
       "    }\n",
       "\n",
       "    .dataframe thead th {\n",
       "        text-align: right;\n",
       "    }\n",
       "</style>\n",
       "<table border=\"1\" class=\"dataframe\">\n",
       "  <thead>\n",
       "    <tr style=\"text-align: right;\">\n",
       "      <th></th>\n",
       "    </tr>\n",
       "  </thead>\n",
       "  <tbody>\n",
       "  </tbody>\n",
       "</table>\n",
       "</div>"
      ],
      "text/plain": [
       "Empty DataFrame\n",
       "Columns: []\n",
       "Index: []"
      ]
     },
     "execution_count": 38,
     "metadata": {},
     "output_type": "execute_result"
    }
   ],
   "source": [
    "# We could create an index of tag `__Community` on `level` to later get global community data by filtering level\n",
    "\n",
    "%ngql CREATE TAG INDEX IF NOT EXISTS community_level_index ON `__Community`(`level`);"
   ]
  },
  {
   "cell_type": "code",
   "execution_count": 121,
   "id": "88f12459",
   "metadata": {},
   "outputs": [
    {
     "data": {
      "text/html": [
       "<div>\n",
       "<style scoped>\n",
       "    .dataframe tbody tr th:only-of-type {\n",
       "        vertical-align: middle;\n",
       "    }\n",
       "\n",
       "    .dataframe tbody tr th {\n",
       "        vertical-align: top;\n",
       "    }\n",
       "\n",
       "    .dataframe thead th {\n",
       "        text-align: right;\n",
       "    }\n",
       "</style>\n",
       "<table border=\"1\" class=\"dataframe\">\n",
       "  <thead>\n",
       "    <tr style=\"text-align: right;\">\n",
       "      <th></th>\n",
       "      <th>Edge</th>\n",
       "      <th>Create Edge</th>\n",
       "    </tr>\n",
       "  </thead>\n",
       "  <tbody>\n",
       "    <tr>\n",
       "      <th>0</th>\n",
       "      <td>COMMUNITY_WITH_FINDING</td>\n",
       "      <td>CREATE EDGE `COMMUNITY_WITH_FINDING` (\\n) ttl_duration = 0, ttl_col = \"\"</td>\n",
       "    </tr>\n",
       "  </tbody>\n",
       "</table>\n",
       "</div>"
      ],
      "text/plain": [
       "                     Edge                                                               Create Edge\n",
       "0  COMMUNITY_WITH_FINDING  CREATE EDGE `COMMUNITY_WITH_FINDING` (\\n) ttl_duration = 0, ttl_col = \"\""
      ]
     },
     "execution_count": 121,
     "metadata": {},
     "output_type": "execute_result"
    }
   ],
   "source": [
    "!sleep 20\n",
    "%ngql SHOW CREATE EDGE COMMUNITY_WITH_FINDING;"
   ]
  },
  {
   "cell_type": "code",
   "execution_count": 124,
   "id": "e1af72b0",
   "metadata": {},
   "outputs": [
    {
     "name": "stdout",
     "output_type": "stream",
     "text": [
      "\u001b[1;3;38;2;0;120;215m[INFO] Parsed 31 edges 'ms_paper' for edge type 'COMMUNITY_WITH_FINDING' in memory\u001b[0m\n"
     ]
    },
    {
     "data": {
      "application/vnd.jupyter.widget-view+json": {
       "model_id": "1c22ed3b9ce84fba8767a36f526d0b45",
       "version_major": 2,
       "version_minor": 0
      },
      "text/plain": [
       "Loading Edges:   0%|          | 0/1 [00:00<?, ?it/s]"
      ]
     },
     "metadata": {},
     "output_type": "display_data"
    },
    {
     "name": "stdout",
     "output_type": "stream",
     "text": [
      "Loaded 31 of 31 edges\n",
      "\u001b[1;3;38;2;0;135;107m[INFO] Successfully loaded 31 edges 'ms_paper' for edge type 'COMMUNITY_WITH_FINDING'\u001b[0m\n",
      "\u001b[1;3;38;2;0;120;215m[INFO] Parsed 6 vertices 'ms_paper' for tag '__Community' in memory\u001b[0m\n"
     ]
    },
    {
     "data": {
      "application/vnd.jupyter.widget-view+json": {
       "model_id": "3a921ab3770f4279b42fde9516ee051e",
       "version_major": 2,
       "version_minor": 0
      },
      "text/plain": [
       "Loading Vertices:   0%|          | 0/1 [00:00<?, ?it/s]"
      ]
     },
     "metadata": {},
     "output_type": "display_data"
    },
    {
     "name": "stdout",
     "output_type": "stream",
     "text": [
      "Loaded 6 of 6 vertices\n",
      "\u001b[1;3;38;2;0;135;107m[INFO] Successfully loaded 6 vertices 'ms_paper' for tag '__Community'\u001b[0m\n",
      "\u001b[1;3;38;2;0;120;215m[INFO] Parsed 31 vertices 'ms_paper' for tag '__Finding' in memory\u001b[0m\n"
     ]
    },
    {
     "data": {
      "application/vnd.jupyter.widget-view+json": {
       "model_id": "f0e495f5d9734e30a0d39a50ce6791f6",
       "version_major": 2,
       "version_minor": 0
      },
      "text/plain": [
       "Loading Vertices:   0%|          | 0/1 [00:00<?, ?it/s]"
      ]
     },
     "metadata": {},
     "output_type": "display_data"
    },
    {
     "name": "stdout",
     "output_type": "stream",
     "text": [
      "Loaded 31 of 31 vertices\n",
      "\u001b[1;3;38;2;0;135;107m[INFO] Successfully loaded 31 vertices 'ms_paper' for tag '__Finding'\u001b[0m\n"
     ]
    }
   ],
   "source": [
    "%ng_load --header --source data/COMMUNITY_WITH_FINDINGS.csv --edge COMMUNITY_WITH_FINDING --src 0 --dst 3 --space ms_paper\n",
    "%ng_load --header --source https://github.com/microsoft/graphrag/raw/main/examples_notebooks/inputs/operation%20dulce/create_final_community_reports.parquet --tag __Community --vid 9 --props 0:community,1:full_content,2:level,3:rank,4:title,5:rank_explanation,6:summary --space ms_paper\n",
    "%ng_load --header --source data/COMMUNITY_WITH_FINDINGS.csv --tag __Finding --vid 3 --props 4:summary,5:explanation --space ms_paper"
   ]
  },
  {
   "cell_type": "code",
   "execution_count": 129,
   "id": "46e7acdc",
   "metadata": {},
   "outputs": [
    {
     "data": {
      "text/html": [
       "<div>\n",
       "<style scoped>\n",
       "    .dataframe tbody tr th:only-of-type {\n",
       "        vertical-align: middle;\n",
       "    }\n",
       "\n",
       "    .dataframe tbody tr th {\n",
       "        vertical-align: top;\n",
       "    }\n",
       "\n",
       "    .dataframe thead th {\n",
       "        text-align: right;\n",
       "    }\n",
       "</style>\n",
       "<table border=\"1\" class=\"dataframe\">\n",
       "  <thead>\n",
       "    <tr style=\"text-align: right;\">\n",
       "      <th></th>\n",
       "      <th>Community_Title</th>\n",
       "      <th>Edge_Type</th>\n",
       "      <th>Finding_Summary</th>\n",
       "    </tr>\n",
       "  </thead>\n",
       "  <tbody>\n",
       "    <tr>\n",
       "      <th>0</th>\n",
       "      <td>Dulce Base and the Para...</td>\n",
       "      <td>COMMUNITY_WITH_FINDING</td>\n",
       "      <td>Dulce Base as the central hub for interstella...</td>\n",
       "    </tr>\n",
       "    <tr>\n",
       "      <th>1</th>\n",
       "      <td>Dulce Base and the Para...</td>\n",
       "      <td>COMMUNITY_WITH_FINDING</td>\n",
       "      <td>Taylor Cruz's strategic leadership within the...</td>\n",
       "    </tr>\n",
       "    <tr>\n",
       "      <th>2</th>\n",
       "      <td>Dulce Base and the Para...</td>\n",
       "      <td>COMMUNITY_WITH_FINDING</td>\n",
       "      <td>Dr. Jordan Hayes' critical role in alien sign...</td>\n",
       "    </tr>\n",
       "    <tr>\n",
       "      <th>3</th>\n",
       "      <td>Dulce Base and the Para...</td>\n",
       "      <td>COMMUNITY_WITH_FINDING</td>\n",
       "      <td>Alex Mercer's leadership and diplomatic role ...</td>\n",
       "    </tr>\n",
       "    <tr>\n",
       "      <th>4</th>\n",
       "      <td>Dulce Base and the Para...</td>\n",
       "      <td>COMMUNITY_WITH_FINDING</td>\n",
       "      <td>Suspected first contact with extraterrestrial...</td>\n",
       "    </tr>\n",
       "    <tr>\n",
       "      <th>5</th>\n",
       "      <td>Dulce Base and the Para...</td>\n",
       "      <td>COMMUNITY_WITH_FINDING</td>\n",
       "      <td>Sam Rivera's pivotal role in alien communicat...</td>\n",
       "    </tr>\n",
       "    <tr>\n",
       "      <th>6</th>\n",
       "      <td>Dulce Base and the Para...</td>\n",
       "      <td>COMMUNITY_WITH_FINDING</td>\n",
       "      <td>Taylor Cruz's strategic and cautious leadersh...</td>\n",
       "    </tr>\n",
       "    <tr>\n",
       "      <th>7</th>\n",
       "      <td>Dulce Base and the Para...</td>\n",
       "      <td>COMMUNITY_WITH_FINDING</td>\n",
       "      <td>Alex Mercer's mentorship and leadership...</td>\n",
       "    </tr>\n",
       "    <tr>\n",
       "      <th>8</th>\n",
       "      <td>Dulce Base and the Para...</td>\n",
       "      <td>COMMUNITY_WITH_FINDING</td>\n",
       "      <td>Jordan Hayes' analytical and decryption exper...</td>\n",
       "    </tr>\n",
       "    <tr>\n",
       "      <th>9</th>\n",
       "      <td>Dulce Base and the Para...</td>\n",
       "      <td>COMMUNITY_WITH_FINDING</td>\n",
       "      <td>The significance of Dulce Base in interstella...</td>\n",
       "    </tr>\n",
       "  </tbody>\n",
       "</table>\n",
       "</div>"
      ],
      "text/plain": [
       "              Community_Title               Edge_Type                                   Finding_Summary\n",
       "0  Dulce Base and the Para...  COMMUNITY_WITH_FINDING  Dulce Base as the central hub for interstella...\n",
       "1  Dulce Base and the Para...  COMMUNITY_WITH_FINDING  Taylor Cruz's strategic leadership within the...\n",
       "2  Dulce Base and the Para...  COMMUNITY_WITH_FINDING  Dr. Jordan Hayes' critical role in alien sign...\n",
       "3  Dulce Base and the Para...  COMMUNITY_WITH_FINDING  Alex Mercer's leadership and diplomatic role ...\n",
       "4  Dulce Base and the Para...  COMMUNITY_WITH_FINDING  Suspected first contact with extraterrestrial...\n",
       "5  Dulce Base and the Para...  COMMUNITY_WITH_FINDING  Sam Rivera's pivotal role in alien communicat...\n",
       "6  Dulce Base and the Para...  COMMUNITY_WITH_FINDING  Taylor Cruz's strategic and cautious leadersh...\n",
       "7  Dulce Base and the Para...  COMMUNITY_WITH_FINDING        Alex Mercer's mentorship and leadership...\n",
       "8  Dulce Base and the Para...  COMMUNITY_WITH_FINDING  Jordan Hayes' analytical and decryption exper...\n",
       "9  Dulce Base and the Para...  COMMUNITY_WITH_FINDING  The significance of Dulce Base in interstella..."
      ]
     },
     "execution_count": 129,
     "metadata": {},
     "output_type": "execute_result"
    }
   ],
   "source": [
    "# Let's see the data in the graph!\n",
    "\n",
    "%%ngql \n",
    "\n",
    "MATCH (m)-[e:COMMUNITY_WITH_FINDING]->(n)\n",
    "RETURN substring(properties(m).title, 0, 23) + \"...\" AS Community_Title,\n",
    "    type(e) AS Edge_Type,\n",
    "    substring(properties(n).summary, 0, 45) + \"...\" AS Finding_Summary\n",
    "    LIMIT 10"
   ]
  },
  {
   "cell_type": "markdown",
   "id": "5082a611-821e-4494-944b-4929a8b22e9a",
   "metadata": {},
   "source": [
    "### Community `--` Entity\n",
    "\n",
    "Finally, let's wire the Community to the Entities they were generated from, we can get this info from `create_final_nodes`."
   ]
  },
  {
   "cell_type": "code",
   "execution_count": 46,
   "id": "15a47038-101d-4a12-987f-a06d8ceb3d01",
   "metadata": {},
   "outputs": [],
   "source": [
    "df_nodes = pd.read_parquet(\n",
    "    \"https://github.com/microsoft/graphrag/raw/main/examples_notebooks/inputs/operation%20dulce/create_final_nodes.parquet\"\n",
    ")\n",
    "\n",
    "df_entities = pd.read_parquet(\n",
    "    \"https://github.com/microsoft/graphrag/raw/main/examples_notebooks/inputs/operation%20dulce/create_final_entities.parquet\"\n",
    ")\n",
    "\n",
    "df_community_reports = pd.read_parquet(\n",
    "    \"https://github.com/microsoft/graphrag/raw/main/examples_notebooks/inputs/operation%20dulce/create_final_community_reports.parquet\"\n",
    ")"
   ]
  },
  {
   "cell_type": "code",
   "execution_count": 55,
   "id": "aa622f33-c976-4434-aaea-e0338e243e3b",
   "metadata": {},
   "outputs": [
    {
     "name": "stdout",
     "output_type": "stream",
     "text": [
      "Columns in df_entities: Index(['id', 'name', 'type', 'description', 'human_readable_id',\n",
      "       'graph_embedding', 'text_unit_ids', 'description_embedding'],\n",
      "      dtype='object')\n",
      "Columns in df_nodes: Index(['level', 'title', 'type', 'description', 'source_id', 'community',\n",
      "       'degree', 'human_readable_id', 'id', 'size', 'graph_embedding',\n",
      "       'entity_type', 'top_level_node_id', 'x', 'y'],\n",
      "      dtype='object')\n",
      "Columns in df_community_reports: Index(['community', 'full_content', 'level', 'rank', 'title',\n",
      "       'rank_explanation', 'summary', 'findings', 'full_content_json', 'id'],\n",
      "      dtype='object')\n",
      "Columns in df_joined: Index(['level', 'title', 'type', 'description', 'source_id', 'community',\n",
      "       'degree', 'human_readable_id_node', 'id', 'size', 'graph_embedding',\n",
      "       'entity_type', 'top_level_node_id', 'x', 'y', 'name',\n",
      "       'human_readable_id_entity'],\n",
      "      dtype='object')\n"
     ]
    },
    {
     "data": {
      "text/html": [
       "<div>\n",
       "<style scoped>\n",
       "    .dataframe tbody tr th:only-of-type {\n",
       "        vertical-align: middle;\n",
       "    }\n",
       "\n",
       "    .dataframe tbody tr th {\n",
       "        vertical-align: top;\n",
       "    }\n",
       "\n",
       "    .dataframe thead th {\n",
       "        text-align: right;\n",
       "    }\n",
       "</style>\n",
       "<table border=\"1\" class=\"dataframe\">\n",
       "  <thead>\n",
       "    <tr style=\"text-align: right;\">\n",
       "      <th></th>\n",
       "      <th>name</th>\n",
       "      <th>community</th>\n",
       "      <th>human_readable_id_entity</th>\n",
       "      <th>id_community</th>\n",
       "      <th>level</th>\n",
       "    </tr>\n",
       "  </thead>\n",
       "  <tbody>\n",
       "    <tr>\n",
       "      <th>0</th>\n",
       "      <td>ALEX MERCER</td>\n",
       "      <td>1</td>\n",
       "      <td>0</td>\n",
       "      <td>6e536385-8056-4a82-8670-c0ccaf007fb4</td>\n",
       "      <td>0</td>\n",
       "    </tr>\n",
       "    <tr>\n",
       "      <th>1</th>\n",
       "      <td>TAYLOR CRUZ</td>\n",
       "      <td>1</td>\n",
       "      <td>1</td>\n",
       "      <td>6e536385-8056-4a82-8670-c0ccaf007fb4</td>\n",
       "      <td>0</td>\n",
       "    </tr>\n",
       "    <tr>\n",
       "      <th>2</th>\n",
       "      <td>JORDAN HAYES</td>\n",
       "      <td>1</td>\n",
       "      <td>2</td>\n",
       "      <td>6e536385-8056-4a82-8670-c0ccaf007fb4</td>\n",
       "      <td>0</td>\n",
       "    </tr>\n",
       "    <tr>\n",
       "      <th>3</th>\n",
       "      <td>SAM RIVERA</td>\n",
       "      <td>1</td>\n",
       "      <td>3</td>\n",
       "      <td>6e536385-8056-4a82-8670-c0ccaf007fb4</td>\n",
       "      <td>0</td>\n",
       "    </tr>\n",
       "    <tr>\n",
       "      <th>4</th>\n",
       "      <td>PARANORMAL MILITARY SQUAD</td>\n",
       "      <td>1</td>\n",
       "      <td>4</td>\n",
       "      <td>6e536385-8056-4a82-8670-c0ccaf007fb4</td>\n",
       "      <td>0</td>\n",
       "    </tr>\n",
       "    <tr>\n",
       "      <th>5</th>\n",
       "      <td>OPERATION: DULCE</td>\n",
       "      <td>3</td>\n",
       "      <td>5</td>\n",
       "      <td>3440e649-a379-4c3e-8f4f-1a309096df20</td>\n",
       "      <td>0</td>\n",
       "    </tr>\n",
       "    <tr>\n",
       "      <th>6</th>\n",
       "      <td>EXTRATERRESTRIAL RESEARCH</td>\n",
       "      <td>2</td>\n",
       "      <td>96</td>\n",
       "      <td>660c8fba-b65f-4fcd-9c98-203600cf1981</td>\n",
       "      <td>0</td>\n",
       "    </tr>\n",
       "    <tr>\n",
       "      <th>7</th>\n",
       "      <td>FIRST CONTACT DATA</td>\n",
       "      <td>0</td>\n",
       "      <td>97</td>\n",
       "      <td>251df57e-fd49-49a7-b262-ccaff95d7a51</td>\n",
       "      <td>0</td>\n",
       "    </tr>\n",
       "    <tr>\n",
       "      <th>8</th>\n",
       "      <td>EXTRATERRESTRIAL PATTERNS</td>\n",
       "      <td>0</td>\n",
       "      <td>98</td>\n",
       "      <td>251df57e-fd49-49a7-b262-ccaff95d7a51</td>\n",
       "      <td>0</td>\n",
       "    </tr>\n",
       "    <tr>\n",
       "      <th>9</th>\n",
       "      <td>CAUTIOUS PERSPECTIVE</td>\n",
       "      <td>1</td>\n",
       "      <td>99</td>\n",
       "      <td>6e536385-8056-4a82-8670-c0ccaf007fb4</td>\n",
       "      <td>0</td>\n",
       "    </tr>\n",
       "  </tbody>\n",
       "</table>\n",
       "</div>"
      ],
      "text/plain": [
       "                        name community  human_readable_id_entity                          id_community  level\n",
       "0                ALEX MERCER         1                         0  6e536385-8056-4a82-8670-c0ccaf007fb4      0\n",
       "1                TAYLOR CRUZ         1                         1  6e536385-8056-4a82-8670-c0ccaf007fb4      0\n",
       "2               JORDAN HAYES         1                         2  6e536385-8056-4a82-8670-c0ccaf007fb4      0\n",
       "3                 SAM RIVERA         1                         3  6e536385-8056-4a82-8670-c0ccaf007fb4      0\n",
       "4  PARANORMAL MILITARY SQUAD         1                         4  6e536385-8056-4a82-8670-c0ccaf007fb4      0\n",
       "5           OPERATION: DULCE         3                         5  3440e649-a379-4c3e-8f4f-1a309096df20      0\n",
       "6  EXTRATERRESTRIAL RESEARCH         2                        96  660c8fba-b65f-4fcd-9c98-203600cf1981      0\n",
       "7         FIRST CONTACT DATA         0                        97  251df57e-fd49-49a7-b262-ccaff95d7a51      0\n",
       "8  EXTRATERRESTRIAL PATTERNS         0                        98  251df57e-fd49-49a7-b262-ccaff95d7a51      0\n",
       "9       CAUTIOUS PERSPECTIVE         1                        99  6e536385-8056-4a82-8670-c0ccaf007fb4      0"
      ]
     },
     "execution_count": 55,
     "metadata": {},
     "output_type": "execute_result"
    }
   ],
   "source": [
    "# Check the columns\n",
    "print(\"Columns in df_entities:\", df_entities.columns)\n",
    "print(\"Columns in df_nodes:\", df_nodes.columns)\n",
    "print(\"Columns in df_community_reports:\", df_community_reports.columns)\n",
    "\n",
    "df_joined = df_nodes[df_nodes[\"community\"].notna()].merge(\n",
    "    df_entities[[\"name\", \"human_readable_id\"]],\n",
    "    left_on=\"title\",  # Use 'title' from df_nodes\n",
    "    right_on=\"name\",  # Use 'name' from df_entities\n",
    "    how=\"left\",\n",
    "    suffixes=(\"_node\", \"_entity\"),  # Add suffixes to distinguish common column names\n",
    ")\n",
    "\n",
    "print(\"Columns in df_joined:\", df_joined.columns)\n",
    "\n",
    "# Join community's id from df_community_reports\n",
    "df_joined = df_joined.merge(\n",
    "    df_community_reports[[\"community\", \"id\"]],\n",
    "    on=\"community\",\n",
    "    how=\"left\",\n",
    "    suffixes=(\"_node\", \"_community\"),\n",
    ")\n",
    "\n",
    "df_joined[\n",
    "    [\"name\", \"community\", \"human_readable_id_entity\", \"id_community\", \"level\"]\n",
    "].head(10)"
   ]
  },
  {
   "cell_type": "markdown",
   "id": "cfbe32d9",
   "metadata": {},
   "source": [
    "Then, let's generate the data in table shape with fields: entity_id, entity_name, community_id, community_hash_id, community_level, like:\n",
    "\n",
    "| entity_id | entity_name | community_id | community_hash_id                    | community_level | \n",
    "| --------- | ----------- | ------------ | ------------------------------------ | --------------- |\n",
    "| entity_0  | ALEX MERCER | 1            | 6e536385-8056-4a82-8670-c0ccaf007fb4 | 0               |\n",
    "\n",
    "Thus we could load the data into NebulaGraph with ease."
   ]
  },
  {
   "cell_type": "code",
   "execution_count": 56,
   "id": "f48e5ab4",
   "metadata": {},
   "outputs": [
    {
     "name": "stdout",
     "output_type": "stream",
     "text": [
      "Data saved to DATA/ENTITY_WITHIN_COMMUNITY.csv\n",
      "  entity_id                entity_name community_id                     community_hash_id  community_level\n",
      "0  entity_0                ALEX MERCER            1  6e536385-8056-4a82-8670-c0ccaf007fb4                0\n",
      "1  entity_1                TAYLOR CRUZ            1  6e536385-8056-4a82-8670-c0ccaf007fb4                0\n",
      "2  entity_2               JORDAN HAYES            1  6e536385-8056-4a82-8670-c0ccaf007fb4                0\n",
      "3  entity_3                 SAM RIVERA            1  6e536385-8056-4a82-8670-c0ccaf007fb4                0\n",
      "4  entity_4  PARANORMAL MILITARY SQUAD            1  6e536385-8056-4a82-8670-c0ccaf007fb4                0\n"
     ]
    }
   ],
   "source": [
    "# Prepare data for ENTITY_WITHIN_COMMUNITY\n",
    "df_entity_within_community = df_joined[\n",
    "    [\"human_readable_id_entity\", \"name\", \"community\", \"id_community\", \"level\"]\n",
    "].copy()\n",
    "\n",
    "# Add prefix 'entity_' to entity_id\n",
    "df_entity_within_community[\"entity_id\"] = \"entity_\" + df_entity_within_community[\n",
    "    \"human_readable_id_entity\"\n",
    "].astype(str)\n",
    "\n",
    "# Rename columns to match desired output\n",
    "df_entity_within_community = df_entity_within_community.rename(\n",
    "    columns={\n",
    "        \"name\": \"entity_name\",\n",
    "        \"community\": \"community_id\",\n",
    "        \"id_community\": \"community_hash_id\",\n",
    "        \"level\": \"community_level\",\n",
    "    }\n",
    ")\n",
    "\n",
    "# Reorder columns\n",
    "df_entity_within_community = df_entity_within_community[\n",
    "    [\"entity_id\", \"entity_name\", \"community_id\", \"community_hash_id\", \"community_level\"]\n",
    "]\n",
    "\n",
    "# Ensure the DATA directory exists\n",
    "import os\n",
    "\n",
    "os.makedirs(\"DATA\", exist_ok=True)\n",
    "\n",
    "# Save to CSV\n",
    "csv_path = \"DATA/ENTITY_WITHIN_COMMUNITY.csv\"\n",
    "df_entity_within_community.to_csv(csv_path, index=False)\n",
    "\n",
    "print(f\"Data saved to {csv_path}\")\n",
    "print(df_entity_within_community.head())"
   ]
  },
  {
   "cell_type": "markdown",
   "id": "2b3e61a1",
   "metadata": {},
   "source": [
    "#### Load the data into NebulaGraph\n",
    "\n",
    "Let's create the EDGE `ENTITY_WITHIN_COMMUNITY` and load the data into NebulaGraph, we put the level into the EDGE properties, too.\n",
    "\n",
    "```\n",
    "CREATE EDGE IF NOT EXISTS `ENTITY_WITHIN_COMMUNITY` (level int);\n",
    "```"
   ]
  },
  {
   "cell_type": "code",
   "execution_count": 57,
   "id": "088429a6",
   "metadata": {},
   "outputs": [
    {
     "data": {
      "text/html": [
       "<div>\n",
       "<style scoped>\n",
       "    .dataframe tbody tr th:only-of-type {\n",
       "        vertical-align: middle;\n",
       "    }\n",
       "\n",
       "    .dataframe tbody tr th {\n",
       "        vertical-align: top;\n",
       "    }\n",
       "\n",
       "    .dataframe thead th {\n",
       "        text-align: right;\n",
       "    }\n",
       "</style>\n",
       "<table border=\"1\" class=\"dataframe\">\n",
       "  <thead>\n",
       "    <tr style=\"text-align: right;\">\n",
       "      <th></th>\n",
       "    </tr>\n",
       "  </thead>\n",
       "  <tbody>\n",
       "  </tbody>\n",
       "</table>\n",
       "</div>"
      ],
      "text/plain": [
       "Empty DataFrame\n",
       "Columns: []\n",
       "Index: []"
      ]
     },
     "execution_count": 57,
     "metadata": {},
     "output_type": "execute_result"
    }
   ],
   "source": [
    "%ngql CREATE EDGE IF NOT EXISTS `ENTITY_WITHIN_COMMUNITY` (level int);\n",
    "\n",
    "!sleep 20"
   ]
  },
  {
   "cell_type": "code",
   "execution_count": 58,
   "id": "819bf0a3",
   "metadata": {},
   "outputs": [
    {
     "name": "stdout",
     "output_type": "stream",
     "text": [
      "\u001b[1;3;38;2;0;120;215m[INFO] Parsed 46 edges 'ms_paper' for edge type 'ENTITY_WITHIN_COMMUNITY' in memory\u001b[0m\n"
     ]
    },
    {
     "data": {
      "application/vnd.jupyter.widget-view+json": {
       "model_id": "df01495dd6d54423ba2f5cd44f5759e9",
       "version_major": 2,
       "version_minor": 0
      },
      "text/plain": [
       "Loading Edges:   0%|          | 0/1 [00:00<?, ?it/s]"
      ]
     },
     "metadata": {},
     "output_type": "display_data"
    },
    {
     "name": "stdout",
     "output_type": "stream",
     "text": [
      "Loaded 46 of 46 edges\n",
      "\u001b[1;3;38;2;0;135;107m[INFO] Successfully loaded 46 edges 'ms_paper' for edge type 'ENTITY_WITHIN_COMMUNITY'\u001b[0m\n"
     ]
    }
   ],
   "source": [
    "%ng_load --header --source DATA/ENTITY_WITHIN_COMMUNITY.csv --edge ENTITY_WITHIN_COMMUNITY --src 0 --dst 3 --props 4:level --space ms_paper"
   ]
  },
  {
   "cell_type": "markdown",
   "id": "f20d6669",
   "metadata": {},
   "source": [
    "### Covariates\n",
    "\n",
    "The covariates are structure metadata of the entities, in case we would like to maximize the quality of GraphRAG Indexing.\n",
    "\n",
    "For instance, we could inspect the covariates of our sample dataset:"
   ]
  },
  {
   "cell_type": "code",
   "execution_count": 132,
   "id": "53e95121-c3b8-4afb-bec7-8225bd62a896",
   "metadata": {},
   "outputs": [],
   "source": [
    "df_covariates = pd.read_parquet(\n",
    "    \"https://github.com/microsoft/graphrag/raw/main/examples_notebooks/inputs/operation%20dulce/create_final_covariates.parquet\"\n",
    ")"
   ]
  },
  {
   "cell_type": "code",
   "execution_count": 133,
   "id": "a68bcc71",
   "metadata": {},
   "outputs": [
    {
     "data": {
      "text/html": [
       "<div>\n",
       "<style scoped>\n",
       "    .dataframe tbody tr th:only-of-type {\n",
       "        vertical-align: middle;\n",
       "    }\n",
       "\n",
       "    .dataframe tbody tr th {\n",
       "        vertical-align: top;\n",
       "    }\n",
       "\n",
       "    .dataframe thead th {\n",
       "        text-align: right;\n",
       "    }\n",
       "</style>\n",
       "<table border=\"1\" class=\"dataframe\">\n",
       "  <thead>\n",
       "    <tr style=\"text-align: right;\">\n",
       "      <th></th>\n",
       "      <th>id</th>\n",
       "      <th>human_readable_id</th>\n",
       "      <th>covariate_type</th>\n",
       "      <th>type</th>\n",
       "      <th>description</th>\n",
       "      <th>subject_id</th>\n",
       "      <th>subject_type</th>\n",
       "      <th>object_id</th>\n",
       "      <th>object_type</th>\n",
       "      <th>status</th>\n",
       "      <th>start_date</th>\n",
       "      <th>end_date</th>\n",
       "      <th>source_text</th>\n",
       "      <th>text_unit_id</th>\n",
       "      <th>document_ids</th>\n",
       "      <th>n_tokens</th>\n",
       "    </tr>\n",
       "  </thead>\n",
       "  <tbody>\n",
       "    <tr>\n",
       "      <th>0</th>\n",
       "      <td>ad5a2020-cdec-4982-acdf-dbe5ee530066</td>\n",
       "      <td>1</td>\n",
       "      <td>claim</td>\n",
       "      <td>MISSION INVOLVEMENT</td>\n",
       "      <td>Agent Alex Mercer's compliance in the briefing room was unsettling, suggesting he might have unspoken complexities or reservations about Operation: Dulce</td>\n",
       "      <td>AGENT ALEX MERCER</td>\n",
       "      <td>None</td>\n",
       "      <td>NONE</td>\n",
       "      <td>None</td>\n",
       "      <td>SUSPECTED</td>\n",
       "      <td>NONE</td>\n",
       "      <td>NONE</td>\n",
       "      <td>\"With dulled eyes, he scanned the projectors outlining their impending odyssey into Operation: Dulce.\" \"The compliance in his tone was unsettling, even to himself.\"</td>\n",
       "      <td>2cf7a230c367a2dfaf0fc3c903eb8948</td>\n",
       "      <td>[958fdd043f17ade63cb13570b59df295]</td>\n",
       "      <td>2500</td>\n",
       "    </tr>\n",
       "    <tr>\n",
       "      <th>1</th>\n",
       "      <td>9d8a0fe5-07b7-4b1a-b5be-1317d0fac005</td>\n",
       "      <td>2</td>\n",
       "      <td>claim</td>\n",
       "      <td>AUTHORITY EXERCISE</td>\n",
       "      <td>Agent Taylor Cruz exercises authority and demands attention in the briefing room, dismissing speculation as counter-productive</td>\n",
       "      <td>AGENT TAYLOR CRUZ</td>\n",
       "      <td>None</td>\n",
       "      <td>NONE</td>\n",
       "      <td>None</td>\n",
       "      <td>TRUE</td>\n",
       "      <td>NONE</td>\n",
       "      <td>NONE</td>\n",
       "      <td>\"It was Taylor Cruz’s voice, laced with an edge that demanded attention.\" \"Taylor snorted dismissively. “Focus, people. We have protocols for a reason. Speculation is counter-productive.”\"</td>\n",
       "      <td>2cf7a230c367a2dfaf0fc3c903eb8948</td>\n",
       "      <td>[958fdd043f17ade63cb13570b59df295]</td>\n",
       "      <td>2500</td>\n",
       "    </tr>\n",
       "    <tr>\n",
       "      <th>2</th>\n",
       "      <td>a5fafdca-b138-4e91-bc85-7cd3472c7093</td>\n",
       "      <td>3</td>\n",
       "      <td>claim</td>\n",
       "      <td>SUPPORTIVE ROLE</td>\n",
       "      <td>Agent Jordan Hayes offers support and emphasizes the importance of details and clear-headedness for Operation: Dulce</td>\n",
       "      <td>AGENT JORDAN HAYES</td>\n",
       "      <td>None</td>\n",
       "      <td>NONE</td>\n",
       "      <td>None</td>\n",
       "      <td>TRUE</td>\n",
       "      <td>NONE</td>\n",
       "      <td>NONE</td>\n",
       "      <td>\"Jordan Hayes, perched on the opposite side of the table, narrowed their eyes but offered a supportive nod. \"Details are imperative. We’ll need your clear-headedness down there, Mercer.\"\"</td>\n",
       "      <td>2cf7a230c367a2dfaf0fc3c903eb8948</td>\n",
       "      <td>[958fdd043f17ade63cb13570b59df295]</td>\n",
       "      <td>2500</td>\n",
       "    </tr>\n",
       "  </tbody>\n",
       "</table>\n",
       "</div>"
      ],
      "text/plain": [
       "                                     id human_readable_id covariate_type                 type                                                                                                                                                description          subject_id subject_type object_id object_type     status start_date end_date                                                                                                                                                                                   source_text                      text_unit_id                        document_ids  n_tokens\n",
       "0  ad5a2020-cdec-4982-acdf-dbe5ee530066                 1          claim  MISSION INVOLVEMENT  Agent Alex Mercer's compliance in the briefing room was unsettling, suggesting he might have unspoken complexities or reservations about Operation: Dulce   AGENT ALEX MERCER         None      NONE        None  SUSPECTED       NONE     NONE                          \"With dulled eyes, he scanned the projectors outlining their impending odyssey into Operation: Dulce.\" \"The compliance in his tone was unsettling, even to himself.\"  2cf7a230c367a2dfaf0fc3c903eb8948  [958fdd043f17ade63cb13570b59df295]      2500\n",
       "1  9d8a0fe5-07b7-4b1a-b5be-1317d0fac005                 2          claim   AUTHORITY EXERCISE                             Agent Taylor Cruz exercises authority and demands attention in the briefing room, dismissing speculation as counter-productive   AGENT TAYLOR CRUZ         None      NONE        None       TRUE       NONE     NONE  \"It was Taylor Cruz’s voice, laced with an edge that demanded attention.\" \"Taylor snorted dismissively. “Focus, people. We have protocols for a reason. Speculation is counter-productive.”\"  2cf7a230c367a2dfaf0fc3c903eb8948  [958fdd043f17ade63cb13570b59df295]      2500\n",
       "2  a5fafdca-b138-4e91-bc85-7cd3472c7093                 3          claim      SUPPORTIVE ROLE                                       Agent Jordan Hayes offers support and emphasizes the importance of details and clear-headedness for Operation: Dulce  AGENT JORDAN HAYES         None      NONE        None       TRUE       NONE     NONE   \"Jordan Hayes, perched on the opposite side of the table, narrowed their eyes but offered a supportive nod. \"Details are imperative. We’ll need your clear-headedness down there, Mercer.\"\"  2cf7a230c367a2dfaf0fc3c903eb8948  [958fdd043f17ade63cb13570b59df295]      2500"
      ]
     },
     "execution_count": 133,
     "metadata": {},
     "output_type": "execute_result"
    }
   ],
   "source": [
    "df_covariates.head(3)"
   ]
  },
  {
   "cell_type": "markdown",
   "id": "97896bc6-414e-441d-bf65-d499613ee7eb",
   "metadata": {},
   "source": [
    "Most of the time, we don't have to leverage covariates info during the retrieval phase, so we don't ingest it into NebulaGraph."
   ]
  },
  {
   "cell_type": "markdown",
   "id": "16f92c2d",
   "metadata": {},
   "source": [
    "## Inspect the graph\n",
    "\n",
    "We firstly connect to NebulaGraph with [Jupyter-NebulaGraph](https://jupyter-nebulagraph.readthedocs.io/en/stable/) which enables use Query, Render Graph in Jupyter in an elegant way."
   ]
  },
  {
   "cell_type": "code",
   "execution_count": 32,
   "id": "8ea093b7-e5d2-4a95-92ef-18d807d13f80",
   "metadata": {},
   "outputs": [
    {
     "name": "stdout",
     "output_type": "stream",
     "text": [
      "The ngql extension is already loaded. To reload it, use:\n",
      "  %reload_ext ngql\n",
      "\u001b[1;3;38;2;0;135;107m[OK] Connection Pool Created\u001b[0m\n"
     ]
    },
    {
     "data": {
      "text/html": [
       "<div>\n",
       "<style scoped>\n",
       "    .dataframe tbody tr th:only-of-type {\n",
       "        vertical-align: middle;\n",
       "    }\n",
       "\n",
       "    .dataframe tbody tr th {\n",
       "        vertical-align: top;\n",
       "    }\n",
       "\n",
       "    .dataframe thead th {\n",
       "        text-align: right;\n",
       "    }\n",
       "</style>\n",
       "<table border=\"1\" class=\"dataframe\">\n",
       "  <thead>\n",
       "    <tr style=\"text-align: right;\">\n",
       "      <th></th>\n",
       "    </tr>\n",
       "  </thead>\n",
       "  <tbody>\n",
       "  </tbody>\n",
       "</table>\n",
       "</div>"
      ],
      "text/plain": [
       "Empty DataFrame\n",
       "Columns: []\n",
       "Index: []"
      ]
     },
     "execution_count": 32,
     "metadata": {},
     "output_type": "execute_result"
    }
   ],
   "source": [
    "%load_ext ngql\n",
    "%ngql --address 127.0.0.1 --port 9669 --user root --password nebula\n",
    "\n",
    "%ngql USE ms_paper"
   ]
  },
  {
   "cell_type": "markdown",
   "id": "597c5904-c4fd-4f5d-84bd-bd71203300e9",
   "metadata": {},
   "source": [
    "For instance, we could see the most connected entities:"
   ]
  },
  {
   "cell_type": "code",
   "execution_count": 33,
   "id": "6c1b0850",
   "metadata": {},
   "outputs": [
    {
     "data": {
      "text/html": [
       "<div>\n",
       "<style scoped>\n",
       "    .dataframe tbody tr th:only-of-type {\n",
       "        vertical-align: middle;\n",
       "    }\n",
       "\n",
       "    .dataframe tbody tr th {\n",
       "        vertical-align: top;\n",
       "    }\n",
       "\n",
       "    .dataframe thead th {\n",
       "        text-align: right;\n",
       "    }\n",
       "</style>\n",
       "<table border=\"1\" class=\"dataframe\">\n",
       "  <thead>\n",
       "    <tr style=\"text-align: right;\">\n",
       "      <th></th>\n",
       "      <th>Entity</th>\n",
       "      <th>Entity Tag</th>\n",
       "      <th>Degree</th>\n",
       "    </tr>\n",
       "  </thead>\n",
       "  <tbody>\n",
       "    <tr>\n",
       "      <th>0</th>\n",
       "      <td>DULCE BASE</td>\n",
       "      <td>MISCELLANEOUS</td>\n",
       "      <td>17</td>\n",
       "    </tr>\n",
       "    <tr>\n",
       "      <th>1</th>\n",
       "      <td>SAM RIVERA</td>\n",
       "      <td>PERSON</td>\n",
       "      <td>15</td>\n",
       "    </tr>\n",
       "    <tr>\n",
       "      <th>2</th>\n",
       "      <td>PARANORMAL MILITARY SQUAD</td>\n",
       "      <td>ORGANIZATION</td>\n",
       "      <td>14</td>\n",
       "    </tr>\n",
       "    <tr>\n",
       "      <th>3</th>\n",
       "      <td>TAYLOR CRUZ</td>\n",
       "      <td>PERSON</td>\n",
       "      <td>12</td>\n",
       "    </tr>\n",
       "    <tr>\n",
       "      <th>4</th>\n",
       "      <td>JORDAN HAYES</td>\n",
       "      <td>PERSON</td>\n",
       "      <td>9</td>\n",
       "    </tr>\n",
       "  </tbody>\n",
       "</table>\n",
       "</div>"
      ],
      "text/plain": [
       "                      Entity     Entity Tag  Degree\n",
       "0                 DULCE BASE  MISCELLANEOUS      17\n",
       "1                 SAM RIVERA         PERSON      15\n",
       "2  PARANORMAL MILITARY SQUAD   ORGANIZATION      14\n",
       "3                TAYLOR CRUZ         PERSON      12\n",
       "4               JORDAN HAYES         PERSON       9"
      ]
     },
     "execution_count": 33,
     "metadata": {},
     "output_type": "execute_result"
    }
   ],
   "source": [
    "%%ngql\n",
    "MATCH (e:`__Entity`)-[r:`RELATED_TO`]-()\n",
    "WITH e, count(r) AS Degree\n",
    "RETURN properties(e).name AS Entity, properties(e).type AS `Entity Tag`, Degree AS Degree\n",
    "ORDER BY Degree DESC\n",
    "LIMIT 5"
   ]
  },
  {
   "cell_type": "markdown",
   "id": "55f5b3be-8e9e-4eb9-93e1-3799c96a47f6",
   "metadata": {},
   "source": [
    "All TAGs:"
   ]
  },
  {
   "cell_type": "code",
   "execution_count": 136,
   "id": "d4133de9",
   "metadata": {},
   "outputs": [
    {
     "data": {
      "text/html": [
       "<div>\n",
       "<style scoped>\n",
       "    .dataframe tbody tr th:only-of-type {\n",
       "        vertical-align: middle;\n",
       "    }\n",
       "\n",
       "    .dataframe tbody tr th {\n",
       "        vertical-align: top;\n",
       "    }\n",
       "\n",
       "    .dataframe thead th {\n",
       "        text-align: right;\n",
       "    }\n",
       "</style>\n",
       "<table border=\"1\" class=\"dataframe\">\n",
       "  <thead>\n",
       "    <tr style=\"text-align: right;\">\n",
       "      <th></th>\n",
       "      <th>Name</th>\n",
       "    </tr>\n",
       "  </thead>\n",
       "  <tbody>\n",
       "    <tr>\n",
       "      <th>0</th>\n",
       "      <td>ACTIVITY</td>\n",
       "    </tr>\n",
       "    <tr>\n",
       "      <th>1</th>\n",
       "      <td>ATTRIBUTE</td>\n",
       "    </tr>\n",
       "    <tr>\n",
       "      <th>2</th>\n",
       "      <td>CONCEPT</td>\n",
       "    </tr>\n",
       "    <tr>\n",
       "      <th>3</th>\n",
       "      <td>EVENT</td>\n",
       "    </tr>\n",
       "    <tr>\n",
       "      <th>4</th>\n",
       "      <td>EXTRATERRESTRIAL_COMMUNICATION</td>\n",
       "    </tr>\n",
       "    <tr>\n",
       "      <th>5</th>\n",
       "      <td>FACILITY</td>\n",
       "    </tr>\n",
       "    <tr>\n",
       "      <th>6</th>\n",
       "      <td>GEO</td>\n",
       "    </tr>\n",
       "    <tr>\n",
       "      <th>7</th>\n",
       "      <td>MISCELLANEOUS</td>\n",
       "    </tr>\n",
       "    <tr>\n",
       "      <th>8</th>\n",
       "      <td>OBJECT</td>\n",
       "    </tr>\n",
       "    <tr>\n",
       "      <th>9</th>\n",
       "      <td>ORGANIZATION</td>\n",
       "    </tr>\n",
       "    <tr>\n",
       "      <th>10</th>\n",
       "      <td>PERSON</td>\n",
       "    </tr>\n",
       "    <tr>\n",
       "      <th>11</th>\n",
       "      <td>PHENOMENON</td>\n",
       "    </tr>\n",
       "    <tr>\n",
       "      <th>12</th>\n",
       "      <td>PLACE</td>\n",
       "    </tr>\n",
       "    <tr>\n",
       "      <th>13</th>\n",
       "      <td>PROJECT</td>\n",
       "    </tr>\n",
       "    <tr>\n",
       "      <th>14</th>\n",
       "      <td>ROLE</td>\n",
       "    </tr>\n",
       "    <tr>\n",
       "      <th>15</th>\n",
       "      <td>SKILL</td>\n",
       "    </tr>\n",
       "    <tr>\n",
       "      <th>16</th>\n",
       "      <td>STRATEGY</td>\n",
       "    </tr>\n",
       "    <tr>\n",
       "      <th>17</th>\n",
       "      <td>TASK</td>\n",
       "    </tr>\n",
       "    <tr>\n",
       "      <th>18</th>\n",
       "      <td>TRAIT</td>\n",
       "    </tr>\n",
       "    <tr>\n",
       "      <th>19</th>\n",
       "      <td>__Chunk</td>\n",
       "    </tr>\n",
       "    <tr>\n",
       "      <th>20</th>\n",
       "      <td>__Community</td>\n",
       "    </tr>\n",
       "    <tr>\n",
       "      <th>21</th>\n",
       "      <td>__Finding</td>\n",
       "    </tr>\n",
       "  </tbody>\n",
       "</table>\n",
       "</div>"
      ],
      "text/plain": [
       "                              Name\n",
       "0                         ACTIVITY\n",
       "1                        ATTRIBUTE\n",
       "2                          CONCEPT\n",
       "3                            EVENT\n",
       "4   EXTRATERRESTRIAL_COMMUNICATION\n",
       "5                         FACILITY\n",
       "6                              GEO\n",
       "7                    MISCELLANEOUS\n",
       "8                           OBJECT\n",
       "9                     ORGANIZATION\n",
       "10                          PERSON\n",
       "11                      PHENOMENON\n",
       "12                           PLACE\n",
       "13                         PROJECT\n",
       "14                            ROLE\n",
       "15                           SKILL\n",
       "16                        STRATEGY\n",
       "17                            TASK\n",
       "18                           TRAIT\n",
       "19                         __Chunk\n",
       "20                     __Community\n",
       "21                       __Finding"
      ]
     },
     "execution_count": 136,
     "metadata": {},
     "output_type": "execute_result"
    }
   ],
   "source": [
    "%ngql SHOW TAGS;"
   ]
  },
  {
   "cell_type": "markdown",
   "id": "6d05f761-8076-4e46-97ad-f2d8abf27f1c",
   "metadata": {},
   "source": [
    "ALL EDGE Types:"
   ]
  },
  {
   "cell_type": "code",
   "execution_count": 21,
   "id": "b903647d-2942-4c6d-a790-a9fad6e7ccab",
   "metadata": {},
   "outputs": [
    {
     "data": {
      "text/html": [
       "<div>\n",
       "<style scoped>\n",
       "    .dataframe tbody tr th:only-of-type {\n",
       "        vertical-align: middle;\n",
       "    }\n",
       "\n",
       "    .dataframe tbody tr th {\n",
       "        vertical-align: top;\n",
       "    }\n",
       "\n",
       "    .dataframe thead th {\n",
       "        text-align: right;\n",
       "    }\n",
       "</style>\n",
       "<table border=\"1\" class=\"dataframe\">\n",
       "  <thead>\n",
       "    <tr style=\"text-align: right;\">\n",
       "      <th></th>\n",
       "      <th>Name</th>\n",
       "    </tr>\n",
       "  </thead>\n",
       "  <tbody>\n",
       "    <tr>\n",
       "      <th>0</th>\n",
       "      <td>CHUNK_WITH_ENTITY</td>\n",
       "    </tr>\n",
       "    <tr>\n",
       "      <th>1</th>\n",
       "      <td>COMMUNITY_WITH_FINDING</td>\n",
       "    </tr>\n",
       "    <tr>\n",
       "      <th>2</th>\n",
       "      <td>ENTITY_WITHIN_COMMUNITY</td>\n",
       "    </tr>\n",
       "    <tr>\n",
       "      <th>3</th>\n",
       "      <td>RELATED_TO</td>\n",
       "    </tr>\n",
       "  </tbody>\n",
       "</table>\n",
       "</div>"
      ],
      "text/plain": [
       "                      Name\n",
       "0        CHUNK_WITH_ENTITY\n",
       "1   COMMUNITY_WITH_FINDING\n",
       "2  ENTITY_WITHIN_COMMUNITY\n",
       "3               RELATED_TO"
      ]
     },
     "execution_count": 21,
     "metadata": {},
     "output_type": "execute_result"
    }
   ],
   "source": [
    "%ngql SHOW EDGES;"
   ]
  },
  {
   "cell_type": "markdown",
   "id": "96abb789-b84e-4c74-b11c-b212de5e8f42",
   "metadata": {},
   "source": [
    "Stats of the Graph:"
   ]
  },
  {
   "cell_type": "code",
   "execution_count": 22,
   "id": "ef80409a-9d83-46ba-a434-c906a82e472a",
   "metadata": {},
   "outputs": [
    {
     "data": {
      "text/html": [
       "<div>\n",
       "<style scoped>\n",
       "    .dataframe tbody tr th:only-of-type {\n",
       "        vertical-align: middle;\n",
       "    }\n",
       "\n",
       "    .dataframe tbody tr th {\n",
       "        vertical-align: top;\n",
       "    }\n",
       "\n",
       "    .dataframe thead th {\n",
       "        text-align: right;\n",
       "    }\n",
       "</style>\n",
       "<table border=\"1\" class=\"dataframe\">\n",
       "  <thead>\n",
       "    <tr style=\"text-align: right;\">\n",
       "      <th></th>\n",
       "      <th>Type</th>\n",
       "      <th>Name</th>\n",
       "      <th>Count</th>\n",
       "    </tr>\n",
       "  </thead>\n",
       "  <tbody>\n",
       "    <tr>\n",
       "      <th>0</th>\n",
       "      <td>Tag</td>\n",
       "      <td>ACTIVITY</td>\n",
       "      <td>1</td>\n",
       "    </tr>\n",
       "    <tr>\n",
       "      <th>1</th>\n",
       "      <td>Tag</td>\n",
       "      <td>ATTRIBUTE</td>\n",
       "      <td>3</td>\n",
       "    </tr>\n",
       "    <tr>\n",
       "      <th>2</th>\n",
       "      <td>Tag</td>\n",
       "      <td>CONCEPT</td>\n",
       "      <td>90</td>\n",
       "    </tr>\n",
       "    <tr>\n",
       "      <th>3</th>\n",
       "      <td>Tag</td>\n",
       "      <td>EVENT</td>\n",
       "      <td>4</td>\n",
       "    </tr>\n",
       "    <tr>\n",
       "      <th>4</th>\n",
       "      <td>Tag</td>\n",
       "      <td>EXTRATERRESTRIAL_COMMUNICATION</td>\n",
       "      <td>1</td>\n",
       "    </tr>\n",
       "    <tr>\n",
       "      <th>5</th>\n",
       "      <td>Tag</td>\n",
       "      <td>FACILITY</td>\n",
       "      <td>1</td>\n",
       "    </tr>\n",
       "    <tr>\n",
       "      <th>6</th>\n",
       "      <td>Tag</td>\n",
       "      <td>GEO</td>\n",
       "      <td>4</td>\n",
       "    </tr>\n",
       "    <tr>\n",
       "      <th>7</th>\n",
       "      <td>Tag</td>\n",
       "      <td>MISCELLANEOUS</td>\n",
       "      <td>4</td>\n",
       "    </tr>\n",
       "    <tr>\n",
       "      <th>8</th>\n",
       "      <td>Tag</td>\n",
       "      <td>OBJECT</td>\n",
       "      <td>2</td>\n",
       "    </tr>\n",
       "    <tr>\n",
       "      <th>9</th>\n",
       "      <td>Tag</td>\n",
       "      <td>ORGANIZATION</td>\n",
       "      <td>1</td>\n",
       "    </tr>\n",
       "    <tr>\n",
       "      <th>10</th>\n",
       "      <td>Tag</td>\n",
       "      <td>PERSON</td>\n",
       "      <td>98</td>\n",
       "    </tr>\n",
       "    <tr>\n",
       "      <th>11</th>\n",
       "      <td>Tag</td>\n",
       "      <td>PHENOMENON</td>\n",
       "      <td>1</td>\n",
       "    </tr>\n",
       "    <tr>\n",
       "      <th>12</th>\n",
       "      <td>Tag</td>\n",
       "      <td>PLACE</td>\n",
       "      <td>1</td>\n",
       "    </tr>\n",
       "    <tr>\n",
       "      <th>13</th>\n",
       "      <td>Tag</td>\n",
       "      <td>PROJECT</td>\n",
       "      <td>1</td>\n",
       "    </tr>\n",
       "    <tr>\n",
       "      <th>14</th>\n",
       "      <td>Tag</td>\n",
       "      <td>ROLE</td>\n",
       "      <td>1</td>\n",
       "    </tr>\n",
       "    <tr>\n",
       "      <th>15</th>\n",
       "      <td>Tag</td>\n",
       "      <td>SKILL</td>\n",
       "      <td>1</td>\n",
       "    </tr>\n",
       "    <tr>\n",
       "      <th>16</th>\n",
       "      <td>Tag</td>\n",
       "      <td>STRATEGY</td>\n",
       "      <td>1</td>\n",
       "    </tr>\n",
       "    <tr>\n",
       "      <th>17</th>\n",
       "      <td>Tag</td>\n",
       "      <td>TASK</td>\n",
       "      <td>1</td>\n",
       "    </tr>\n",
       "    <tr>\n",
       "      <th>18</th>\n",
       "      <td>Tag</td>\n",
       "      <td>TRAIT</td>\n",
       "      <td>1</td>\n",
       "    </tr>\n",
       "    <tr>\n",
       "      <th>19</th>\n",
       "      <td>Tag</td>\n",
       "      <td>__Chunk</td>\n",
       "      <td>12</td>\n",
       "    </tr>\n",
       "    <tr>\n",
       "      <th>20</th>\n",
       "      <td>Tag</td>\n",
       "      <td>__Community</td>\n",
       "      <td>6</td>\n",
       "    </tr>\n",
       "    <tr>\n",
       "      <th>21</th>\n",
       "      <td>Tag</td>\n",
       "      <td>__Entity</td>\n",
       "      <td>217</td>\n",
       "    </tr>\n",
       "    <tr>\n",
       "      <th>22</th>\n",
       "      <td>Tag</td>\n",
       "      <td>__Finding</td>\n",
       "      <td>31</td>\n",
       "    </tr>\n",
       "    <tr>\n",
       "      <th>23</th>\n",
       "      <td>Edge</td>\n",
       "      <td>CHUNK_WITH_ENTITY</td>\n",
       "      <td>307</td>\n",
       "    </tr>\n",
       "    <tr>\n",
       "      <th>24</th>\n",
       "      <td>Edge</td>\n",
       "      <td>COMMUNITY_WITH_FINDING</td>\n",
       "      <td>31</td>\n",
       "    </tr>\n",
       "    <tr>\n",
       "      <th>25</th>\n",
       "      <td>Edge</td>\n",
       "      <td>ENTITY_WITHIN_COMMUNITY</td>\n",
       "      <td>46</td>\n",
       "    </tr>\n",
       "    <tr>\n",
       "      <th>26</th>\n",
       "      <td>Edge</td>\n",
       "      <td>RELATED_TO</td>\n",
       "      <td>69</td>\n",
       "    </tr>\n",
       "    <tr>\n",
       "      <th>27</th>\n",
       "      <td>Space</td>\n",
       "      <td>vertices</td>\n",
       "      <td>266</td>\n",
       "    </tr>\n",
       "    <tr>\n",
       "      <th>28</th>\n",
       "      <td>Space</td>\n",
       "      <td>edges</td>\n",
       "      <td>453</td>\n",
       "    </tr>\n",
       "  </tbody>\n",
       "</table>\n",
       "</div>"
      ],
      "text/plain": [
       "     Type                            Name  Count\n",
       "0     Tag                        ACTIVITY      1\n",
       "1     Tag                       ATTRIBUTE      3\n",
       "2     Tag                         CONCEPT     90\n",
       "3     Tag                           EVENT      4\n",
       "4     Tag  EXTRATERRESTRIAL_COMMUNICATION      1\n",
       "5     Tag                        FACILITY      1\n",
       "6     Tag                             GEO      4\n",
       "7     Tag                   MISCELLANEOUS      4\n",
       "8     Tag                          OBJECT      2\n",
       "9     Tag                    ORGANIZATION      1\n",
       "10    Tag                          PERSON     98\n",
       "11    Tag                      PHENOMENON      1\n",
       "12    Tag                           PLACE      1\n",
       "13    Tag                         PROJECT      1\n",
       "14    Tag                            ROLE      1\n",
       "15    Tag                           SKILL      1\n",
       "16    Tag                        STRATEGY      1\n",
       "17    Tag                            TASK      1\n",
       "18    Tag                           TRAIT      1\n",
       "19    Tag                         __Chunk     12\n",
       "20    Tag                     __Community      6\n",
       "21    Tag                        __Entity    217\n",
       "22    Tag                       __Finding     31\n",
       "23   Edge               CHUNK_WITH_ENTITY    307\n",
       "24   Edge          COMMUNITY_WITH_FINDING     31\n",
       "25   Edge         ENTITY_WITHIN_COMMUNITY     46\n",
       "26   Edge                      RELATED_TO     69\n",
       "27  Space                        vertices    266\n",
       "28  Space                           edges    453"
      ]
     },
     "execution_count": 22,
     "metadata": {},
     "output_type": "execute_result"
    }
   ],
   "source": [
    "%ngql SUBMIT JOB STATS;\n",
    "\n",
    "!sleep 5\n",
    "\n",
    "%ngql SHOW STATS;"
   ]
  },
  {
   "cell_type": "markdown",
   "id": "2a2b83c4-757c-4b31-9510-fb9a1e29719a",
   "metadata": {},
   "source": [
    "How the Graph Schema looks like.\n",
    "\n",
    "Due to we leveraged the multi-TAG feature of NebulaGraph, we could see all tags shared tag with `__Entity` are not connected here, which is as expected, as `RELATED_TO` EDGE is between `__Entity` in such case."
   ]
  },
  {
   "cell_type": "code",
   "execution_count": 19,
   "id": "1a1d3e04-81c7-4e8b-8ff0-84dd250c28ea",
   "metadata": {},
   "outputs": [
    {
     "data": {
      "text/html": [
       "\n",
       "        <iframe\n",
       "            width=\"100%\"\n",
       "            height=\"500px\"\n",
       "            src=\"nebulagraph_schema_cell_19_ms_paper.html\"\n",
       "            frameborder=\"0\"\n",
       "            allowfullscreen\n",
       "            \n",
       "        ></iframe>\n",
       "        "
      ],
      "text/plain": [
       "<IPython.lib.display.IFrame at 0x7fd80270cb30>"
      ]
     },
     "metadata": {},
     "output_type": "display_data"
    },
    {
     "data": {
      "text/plain": [
       "<class 'pyvis.network.Network'> |N|=23 |E|=4"
      ]
     },
     "execution_count": 19,
     "metadata": {},
     "output_type": "execute_result"
    }
   ],
   "source": [
    "%ng_draw_schema"
   ]
  },
  {
   "cell_type": "markdown",
   "id": "b147ec33-ccdb-4743-b274-cf144e707d9b",
   "metadata": {},
   "source": [
    "And we could query and draw some data, too! with `%%ngql` or `%%ng_draw`\n",
    "\n",
    "> NOTE: `%ngql` or `%ng_draw` is for single line query and `%%ngql` or `%%ng_draw` for multiple-line queries.\n"
   ]
  },
  {
   "cell_type": "code",
   "execution_count": 31,
   "id": "aca6ef4e-bf5d-4ca2-9670-a5e34176af3a",
   "metadata": {},
   "outputs": [
    {
     "data": {
      "text/html": [
       "<div>\n",
       "<style scoped>\n",
       "    .dataframe tbody tr th:only-of-type {\n",
       "        vertical-align: middle;\n",
       "    }\n",
       "\n",
       "    .dataframe tbody tr th {\n",
       "        vertical-align: top;\n",
       "    }\n",
       "\n",
       "    .dataframe thead th {\n",
       "        text-align: right;\n",
       "    }\n",
       "</style>\n",
       "<table border=\"1\" class=\"dataframe\">\n",
       "  <thead>\n",
       "    <tr style=\"text-align: right;\">\n",
       "      <th></th>\n",
       "      <th>id(m)</th>\n",
       "      <th>properties(m).name</th>\n",
       "      <th>properties(m).description</th>\n",
       "      <th>tags(m)</th>\n",
       "    </tr>\n",
       "  </thead>\n",
       "  <tbody>\n",
       "    <tr>\n",
       "      <th>0</th>\n",
       "      <td>entity_0</td>\n",
       "      <td>ALEX MERCER</td>\n",
       "      <td>Alex Mercer is a character with a military background who holds a leadership role within the Paranormal Military Squad. He is deeply involved in overseeing operations and making critical decisions during a potential first contact scenario at Dulce Base. As an agent, Mercer exhibits a mix of concern and anticipation, indicative of his experience and the gravity of the mission at hand. His responsibilities include ensuring a cautious approach to interspecies communication, unraveling galactic mysteries, and engaging with an alien signal.\\n\\nMercer is central to the mission's hypothesis and decision-making processes, reflecting his significant involvement in Operation: Dulce. His efforts are not only focused on overseeing the team but also on interspecies communication and decryption efforts. He acknowledges the analytical skills of his colleague, Jordan Hayes, suggesting a respect for his team's abilities and possibly a shared history of facing the unknown together. As the leader of the team at Dulce Base, Alex Mercer is responsible for guiding the team's response to extraterrestrial contact, ensuring that the engagement with extraterrestrial intelligence is handled with the utmost care and strategic foresight.</td>\n",
       "      <td>[__Entity, PERSON]</td>\n",
       "    </tr>\n",
       "  </tbody>\n",
       "</table>\n",
       "</div>"
      ],
      "text/plain": [
       "      id(m) properties(m).name                                                                                                                                                                                                                                                                                                                                                                                                                                                                                                                                                                                                                                                                                                                                                                                                                                                                                                                                                                                                                                                                                                                                                                                                                                                     properties(m).description             tags(m)\n",
       "0  entity_0        ALEX MERCER  Alex Mercer is a character with a military background who holds a leadership role within the Paranormal Military Squad. He is deeply involved in overseeing operations and making critical decisions during a potential first contact scenario at Dulce Base. As an agent, Mercer exhibits a mix of concern and anticipation, indicative of his experience and the gravity of the mission at hand. His responsibilities include ensuring a cautious approach to interspecies communication, unraveling galactic mysteries, and engaging with an alien signal.\\n\\nMercer is central to the mission's hypothesis and decision-making processes, reflecting his significant involvement in Operation: Dulce. His efforts are not only focused on overseeing the team but also on interspecies communication and decryption efforts. He acknowledges the analytical skills of his colleague, Jordan Hayes, suggesting a respect for his team's abilities and possibly a shared history of facing the unknown together. As the leader of the team at Dulce Base, Alex Mercer is responsible for guiding the team's response to extraterrestrial contact, ensuring that the engagement with extraterrestrial intelligence is handled with the utmost care and strategic foresight.  [__Entity, PERSON]"
      ]
     },
     "execution_count": 31,
     "metadata": {},
     "output_type": "execute_result"
    }
   ],
   "source": [
    "%ngql MATCH (m:`__Entity`) RETURN id(m), properties(m).name, properties(m).description, tags(m) LIMIT 1"
   ]
  },
  {
   "cell_type": "code",
   "execution_count": 34,
   "id": "36a44e11-e514-4d91-86f5-903b9a1a0240",
   "metadata": {},
   "outputs": [
    {
     "data": {
      "text/html": [
       "\n",
       "        <iframe\n",
       "            width=\"100%\"\n",
       "            height=\"500px\"\n",
       "            src=\"nebulagraph_cell_34.html\"\n",
       "            frameborder=\"0\"\n",
       "            allowfullscreen\n",
       "            \n",
       "        ></iframe>\n",
       "        "
      ],
      "text/plain": [
       "<IPython.lib.display.IFrame at 0x7fd8026be8d0>"
      ]
     },
     "metadata": {},
     "output_type": "display_data"
    },
    {
     "data": {
      "text/plain": [
       "<class 'pyvis.network.Network'> |N|=55 |E|=50"
      ]
     },
     "execution_count": 34,
     "metadata": {},
     "output_type": "execute_result"
    }
   ],
   "source": [
    "%%ng_draw \n",
    "\n",
    "MATCH p=()--() RETURN p\n",
    "LIMIT 50"
   ]
  },
  {
   "cell_type": "markdown",
   "id": "1a820594",
   "metadata": {},
   "source": [
    "## Vector Indexing"
   ]
  },
  {
   "cell_type": "markdown",
   "id": "ba8a66b3",
   "metadata": {},
   "source": [
    "Now we have Graph Data ingested in NebulaGraph, while to enable GraphRAG, we need Semantic Indexes over graph Data.\n",
    "\n",
    "Now, let's create a Vector Embedding Semantic Index for all Graph Data with Nebula-GenAI-Suite."
   ]
  },
  {
   "cell_type": "markdown",
   "id": "8e37bb3d-b112-49d3-a605-60269a3e2659",
   "metadata": {},
   "source": [
    "### Connect to our Graph"
   ]
  },
  {
   "cell_type": "code",
   "execution_count": 2,
   "id": "07317225-9610-4aa4-a7f1-11a464d66195",
   "metadata": {},
   "outputs": [],
   "source": [
    "from nebula_llm.stores import (\n",
    "    KnowledgeGraphStore,\n",
    "    NebulaGraphStore,\n",
    "    LlamaIndexVectorStore,\n",
    ")\n",
    "from nebula_llm.emb_models import SimpleOpenAIEmbModel\n",
    "from llama_index.vector_stores.milvus import MilvusVectorStore\n",
    "from llama_index.core.vector_stores.simple import SimpleVectorStore\n",
    "from llama_index.core.base.llms.types import ChatMessage, MessageRole\n",
    "from dotenv import load_dotenv\n",
    "import os\n",
    "\n",
    "# Set up NebulaGraph environment variables\n",
    "\n",
    "# load_dotenv()\n",
    "\n",
    "# Or set up NebulaGraph environment variables manually\n",
    "os.environ[\"NEBULA_USER\"] = \"root\"\n",
    "os.environ[\"NEBULA_PASSWORD\"] = \"nebula\"\n",
    "os.environ[\"NEBULA_ADDRESS\"] = \"localhost:9669\"\n",
    "\n",
    "graph_store = NebulaGraphStore(space=\"ms_paper\")"
   ]
  },
  {
   "cell_type": "code",
   "execution_count": 3,
   "id": "6397dc72-05ce-4345-949f-f16ba1a718ba",
   "metadata": {},
   "outputs": [
    {
     "data": {
      "text/plain": [
       "{'Name': ['ACTIVITY',\n",
       "  'ATTRIBUTE',\n",
       "  'CONCEPT',\n",
       "  'EVENT',\n",
       "  'EXTRATERRESTRIAL_COMMUNICATION',\n",
       "  'FACILITY',\n",
       "  'GEO',\n",
       "  'MISCELLANEOUS',\n",
       "  'OBJECT',\n",
       "  'ORGANIZATION',\n",
       "  'PERSON',\n",
       "  'PHENOMENON',\n",
       "  'PLACE',\n",
       "  'PROJECT',\n",
       "  'ROLE',\n",
       "  'SKILL',\n",
       "  'STRATEGY',\n",
       "  'TASK',\n",
       "  'TRAIT',\n",
       "  '__Chunk',\n",
       "  '__Community',\n",
       "  '__Entity',\n",
       "  '__Finding']}"
      ]
     },
     "execution_count": 3,
     "metadata": {},
     "output_type": "execute_result"
    }
   ],
   "source": [
    "# We could `query()` with graph store like:\n",
    "\n",
    "graph_store.query(\"SHOW TAGS\")"
   ]
  },
  {
   "cell_type": "markdown",
   "id": "6328f6c6-8bbe-4920-ac1b-9443aae11963",
   "metadata": {},
   "source": [
    "### Embedding Model"
   ]
  },
  {
   "cell_type": "code",
   "execution_count": 4,
   "id": "288653c1-f849-4031-91bd-fc93270a85dd",
   "metadata": {},
   "outputs": [],
   "source": [
    "emb_model = SimpleOpenAIEmbModel(\n",
    "    api_base=\"http://127.0.0.1:8000\",\n",
    "    api_key=\"DUMMY\",\n",
    "    model_name=\"intfloat/multilingual-e5-large\",\n",
    ")"
   ]
  },
  {
   "cell_type": "code",
   "execution_count": 3,
   "id": "88ddbf32-f7bd-4ab7-b94d-b875fbe1fe7a",
   "metadata": {},
   "outputs": [
    {
     "name": "stdout",
     "output_type": "stream",
     "text": [
      "dim of emb model is: 1024\n"
     ]
    }
   ],
   "source": [
    "dim = len(emb_model.embed(\"Apple Inc\"))\n",
    "print(f\"dim of emb model is: {dim}\")"
   ]
  },
  {
   "cell_type": "markdown",
   "id": "e3a4cedd-36e8-4bde-8f3f-85af6f06acb0",
   "metadata": {},
   "source": [
    "### Vector Store\n",
    "\n",
    "Nebula GenAI Suite supports all Vector Stores, in this demo, we are using an in-memory Vector Store, in production, those like milvus, pinecone, etc are all supported.\n",
    "\n",
    "Example:\n",
    "\n",
    "```python\n",
    "milvus_vec_store = LlamaIndexVectorStore(\n",
    "    store=MilvusVectorStore(\n",
    "        collection_name=\"genshin\",\n",
    "        dim=len(emb_model.embed(\"hello NebulaGraph\")),\n",
    "        uri=os.environ.get(\"MILVUS_URI\", \"http://localhost:19530\"),  # Milvus URI\n",
    "        token=os.environ.get(\"MILVUS_TOKEN\", \"\"),  # Milvus token\n",
    "    ),\n",
    "    emb_model=emb_model,\n",
    ")\n",
    "```"
   ]
  },
  {
   "cell_type": "code",
   "execution_count": 5,
   "id": "394471d6-ec32-40be-aea7-ddac8aed52c1",
   "metadata": {},
   "outputs": [],
   "source": [
    "vec_store = LlamaIndexVectorStore(\n",
    "    store=SimpleVectorStore(),\n",
    "    emb_model=emb_model,\n",
    ")"
   ]
  },
  {
   "cell_type": "markdown",
   "id": "d61e6441-586b-4d9f-b075-e3c56b733faa",
   "metadata": {},
   "source": [
    "### Embedding graph nodes\n",
    "\n",
    "To semantically index all graph nodes we have for Graph RAG, Nebula GenAI Suite enables templating per graph node TAG.\n",
    "\n",
    "First, we could define how to generate the semantic string for each TAG:"
   ]
  },
  {
   "cell_type": "code",
   "execution_count": 6,
   "id": "b02863df-80ea-408d-8f64-6a5e8185b025",
   "metadata": {},
   "outputs": [],
   "source": [
    "from nebula_llm.stores.spec import SchemaSelection\n",
    "\n",
    "schema_selection = SchemaSelection(\n",
    "    tag_sementic_str_templates={\n",
    "        \"__Entity\": \"A {{ type }} named {{ name }}. \\n\\n{{ description }} \\n\\nEntity ID: {{ human_readable_id }}\",\n",
    "        # For all actual entities, we don't embed them\n",
    "        \"PERSON\": \"\",\n",
    "        \"ORGANIZATION\": \"\",\n",
    "        \"EVENT\": \"\",\n",
    "        \"EXTRATERRESTRIAL_COMMUNICATION\": \"\",\n",
    "        \"CONCEPT\": \"\",\n",
    "        \"MISCELLANEOUS\": \"\",\n",
    "        \"OBJECT\": \"\",\n",
    "        \"GEO\": \"\",\n",
    "        \"TASK\": \"\",\n",
    "        \"FACILITY\": \"\",\n",
    "        \"ATTRIBUTE\": \"\",\n",
    "        \"STRATEGY\": \"\",\n",
    "        \"ROLE\": \"\",\n",
    "        \"PROJECT\": \"\",\n",
    "        \"ACTIVITY\": \"\",\n",
    "        \"PLACE\": \"\",\n",
    "        \"SKILL\": \"\",\n",
    "        \"TRAIT\": \"\",\n",
    "        \"PHENOMENON\": \"\",\n",
    "        # other Meta Tags\n",
    "        \"__Chunk\": \"{{ text }}\",\n",
    "        \"__Community\": \"{{ summary }}\",\n",
    "        \"__Finding\": \"{{ summary }}\",\n",
    "        # docs, we didn't take docs into account in this demo\n",
    "        # \"__Document\": \"{{ text }}\",\n",
    "    }\n",
    ")\n",
    "\n",
    "kg = KnowledgeGraphStore(\n",
    "    nebula_store=graph_store,\n",
    "    vec_store=vec_store,\n",
    "    schema_selection=schema_selection,  # Without this, all nodes with all Properties will be vector indexed\n",
    ")"
   ]
  },
  {
   "cell_type": "markdown",
   "id": "da9cc494",
   "metadata": {},
   "source": [
    "Then we'll call `kg.emb_graph()` to generate the vector embeddings for all nodes in the graph."
   ]
  },
  {
   "cell_type": "code",
   "execution_count": 7,
   "id": "feb30f73",
   "metadata": {},
   "outputs": [],
   "source": [
    "kg.emb_graph()"
   ]
  },
  {
   "cell_type": "markdown",
   "id": "d6fd6c63-404c-42f5-96de-23e3319335c9",
   "metadata": {},
   "source": [
    "With the semantic vector index, we could semanticly retrieve entities with `retrieve_semantic()`, which is underlying used in almost all GraphRAG retrievers:"
   ]
  },
  {
   "cell_type": "code",
   "execution_count": 10,
   "id": "83045341-076d-4004-ac0e-f455d2f32392",
   "metadata": {},
   "outputs": [
    {
     "data": {
      "text/plain": [
       "[VertexObject(tags=[TagObject(id='finding_3_3', label='__Finding', properties={'explanation': \"The Paranormal Military Squad is a specialized unit with a mandate to engage in activities related to the paranormal. Their involvement in Operation: Dulce indicates the mission's extraordinary nature and the need for specialized knowledge and skills. The squad's operations within the Dulce Military Base highlight the base's role as a strategic and secure location for conducting sensitive missions [Data: Relationships (39, 45)].\", 'summary': \"The Paranormal Military Squad's expertise\", 'id': None})]),\n",
       " VertexObject(tags=[TagObject(id='finding_0_0', label='__Finding', properties={'explanation': \"The Paranormal Military Squad Team at Dulce Base has undergone a mission transformation from mere observation to active engagement and preparation for communal outreach beyond the stars [Data: Claims (46)]. This shift indicates a proactive approach in establishing humanity's presence in the interstellar narrative [Data: Claims (58, 59)]. The team's engagement in extraterrestrial communication is a historic effort that could mark the beginning of a new era in human-alien relations [Data: Claims (83)]. Their role as humanity's vanguard on the brink of intergalactic exploration underscores the significance of their work [Data: Claims (88)].\", 'summary': \"The Paranormal Military Squad Team's evolving mission\", 'id': None})]),\n",
       " VertexObject(tags=[TagObject(id='finding_2_1', label='__Finding', properties={'explanation': 'The Paranormal Military Squad operates out of Dulce Base, conducting covert missions related to extraterrestrial activity. The secrecy surrounding these operations suggests a high level of importance and sensitivity, with potential national and global security implications [Data: Entities (162); Relationships (46, 47)].', 'summary': 'Covert operations and the role of the Paranormal Military Squad', 'id': None})])]"
      ]
     },
     "execution_count": 10,
     "metadata": {},
     "output_type": "execute_result"
    }
   ],
   "source": [
    "kg.retrieve_semantic(\"超自然军事小队\", max_results=3)"
   ]
  },
  {
   "cell_type": "markdown",
   "id": "8ab6a560",
   "metadata": {},
   "source": [
    "## Graph Search\n",
    "\n",
    "The Global Search is the task we have to in theory perform in-context learning over all the RAG-indexed Knowledge like: `What are the most odd topics they talked about in all podcast episodes`.\n",
    "\n",
    "The hierarchy Graph shape index with Community Summary here works as a mind-graph-like note we could look up to/go through, where each node in the mind-map is summaries not done via chunking but how knowledge items are connected(Graph Community Detection), a global-context aware, connection-oriented smart way of summarization.\n",
    "\n",
    "This \"mind graph\" enables efficient yet high-quality global questions answering\n",
    "\n",
    "ref: https://microsoft.github.io/graphrag/posts/query/0-global_search/\n",
    "\n",
    "The way to implement Global Search from MS Paper was to:\n",
    "\n",
    "**MAP**: Walk through all communities' summaries on a given task, and ask LLM to generate partial answers with a score of importance.\n",
    "\n",
    "**REDUCE**: Generate questions and overall partial answers ranked by the scoring.\n",
    "\n",
    "Below is the code to fetch those prompts and inspect the slot/variables of the prompt:"
   ]
  },
  {
   "cell_type": "code",
   "execution_count": 16,
   "id": "7b87c302",
   "metadata": {},
   "outputs": [
    {
     "name": "stdout",
     "output_type": "stream",
     "text": [
      "Format variables in MAP_SYSTEM_PROMPT:\n",
      "- context_data\n",
      "Format variables in REDUCE_SYSTEM_PROMPT:\n",
      "- response_type\n",
      "- report_data\n"
     ]
    }
   ],
   "source": [
    "import requests\n",
    "import re\n",
    "\n",
    "# Fetch MAP and REDUCE prompts\n",
    "map_prompt_url = \"https://raw.githubusercontent.com/microsoft/graphrag/main/graphrag/query/structured_search/global_search/map_system_prompt.py\"\n",
    "reduce_prompt_url = \"https://raw.githubusercontent.com/microsoft/graphrag/main/graphrag/query/structured_search/global_search/reduce_system_prompt.py\"\n",
    "map_response = requests.get(map_prompt_url)\n",
    "map_system_prompt_dot_py = map_response.text\n",
    "reduce_response = requests.get(reduce_prompt_url)\n",
    "reduce_system_prompt_dot_py = reduce_response.text\n",
    "\n",
    "MAP_SYSTEM_PROMPT: str\n",
    "REDUCE_SYSTEM_PROMPT: str\n",
    "\n",
    "# Evaluate fetched prompt define py code\n",
    "exec(map_system_prompt_dot_py)\n",
    "exec(reduce_system_prompt_dot_py)\n",
    "\n",
    "# Find all format variables in MAP_SYSTEM_PROMPT\n",
    "format_vars = re.findall(r\"\\{(\\w+)\\}\", MAP_SYSTEM_PROMPT)\n",
    "\n",
    "# Print unique format variable names\n",
    "unique_vars = set(format_vars)\n",
    "print(\"Format variables in MAP_SYSTEM_PROMPT:\")\n",
    "for var in unique_vars:\n",
    "    print(f\"- {var}\")\n",
    "\n",
    "# Find all format variables in REDUCE_SYSTEM_PROMPT\n",
    "format_vars = re.findall(r\"\\{(\\w+)\\}\", REDUCE_SYSTEM_PROMPT)\n",
    "# Print unique format variable names\n",
    "unique_vars = set(format_vars)\n",
    "print(\"Format variables in REDUCE_SYSTEM_PROMPT:\")\n",
    "for var in unique_vars:\n",
    "    print(f\"- {var}\")"
   ]
  },
  {
   "cell_type": "markdown",
   "id": "95043587-5db3-43af-8604-824217de5dc9",
   "metadata": {},
   "source": [
    "**We could see:**\n",
    "\n",
    "Format variables in MAP_SYSTEM_PROMPT:\n",
    "- context_data\n",
    "\n",
    "Format variables in REDUCE_SYSTEM_PROMPT:\n",
    "- response_type\n",
    "- report_data\n",
    "\n",
    "Where, from [how those prompt templates were filed](https://github.com/microsoft/graphrag/blob/main/graphrag/query/structured_search/global_search/search.py), we could see the `response_type` was by default the `multiple paragraphs`\n",
    "\n",
    "And `context_data` is Community Summary, `report_data` are all MAP-ed partial answers combined."
   ]
  },
  {
   "cell_type": "markdown",
   "id": "591c46ab-a434-44cc-825f-be47d848fa13",
   "metadata": {},
   "source": [
    "For the MAP step, we could fetch all community summaries, or only filter some levels the communities.\n",
    "\n",
    "> Get all communities\n",
    "\n",
    "```cipher\n",
    "MATCH (comm:`__Community`)\n",
    "RETURN properties(comm).summary AS Summary\n",
    "```\n",
    "\n",
    "> Get with level 0 and 3\n",
    "\n",
    "\n",
    "```cypher\n",
    "MATCH (comm:`__Community`)\n",
    "    WHERE comm.`__Community`.`level` IN [0, 3]\n",
    "RETURN properties(comm).summary AS Summary\n",
    "```\n",
    "\n",
    "Let's see that we could easily retrieve them with such query:"
   ]
  },
  {
   "cell_type": "code",
   "execution_count": 54,
   "id": "30decb6e-3f38-4e60-bef7-9feba633951d",
   "metadata": {},
   "outputs": [
    {
     "data": {
      "text/plain": [
       "['Dulce Base serves as the operational hub for the Paranormal Military Squad Team, which includes key members such as Dr. Jordan Hayes and Agent Alex Mercer. The team is dedicated to analyzing extraterrestrial patterns and preparing for extraterrestrial contact, with a focus on deciphering alien code and interpreting first contact data.',\n",
       " 'This report focuses on Operation: Dulce, a secretive mission by the Paranormal Military Squad at the Dulce Military Base in New Mexico, aimed at establishing contact with extraterrestrial intelligence. The operation is characterized by its high level of secrecy and involves key team members Alex Mercer, Sam Rivera, Taylor Cruz, and Jordan Hayes.']"
      ]
     },
     "execution_count": 54,
     "metadata": {},
     "output_type": "execute_result"
    }
   ],
   "source": [
    "COMMNITY_QUERY = \"\"\"\n",
    "MATCH (comm:`__Community`)\n",
    "    WHERE comm.`__Community`.`level` IN [0, 3]\n",
    "RETURN properties(comm).summary AS Summary\n",
    "\"\"\"\n",
    "\n",
    "graph_store.query(COMMNITY_QUERY).get(\"Summary\")[:2]"
   ]
  },
  {
   "cell_type": "markdown",
   "id": "59963586-88cd-4ad8-b912-11a96aa1b230",
   "metadata": {},
   "source": [
    "### Implementation"
   ]
  },
  {
   "cell_type": "markdown",
   "id": "aedf2ae7",
   "metadata": {},
   "source": [
    "#### LLM\n",
    "\n",
    "Before we implement the Map calls and Reduce calls, let's prepare for the LLM calling code."
   ]
  },
  {
   "cell_type": "code",
   "execution_count": 8,
   "id": "c95215df-51ae-4a97-b6a0-e9e1249cbef7",
   "metadata": {},
   "outputs": [],
   "source": [
    "from llama_index.core.base.llms.types import ChatMessage, MessageRole\n",
    "from llama_index.core.llms.llm import LLM\n",
    "from nebula_llm.llms.openai import OpenAILLM\n",
    "\n",
    "llm = OpenAILLM(\n",
    "    # model=\"mixtral:8x7b-instruct-v0.1-q8_0\",\n",
    "    # model=\"qwen2:72b\",\n",
    "    model=\"gpt-4o\",\n",
    "    api_base=\"http://127.0.0.1:4000\",\n",
    "    api_key=\"sk-siwei-and-yanli-having-fun\",\n",
    ")\n",
    "\n",
    "chat_lm = llm.llama_index_llm"
   ]
  },
  {
   "cell_type": "markdown",
   "id": "61cbffeb",
   "metadata": {},
   "source": [
    "#### MAP LLM call"
   ]
  },
  {
   "cell_type": "code",
   "execution_count": 9,
   "id": "fc5f1a59",
   "metadata": {},
   "outputs": [],
   "source": [
    "def global_search_map_call(llm: LLM, context_data: str, question) -> str:\n",
    "    messages: list[ChatMessage] = [\n",
    "        ChatMessage(\n",
    "            role=MessageRole.SYSTEM,\n",
    "            content=MAP_SYSTEM_PROMPT.format(\n",
    "                context_data=context_data,\n",
    "            ),\n",
    "        ),\n",
    "        ChatMessage(\n",
    "            role=MessageRole.USER,\n",
    "            content=question,\n",
    "        ),\n",
    "    ]\n",
    "    response = llm.chat(messages)\n",
    "    return response.message.content"
   ]
  },
  {
   "cell_type": "markdown",
   "id": "4457cff6",
   "metadata": {},
   "source": [
    "#### Reduce LLM call"
   ]
  },
  {
   "cell_type": "code",
   "execution_count": 10,
   "id": "44d7e330",
   "metadata": {},
   "outputs": [],
   "source": [
    "def global_search_reduce_call(\n",
    "    llm: LLM, report_data: str, question, response_type: str = \"multiple paragraphs\"\n",
    "):\n",
    "    messages: list[ChatMessage] = [\n",
    "        ChatMessage(\n",
    "            role=MessageRole.SYSTEM,\n",
    "            content=REDUCE_SYSTEM_PROMPT.format(\n",
    "                response_type=response_type,\n",
    "                report_data=report_data,\n",
    "            ),\n",
    "        ),\n",
    "        ChatMessage(\n",
    "            role=MessageRole.USER,\n",
    "            content=question,\n",
    "        ),\n",
    "    ]\n",
    "    response = llm.chat(messages)\n",
    "    return response.message.content"
   ]
  },
  {
   "cell_type": "markdown",
   "id": "7181cfd6",
   "metadata": {},
   "source": [
    "#### Global Search Retriever"
   ]
  },
  {
   "cell_type": "code",
   "execution_count": 11,
   "id": "b1ffcf3f",
   "metadata": {},
   "outputs": [],
   "source": [
    "def global_search_query_engine(llm: LLM, question):\n",
    "    map_answers = []\n",
    "    # We didn't filter level here, but we could do so.\n",
    "    COMMNITY_QUERY = (\n",
    "        \"MATCH (comm:`__Community`) RETURN properties(comm).summary AS Summary\"\n",
    "    )\n",
    "\n",
    "    for commnity in graph_store.query(COMMNITY_QUERY).get(\"Summary\"):\n",
    "        map_answers.append(\n",
    "            global_search_map_call(llm, context_data=commnity, question=question)\n",
    "        )\n",
    "    reduce_answers = global_search_reduce_call(\n",
    "        llm, report_data=\"\\n\".join(map_answers), question=question\n",
    "    )\n",
    "    return reduce_answers"
   ]
  },
  {
   "cell_type": "markdown",
   "id": "d3ba130c-9abe-4d79-a01e-d9f471d658ce",
   "metadata": {},
   "source": [
    "### Try Global Search"
   ]
  },
  {
   "cell_type": "code",
   "execution_count": 58,
   "id": "88a2e0ab-73e1-4e76-b6f8-8f8c9d1e85b6",
   "metadata": {},
   "outputs": [
    {
     "name": "stdout",
     "output_type": "stream",
     "text": [
      "### Major Conflict\n",
      "\n",
      "The central conflict in the story revolves around the Paranormal Military Squad Team's efforts to analyze and establish communication with extraterrestrial intelligence. This mission is conducted at the highly secretive Dulce Military Base and involves deciphering alien codes, interpreting first contact data, and managing the potential risks associated with extraterrestrial engagement [Data: Reports (1, 2, 3, 4, 5, Operation: Dulce)].\n",
      "\n",
      "### Protagonists\n",
      "\n",
      "The protagonists are key members of the Paranormal Military Squad Team, specifically Dr. Jordan Hayes, Agent Alex Mercer, Sam Rivera, and Taylor Cruz. These individuals are dedicated to the mission of understanding and preparing for extraterrestrial contact, playing pivotal roles in the operations at Dulce Base [Data: Reports (1, 2, 3, 4, 5, Operation: Dulce)].\n",
      "\n",
      "### Antagonists\n",
      "\n",
      "The antagonists are implied to be the extraterrestrial entities whose patterns and codes the team is trying to decipher. The conflict arises from the unknown nature and potential threat of these extraterrestrial beings, as well as the inherent risks and challenges associated with the mission [Data: Reports (1, 2, 3, 4, 5, Operation: Dulce)].\n",
      "\n",
      "In summary, the story's major conflict centers on the Paranormal Military Squad's covert operations to establish contact with extraterrestrial intelligence, with the protagonists being the dedicated team members and the antagonists being the mysterious and potentially threatening extraterrestrial entities.\n"
     ]
    }
   ],
   "source": [
    "result = global_search_query_engine(\n",
    "    llm=chat_lm,\n",
    "    question=\"What is the major conflict in this story and who are the protagonist and antagonist?\",\n",
    ")\n",
    "\n",
    "\n",
    "print(result)"
   ]
  },
  {
   "cell_type": "markdown",
   "id": "5cc0cb51-d4e3-44c8-94b0-c28ea8be3f9a",
   "metadata": {},
   "source": [
    "## Local Search\n",
    "\n",
    "We didn't have to 100% reproduce what MS Paper proposed for Local Search, instead, we are leveraging NebulaGraph GraphRAG implementation to perform `Local Search`:\n",
    "\n",
    "First, let's prepare for LLM, too"
   ]
  },
  {
   "cell_type": "code",
   "execution_count": 12,
   "id": "d5bb521c-4fc3-4ffb-adff-ec563b491598",
   "metadata": {},
   "outputs": [],
   "source": [
    "from nebula_llm.query_engine.subgraph_engine import (\n",
    "    SubgraphEngine,  # Purely Retrival\n",
    "    SubgraphSimpleQAEngine,  # QA\n",
    ")\n",
    "\n",
    "from nebula_llm.llms.openai import OpenAILLM\n",
    "\n",
    "llm = OpenAILLM(\n",
    "    # model=\"mixtral:8x7b-instruct-v0.1-q8_0\",\n",
    "    # model=\"qwen2:72b\",\n",
    "    model=\"gpt-4o\",\n",
    "    api_base=\"http://127.0.0.1:4000\",\n",
    "    api_key=\"sk-siwei-and-yanli-having-fun\",\n",
    ")"
   ]
  },
  {
   "cell_type": "markdown",
   "id": "255badab-ca56-42d6-b267-d9c5972f5591",
   "metadata": {},
   "source": [
    "### SubGraph RAG Retrival"
   ]
  },
  {
   "cell_type": "markdown",
   "id": "8a2af0b2-6ffd-49d4-84c4-a15a7a551eec",
   "metadata": {},
   "source": [
    "We use the SubGraph RAG query engine with both R and G(QA Style) for quickly see a QA task."
   ]
  },
  {
   "cell_type": "code",
   "execution_count": 64,
   "id": "d9dec778-4de7-4fb2-8870-802e1eb6c761",
   "metadata": {},
   "outputs": [],
   "source": [
    "# QA style query\n",
    "engine = SubgraphSimpleQAEngine(\n",
    "    llm=llm,\n",
    "    graph=kg,\n",
    "    # verbose=True,\n",
    ")\n",
    "res = engine.query(\"Jordan Hayes 做了什么事情?\")"
   ]
  },
  {
   "cell_type": "code",
   "execution_count": 65,
   "id": "906261ed-6e4f-43d8-a32e-6bf70bd2ec33",
   "metadata": {},
   "outputs": [
    {
     "data": {
      "text/plain": [
       "'Jordan Hayes 在外星信号解密和分析方面发挥了关键作用。他是超自然军事小队的核心人物，领导团队解密和解释外星信号。Hayes 的分析和怀疑性格确保了团队在通信工作中的方法论。他与 Alex Mercer 的合作以及对彼此专业知识的相互尊重，表明团队依赖 Hayes 的技能来解密和分析外星信息。此外，Hayes 专注于隔离信号谐波和解密外星信息，其解密算法和分析的专业知识对任务至关重要。'"
      ]
     },
     "execution_count": 65,
     "metadata": {},
     "output_type": "execute_result"
    }
   ],
   "source": [
    "res.answer"
   ]
  },
  {
   "cell_type": "markdown",
   "id": "db633e60-ea53-43aa-a2e8-d92db5c3b7c8",
   "metadata": {},
   "source": [
    "We could see with such graph shape knowledge being queried with SubGraph RAG, simple knowledge questions could be answered well."
   ]
  },
  {
   "cell_type": "markdown",
   "id": "742ad390-d646-403e-82aa-580c03ef199e",
   "metadata": {},
   "source": [
    "### Graph Reasoning\n",
    "\n",
    "While, complex tasks cannot be performed well with such approaches, let's see this question."
   ]
  },
  {
   "cell_type": "code",
   "execution_count": 10,
   "id": "108fdfaa-8789-4b96-8ced-07a0b82d0bd7",
   "metadata": {},
   "outputs": [],
   "source": [
    "engine = SubgraphSimpleQAEngine(\n",
    "    llm=llm,\n",
    "    graph=kg,\n",
    ")\n",
    "res = engine.query(\"Alex Mercer 在面对“Dulce行动”任务时表现出了怎样的情感？他对任务的态度有何变化？\")"
   ]
  },
  {
   "cell_type": "code",
   "execution_count": 11,
   "id": "926dccaa-a8c2-41a3-852f-d216737f9689",
   "metadata": {},
   "outputs": [
    {
     "name": "stdout",
     "output_type": "stream",
     "text": [
      "Alex Mercer在面对“Dulce行动”任务时表现出了领导和外交的情感。他的态度始终保持着外交和战略规划的平衡，专注于与外星智慧建立联系。Mercer在任务中展现出指导和协作的精神，尽管任务的复杂性和潜在的风险很高，他的态度并没有明显的变化，始终保持着冷静和专业。\n"
     ]
    }
   ],
   "source": [
    "print(res.answer)"
   ]
  },
  {
   "cell_type": "markdown",
   "id": "d3c61680-1dbc-4d8f-b7f3-198d7a54fcf6",
   "metadata": {},
   "source": [
    "We don't have confidence that a normal static local search approach can answer such questions,(instead, the global search would do but it's too expensive actually)\n",
    "\n",
    "While, we could leverage the more-advanced Graph Reasoning based retrival approach as the Graph RAG retrieval strategy that balance the cost and comprehensiveness/flexibility: **Chain of Exploration**"
   ]
  },
  {
   "cell_type": "code",
   "execution_count": 14,
   "id": "d20b70ff-3d94-4db2-9d82-1596c8ec22da",
   "metadata": {},
   "outputs": [],
   "source": [
    "from nebula_llm.knowledge_accessers.chain_of_exploration import ChainOfExplorationHelper\n",
    "\n",
    "# Graph Reason\n",
    "coe = ChainOfExplorationHelper(\n",
    "    llm=llm,\n",
    "    graph=kg,\n",
    ")"
   ]
  },
  {
   "cell_type": "code",
   "execution_count": 29,
   "id": "dbf71ddd-5e81-4403-bdf8-1109de89d93e",
   "metadata": {},
   "outputs": [
    {
     "name": "stdout",
     "output_type": "stream",
     "text": [
      "在面对“Dulce行动”任务时表现出了一种混合的情感，既有担忧也有期待。这反映了他对任务的重视和对未知的谨慎态度。他的态度随着任务的进展而变化，从最初的谨慎和战略性思考，到逐渐展现出对团队成功的信心和对与外星智慧交流的期待。\n"
     ]
    }
   ],
   "source": [
    "coe_res = coe.answer(\"Alex Mercer 在面对“Dulce行动”任务时表现出了怎样的情感？他对任务的态度有何变化？\")\n",
    "print(coe_res.get(\"answer\"))"
   ]
  },
  {
   "cell_type": "markdown",
   "id": "872ebd8e-4ed7-4943-a25b-7ccb0d363208",
   "metadata": {},
   "source": [
    "--------------\n",
    "\n",
    "We asked GPT-4 with the full context of raw knowledge to judge the two results, from where, we could see the CoE approach would perform reasoning over graph based on task and schema and thus came with a slightly better answer:\n",
    "\n",
    "> 在这两个回答中，第一个回答更准确地反映了亚历克斯·默瑟（Alex Mercer）在《Operation: Dulce》任务中情感和态度的变化。\n",
    ">\n",
    "> 第一个回答提到了他在任务中的担忧和期待，并且指出了他态度的逐渐变化——从最初的谨慎和战略性思考，到逐渐展现出对任务成功的信心以及与外星智慧交流的期待。这种情感和态度的变化更符合文章中描绘的亚历克斯·默瑟在面对任务时的心理过程。\n",
    ">\n",
    "> 第二个回答虽然也正确地指出了亚历克斯·默瑟在任务中的领导和外交情感，但它忽略了他情感和态度随任务进展而产生的变化，只强调了他在任务中始终保持冷静和专业，这并未完全反映出文章中他的心理发展和对任务的态度变化。"
   ]
  },
  {
   "cell_type": "markdown",
   "id": "5fd41903-960c-4891-8ea2-33a293426667",
   "metadata": {},
   "source": [
    "## More questions to query"
   ]
  },
  {
   "cell_type": "markdown",
   "id": "da8fbba0-d4a3-4c74-80a9-a2e2a9b26238",
   "metadata": {},
   "source": [
    "----------\n",
    "\n",
    "Other question candidates:\n",
    "\n",
    "亚历克斯·默瑟（Alex Mercer）在面对“Dulce行动”任务时表现出了怎样的情感？他对任务的态度有何变化？\n",
    "\n",
    "乔丹·海耶斯博士（Dr. Jordan Hayes）在团队中的角色是什么？他是如何看待与外星智能的接触的？\n",
    "\n",
    "泰勒·克鲁兹（Taylor Cruz）如何对待任务中的未知因素？他对团队的建议体现了什么样的思维方式？\n",
    "\n",
    "团队是如何意识到他们正在与一种智能生命进行交流的？这个智能生命的表现有哪些特点？\n",
    "\n",
    "故事中提到的“音乐”或“节奏”象征着什么？它在与外星智能的交流中起到了什么作用？\n",
    "\n",
    "乔丹·海耶斯博士认为，团队在与外星智能交流时应该保持什么样的态度？这与泰勒·克鲁兹的观点有何不同？\n",
    "\n",
    "为什么团队成员认为这次任务已经超越了普通的军事任务？他们在面对这种情况时表现出了什么样的心理反应？\n",
    "\n",
    "萨姆·里维拉（Sam Rivera）在故事中表现出怎样的个性？他的乐观态度如何影响了团队的氛围？\n",
    "\n",
    "你认为故事中的外星智能对人类怀有善意、敌意还是中立？为什么？\n",
    "\n",
    "从整体来看，你认为这篇文章试图传达什么样的主题或信息？这与人类在宇宙中探索未知的过程中可能面临的挑战有何关系？\n",
    "\n",
    "----\n",
    "\n",
    "Let's try compare a global question performance over CoE and Global Result:"
   ]
  },
  {
   "cell_type": "code",
   "execution_count": 17,
   "id": "b980025d-4ea6-46d9-8520-3c171bef939f",
   "metadata": {},
   "outputs": [
    {
     "name": "stdout",
     "output_type": "stream",
     "text": [
      "Chain of exploration Local search\n",
      "\n",
      "这篇文章试图传达的主题是关于Dulce基地在解密外星信号和与外星智能交流方面的关键作用。文章强调了该基地在外星通信和研究中的重要性，以及其对全球安全和人类对宇宙理解的潜在影响。这与人类在宇宙中探索未知过程中可能面临的挑战密切相关，包括解读复杂的外星信息、处理高度机密的操作以及应对与外星智能接触带来的不确定性和风险。\n",
      "global search\n",
      "\n",
      "### 主题与信息\n",
      "\n",
      "这篇文章主要传达了人类在探索宇宙未知领域时所面临的挑战和努力。文章以Dulce基地为中心，描述了一个名为“超自然军事小队”的秘密任务，该任务旨在与外星智慧建立联系 [Data: Reports (1, 2, 3, 4, 5)]。Dulce基地位于新墨西哥州，是该小队的行动枢纽，专注于外星通信和研究 [Data: Reports (1, 2, 3, 4, 5)]。文章强调了人类对未知领域的探索和理解的渴望，以及在这一过程中所需的高度机密性和先进技术 [Data: Reports (1, 2, 3, 4, 5)]。\n",
      "\n",
      "### 关键人物与团队合作\n",
      "\n",
      "文章还突出了关键人物在这一任务中的重要性，如Dr. Jordan Hayes、Agent Alex Mercer、Sam Rivera和Taylor Cruz等，他们在解码外星信号和解释首次接触数据方面发挥了重要作用 [Data: Reports (1, 2, 3, 4, 5, +more)]。这些人物的专业技能和团队合作被认为是克服探索未知领域挑战的关键 [Data: Reports (1, 2, 3, 4, 5)]。\n",
      "\n",
      "### 挑战与不确定性\n",
      "\n",
      "探索外星智慧的过程充满了挑战和不确定性。文章提到，解码外星信号和建立通信是复杂且具有高度安全性和技术挑战的任务 [Data: Reports (1, 2, 3, 4, 5)]。此外，任务的高度机密性也反映了潜在的风险和需要保密的必要性 [Data: Reports (1, 2, 3, 4, 5)]。这些挑战不仅仅是技术上的，还包括如何在不确定的情况下进行谨慎而乐观的探索 [Data: Reports (1)]。\n",
      "\n",
      "### 人类探索的广泛意义\n",
      "\n",
      "文章还暗示了这一任务可能带来的广泛意义。与外星智慧的首次接触可能会极大地改变我们对宇宙的理解 [Data: Reports (1, 2, 3, 4, 5)]。这不仅是对未知领域的探索，更是对人类知识和技术的极大考验和推动 [Data: Reports (1, 2, 3, 4, 5)]。\n",
      "\n",
      "### 总结\n",
      "\n",
      "总体而言，这篇文章通过描述Dulce基地的秘密任务，探讨了人类在探索宇宙未知领域时所面临的多重挑战和努力。文章强调了专业技能、团队合作和高度机密性的重要性，同时也反映了人类对知识和理解的无尽追求 [Data: Reports (1, 2, 3, 4, 5, +more)]。\n"
     ]
    }
   ],
   "source": [
    "coe_res = coe.answer(\"从整体来看，你认为这篇文章试图传达什么样的主题或信息？这与人类在宇宙中探索未知的过程中可能面临的挑战有何关系？\")\n",
    "print(\"Chain of exploration Local search\\n\")\n",
    "print(coe_res.get(\"answer\"))\n",
    "\n",
    "global_result = global_search_query_engine(\n",
    "    llm=chat_lm,\n",
    "    question=\"从整体来看，你认为这篇文章试图传达什么样的主题或信息？这与人类在宇宙中探索未知的过程中可能面临的挑战有何关系？\",\n",
    ")\n",
    "print(\"global search\\n\")\n",
    "print(global_result)"
   ]
  },
  {
   "cell_type": "markdown",
   "id": "1c1acf9d-3858-495c-9129-f1f1929893b0",
   "metadata": {},
   "source": [
    "> 可以看到尽管 CoE 作为优秀的 Local Search 策略，仍然不如 Global Search 上的表现，但是至少有一个优化是可能提高 CoE 的 Global 问题的效果的：增加对全局上下文图数据 Schema 的解释，让规划时 LLM 更加理解 community, finding 意味着什么，这将是下一步在实现内置 Global Search 方法时候的工作。"
   ]
  },
  {
   "cell_type": "markdown",
   "id": "bf177ff5-d370-4c81-a1de-dce804a64c68",
   "metadata": {},
   "source": [
    "## Future Work\n",
    "\n",
    "- Make MS Paper a buildin indexing and query engine within GenAI Suite\n",
    "- Consider a CoE-like implementation with Global Search planning action\n"
   ]
  }
 ],
 "metadata": {
  "kernelspec": {
   "display_name": "Python 3 (ipykernel)",
   "language": "python",
   "name": "python3"
  },
  "language_info": {
   "codemirror_mode": {
    "name": "ipython",
    "version": 3
   },
   "file_extension": ".py",
   "mimetype": "text/x-python",
   "name": "python",
   "nbconvert_exporter": "python",
   "pygments_lexer": "ipython3",
   "version": "3.12.2"
  }
 },
 "nbformat": 4,
 "nbformat_minor": 5
}

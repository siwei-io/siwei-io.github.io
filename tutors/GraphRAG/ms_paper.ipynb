{
 "cells": [
  {
   "cell_type": "markdown",
   "id": "6db8de07-3b29-450b-9583-d09832fd718b",
   "metadata": {},
   "source": [
    "## MS Local to Global"
   ]
  },
  {
   "cell_type": "markdown",
   "id": "35d6f98a-2a35-4682-b49f-a68ca3bcb67b",
   "metadata": {},
   "source": [
    "A Graph Indexed from Docs with Nebula Catalyst:"
   ]
  },
  {
   "cell_type": "code",
   "execution_count": null,
   "id": "f2aaa51d-5634-415f-a8e5-1f1b706c0ae1",
   "metadata": {},
   "outputs": [],
   "source": [
    "%load_ext ngql\n",
    "%ngql --address 127.0.0.1 --port 9669 --user root --password nebula"
   ]
  },
  {
   "cell_type": "code",
   "execution_count": 3,
   "id": "21a8e6f7-461b-4076-bee5-f39f5815549a",
   "metadata": {},
   "outputs": [
    {
     "data": {
      "text/html": [
       "<div>\n",
       "<style scoped>\n",
       "    .dataframe tbody tr th:only-of-type {\n",
       "        vertical-align: middle;\n",
       "    }\n",
       "\n",
       "    .dataframe tbody tr th {\n",
       "        vertical-align: top;\n",
       "    }\n",
       "\n",
       "    .dataframe thead th {\n",
       "        text-align: right;\n",
       "    }\n",
       "</style>\n",
       "<table border=\"1\" class=\"dataframe\">\n",
       "  <thead>\n",
       "    <tr style=\"text-align: right;\">\n",
       "      <th></th>\n",
       "    </tr>\n",
       "  </thead>\n",
       "  <tbody>\n",
       "  </tbody>\n",
       "</table>\n",
       "</div>"
      ],
      "text/plain": [
       "Empty DataFrame\n",
       "Columns: []\n",
       "Index: []"
      ]
     },
     "execution_count": 3,
     "metadata": {},
     "output_type": "execute_result"
    }
   ],
   "source": [
    "%ngql USE catalyst_graph_vector_ks_12_index_185"
   ]
  },
  {
   "cell_type": "code",
   "execution_count": 4,
   "id": "aad04e5a-15a6-4d79-b092-45ba5e10ca4f",
   "metadata": {},
   "outputs": [
    {
     "data": {
      "text/html": [
       "\n",
       "        <iframe\n",
       "            width=\"100%\"\n",
       "            height=\"500px\"\n",
       "            src=\"nebulagraph_cell_4.html\"\n",
       "            frameborder=\"0\"\n",
       "            allowfullscreen\n",
       "            \n",
       "        ></iframe>\n",
       "        "
      ],
      "text/plain": [
       "<IPython.lib.display.IFrame at 0x13f99c8d0>"
      ]
     },
     "metadata": {},
     "output_type": "display_data"
    },
    {
     "data": {
      "text/plain": [
       "<class 'pyvis.network.Network'> |N|=179 |E|=153"
      ]
     },
     "execution_count": 4,
     "metadata": {},
     "output_type": "execute_result"
    }
   ],
   "source": [
    "%ng_draw MATCH p=()-->() RETURN p"
   ]
  },
  {
   "cell_type": "markdown",
   "id": "9762ebe6-72e4-4ce1-b8e9-1ae016f4072d",
   "metadata": {},
   "source": [
    "## Compute Graph Communities over all Graph Data"
   ]
  },
  {
   "cell_type": "code",
   "execution_count": null,
   "id": "cc12dcaa-93b8-42ac-b113-e4a6fa1e375c",
   "metadata": {},
   "outputs": [],
   "source": [
    "%pip install ng_nx"
   ]
  },
  {
   "cell_type": "markdown",
   "id": "37cd5df5-9deb-49b5-a4d8-361187b50d1e",
   "metadata": {},
   "source": [
    "ng_nx helps scan Graph Data into NetoworkX Graph Object:"
   ]
  },
  {
   "cell_type": "code",
   "execution_count": 1,
   "id": "446cc7c6-6c63-471f-b2b3-ed6459d8f1b4",
   "metadata": {},
   "outputs": [],
   "source": [
    "from ng_nx import NebulaReader\n",
    "from ng_nx.utils import NebulaGraphConfig\n",
    "\n",
    "import networkx as nx\n",
    "\n",
    "config = NebulaGraphConfig(\n",
    "    space=\"catalyst_graph_vector_ks_12_index_185\",\n",
    "    graphd_hosts=\"127.0.0.1:9669\",\n",
    "    metad_hosts=\"127.0.0.1:9559\"\n",
    ")\n",
    "\n",
    "reader = NebulaReader(\n",
    "    edges=[\"relationship\"],\n",
    "    properties=[[\"name\", \"snippet\"]],\n",
    "    nebula_config=config, limit=10000000)\n",
    "\n",
    "g = reader.read()"
   ]
  },
  {
   "cell_type": "code",
   "execution_count": 2,
   "id": "1a6b71eb-1769-477e-9f08-4d692a6a5220",
   "metadata": {},
   "outputs": [
    {
     "data": {
      "text/plain": [
       "networkx.classes.multidigraph.MultiDiGraph"
      ]
     },
     "execution_count": 2,
     "metadata": {},
     "output_type": "execute_result"
    }
   ],
   "source": [
    "# By default it's typed as Multi-Graph\n",
    "type(g)"
   ]
  },
  {
   "cell_type": "code",
   "execution_count": 3,
   "id": "a8200eba-e084-4781-8330-03f13bf45aa5",
   "metadata": {},
   "outputs": [
    {
     "data": {
      "text/plain": [
       "networkx.classes.graph.Graph"
      ]
     },
     "execution_count": 3,
     "metadata": {},
     "output_type": "execute_result"
    }
   ],
   "source": [
    "# Cast Multi-Graph to Homogeneous Graph\n",
    "g = nx.Graph(g)\n",
    "type(g)"
   ]
  },
  {
   "cell_type": "markdown",
   "id": "c9cb6953-1b2c-4768-9aaf-c7216b846dec",
   "metadata": {},
   "source": [
    "We are leveraging graspologic for hierarchical_leiden:"
   ]
  },
  {
   "cell_type": "code",
   "execution_count": null,
   "id": "b9f96422-82aa-4717-ab22-bbb94bd1ce70",
   "metadata": {},
   "outputs": [],
   "source": [
    "%pip install graspologic"
   ]
  },
  {
   "cell_type": "code",
   "execution_count": 4,
   "id": "4f5a9b50-6762-492a-a949-d1860343e6e3",
   "metadata": {},
   "outputs": [],
   "source": [
    "from graspologic.partition import hierarchical_leiden\n",
    "\n",
    "\n",
    "community_hierarchical_clusters = hierarchical_leiden(g, max_cluster_size=10)"
   ]
  },
  {
   "cell_type": "markdown",
   "id": "cd06eb41-762a-4c81-a07c-6324f4632e65",
   "metadata": {},
   "source": [
    "Then we get the Graph in hierarchical clusters:"
   ]
  },
  {
   "cell_type": "code",
   "execution_count": 5,
   "id": "eda2fbd4-36b4-4f38-b66f-ef2604d1caa9",
   "metadata": {},
   "outputs": [
    {
     "data": {
      "text/plain": [
       "[HierarchicalCluster(node='Core 电源', cluster=0, parent_cluster=None, level=0, is_final_cluster=True),\n",
       " HierarchicalCluster(node='PI 测试点', cluster=0, parent_cluster=None, level=0, is_final_cluster=True),\n",
       " HierarchicalCluster(node='库 TP1X2_1', cluster=0, parent_cluster=None, level=0, is_final_cluster=True),\n",
       " HierarchicalCluster(node='示波器', cluster=0, parent_cluster=None, level=0, is_final_cluster=True),\n",
       " HierarchicalCluster(node='I/O 电源', cluster=0, parent_cluster=None, level=0, is_final_cluster=True),\n",
       " HierarchicalCluster(node='关键芯片', cluster=0, parent_cluster=None, level=0, is_final_cluster=True),\n",
       " HierarchicalCluster(node='厂商的器件手册', cluster=1, parent_cluster=None, level=0, is_final_cluster=True),\n",
       " HierarchicalCluster(node='网上下载的器件手册', cluster=1, parent_cluster=None, level=0, is_final_cluster=True),\n",
       " HierarchicalCluster(node='检验', cluster=2, parent_cluster=None, level=0, is_final_cluster=True),\n",
       " HierarchicalCluster(node='手工焊接', cluster=2, parent_cluster=None, level=0, is_final_cluster=True),\n",
       " HierarchicalCluster(node='回流焊', cluster=2, parent_cluster=None, level=0, is_final_cluster=True),\n",
       " HierarchicalCluster(node='贴片', cluster=2, parent_cluster=None, level=0, is_final_cluster=True),\n",
       " HierarchicalCluster(node='输入端', cluster=3, parent_cluster=None, level=0, is_final_cluster=True),\n",
       " HierarchicalCluster(node='上拉电阻', cluster=3, parent_cluster=None, level=0, is_final_cluster=True),\n",
       " HierarchicalCluster(node='下拉电阻', cluster=3, parent_cluster=None, level=0, is_final_cluster=True),\n",
       " HierarchicalCluster(node='EPLD', cluster=4, parent_cluster=None, level=0, is_final_cluster=False),\n",
       " HierarchicalCluster(node='FPGA', cluster=4, parent_cluster=None, level=0, is_final_cluster=False),\n",
       " HierarchicalCluster(node='OE端', cluster=4, parent_cluster=None, level=0, is_final_cluster=False),\n",
       " HierarchicalCluster(node='CPU', cluster=4, parent_cluster=None, level=0, is_final_cluster=False),\n",
       " HierarchicalCluster(node='本地时钟', cluster=4, parent_cluster=None, level=0, is_final_cluster=False),\n",
       " HierarchicalCluster(node='系统', cluster=4, parent_cluster=None, level=0, is_final_cluster=False),\n",
       " HierarchicalCluster(node='接口单板', cluster=4, parent_cluster=None, level=0, is_final_cluster=False),\n",
       " HierarchicalCluster(node='Cyclone FPGA', cluster=4, parent_cluster=None, level=0, is_final_cluster=False),\n",
       " HierarchicalCluster(node='数据', cluster=4, parent_cluster=None, level=0, is_final_cluster=False),\n",
       " HierarchicalCluster(node='Cyclone', cluster=4, parent_cluster=None, level=0, is_final_cluster=False),\n",
       " HierarchicalCluster(node='背板连接器', cluster=4, parent_cluster=None, level=0, is_final_cluster=False),\n",
       " HierarchicalCluster(node='软件', cluster=4, parent_cluster=None, level=0, is_final_cluster=False),\n",
       " HierarchicalCluster(node='背板输出的驱动器', cluster=4, parent_cluster=None, level=0, is_final_cluster=False),\n",
       " HierarchicalCluster(node='3G系统基带射频接口', cluster=4, parent_cluster=None, level=0, is_final_cluster=False),\n",
       " HierarchicalCluster(node='33欧姆串阻', cluster=4, parent_cluster=None, level=0, is_final_cluster=False),\n",
       " HierarchicalCluster(node='CY2302', cluster=4, parent_cluster=None, level=0, is_final_cluster=False),\n",
       " HierarchicalCluster(node='OUT1', cluster=4, parent_cluster=None, level=0, is_final_cluster=False),\n",
       " HierarchicalCluster(node='OUT2', cluster=4, parent_cluster=None, level=0, is_final_cluster=False),\n",
       " HierarchicalCluster(node='16244', cluster=4, parent_cluster=None, level=0, is_final_cluster=False),\n",
       " HierarchicalCluster(node='ASIC', cluster=4, parent_cluster=None, level=0, is_final_cluster=False),\n",
       " HierarchicalCluster(node='DSP', cluster=4, parent_cluster=None, level=0, is_final_cluster=False),\n",
       " HierarchicalCluster(node='可编程逻辑器件', cluster=4, parent_cluster=None, level=0, is_final_cluster=False),\n",
       " HierarchicalCluster(node='分立插装元件焊接', cluster=5, parent_cluster=None, level=0, is_final_cluster=True),\n",
       " HierarchicalCluster(node='贴片元件', cluster=5, parent_cluster=None, level=0, is_final_cluster=True),\n",
       " HierarchicalCluster(node='射频时钟部分的电源', cluster=6, parent_cluster=None, level=0, is_final_cluster=True),\n",
       " HierarchicalCluster(node='线性电源', cluster=6, parent_cluster=None, level=0, is_final_cluster=True),\n",
       " HierarchicalCluster(node='FPGA 内核电源', cluster=6, parent_cluster=None, level=0, is_final_cluster=True),\n",
       " HierarchicalCluster(node='背板互连线', cluster=7, parent_cluster=None, level=0, is_final_cluster=False),\n",
       " HierarchicalCluster(node='单板', cluster=7, parent_cluster=None, level=0, is_final_cluster=False),\n",
       " HierarchicalCluster(node='波峰焊', cluster=7, parent_cluster=None, level=0, is_final_cluster=False),\n",
       " HierarchicalCluster(node='设计中的可配置部分', cluster=7, parent_cluster=None, level=0, is_final_cluster=False),\n",
       " HierarchicalCluster(node='电缆', cluster=7, parent_cluster=None, level=0, is_final_cluster=False),\n",
       " HierarchicalCluster(node='ADM706R', cluster=7, parent_cluster=None, level=0, is_final_cluster=False),\n",
       " HierarchicalCluster(node='信号线', cluster=7, parent_cluster=None, level=0, is_final_cluster=False),\n",
       " HierarchicalCluster(node='分板工艺', cluster=7, parent_cluster=None, level=0, is_final_cluster=False),\n",
       " HierarchicalCluster(node='移动通讯基站系统', cluster=7, parent_cluster=None, level=0, is_final_cluster=False),\n",
       " HierarchicalCluster(node='0 欧姆跳线电阻', cluster=7, parent_cluster=None, level=0, is_final_cluster=False),\n",
       " HierarchicalCluster(node='上下拉电阻', cluster=7, parent_cluster=None, level=0, is_final_cluster=False),\n",
       " HierarchicalCluster(node='上拉或下拉', cluster=7, parent_cluster=None, level=0, is_final_cluster=False),\n",
       " HierarchicalCluster(node='可调部分', cluster=7, parent_cluster=None, level=0, is_final_cluster=False),\n",
       " HierarchicalCluster(node='多种器件方案', cluster=7, parent_cluster=None, level=0, is_final_cluster=False),\n",
       " HierarchicalCluster(node='示波器探头', cluster=8, parent_cluster=None, level=0, is_final_cluster=True),\n",
       " HierarchicalCluster(node='排阻', cluster=8, parent_cluster=None, level=0, is_final_cluster=True),\n",
       " HierarchicalCluster(node='单板B面元器件', cluster=8, parent_cluster=None, level=0, is_final_cluster=True),\n",
       " HierarchicalCluster(node='BGA封装', cluster=8, parent_cluster=None, level=0, is_final_cluster=True),\n",
       " HierarchicalCluster(node='四周出引脚', cluster=8, parent_cluster=None, level=0, is_final_cluster=True),\n",
       " HierarchicalCluster(node='管脚间距小的器件', cluster=8, parent_cluster=None, level=0, is_final_cluster=True),\n",
       " HierarchicalCluster(node='波峰焊接工艺', cluster=8, parent_cluster=None, level=0, is_final_cluster=True),\n",
       " HierarchicalCluster(node='插装器件', cluster=8, parent_cluster=None, level=0, is_final_cluster=True),\n",
       " HierarchicalCluster(node='L', cluster=9, parent_cluster=None, level=0, is_final_cluster=True),\n",
       " HierarchicalCluster(node='D1', cluster=9, parent_cluster=None, level=0, is_final_cluster=True),\n",
       " HierarchicalCluster(node='单板主电源', cluster=9, parent_cluster=None, level=0, is_final_cluster=True),\n",
       " HierarchicalCluster(node='Q1', cluster=9, parent_cluster=None, level=0, is_final_cluster=True),\n",
       " HierarchicalCluster(node='C0', cluster=9, parent_cluster=None, level=0, is_final_cluster=True),\n",
       " HierarchicalCluster(node='电压', cluster=10, parent_cluster=None, level=0, is_final_cluster=True),\n",
       " HierarchicalCluster(node='击穿电压', cluster=10, parent_cluster=None, level=0, is_final_cluster=True),\n",
       " HierarchicalCluster(node='正向导通电压', cluster=10, parent_cluster=None, level=0, is_final_cluster=True),\n",
       " HierarchicalCluster(node='总线', cluster=11, parent_cluster=None, level=0, is_final_cluster=False),\n",
       " HierarchicalCluster(node='背板', cluster=11, parent_cluster=None, level=0, is_final_cluster=False),\n",
       " HierarchicalCluster(node='串阻', cluster=11, parent_cluster=None, level=0, is_final_cluster=False),\n",
       " HierarchicalCluster(node='驱动器', cluster=11, parent_cluster=None, level=0, is_final_cluster=False),\n",
       " HierarchicalCluster(node='普通逻辑电平信号', cluster=11, parent_cluster=None, level=0, is_final_cluster=False),\n",
       " HierarchicalCluster(node='驱动器 3', cluster=11, parent_cluster=None, level=0, is_final_cluster=False),\n",
       " HierarchicalCluster(node='信号完整性', cluster=11, parent_cluster=None, level=0, is_final_cluster=False),\n",
       " HierarchicalCluster(node='射频接口板', cluster=11, parent_cluster=None, level=0, is_final_cluster=False),\n",
       " HierarchicalCluster(node='33.2欧姆电阻', cluster=11, parent_cluster=None, level=0, is_final_cluster=False),\n",
       " HierarchicalCluster(node='33欧姆排阻', cluster=11, parent_cluster=None, level=0, is_final_cluster=False),\n",
       " HierarchicalCluster(node='上电3态的器件', cluster=11, parent_cluster=None, level=0, is_final_cluster=False),\n",
       " HierarchicalCluster(node='驱动信号', cluster=11, parent_cluster=None, level=0, is_final_cluster=False),\n",
       " HierarchicalCluster(node='LVTH16245', cluster=11, parent_cluster=None, level=0, is_final_cluster=False),\n",
       " HierarchicalCluster(node='端口', cluster=11, parent_cluster=None, level=0, is_final_cluster=False),\n",
       " HierarchicalCluster(node='MCS-51 单片机', cluster=11, parent_cluster=None, level=0, is_final_cluster=False),\n",
       " HierarchicalCluster(node='双向器件', cluster=11, parent_cluster=None, level=0, is_final_cluster=False),\n",
       " HierarchicalCluster(node='总线型应用', cluster=11, parent_cluster=None, level=0, is_final_cluster=False),\n",
       " HierarchicalCluster(node='33欧姆电阻', cluster=11, parent_cluster=None, level=0, is_final_cluster=False),\n",
       " HierarchicalCluster(node='被保护器件', cluster=12, parent_cluster=None, level=0, is_final_cluster=True),\n",
       " HierarchicalCluster(node='地平面', cluster=12, parent_cluster=None, level=0, is_final_cluster=True),\n",
       " HierarchicalCluster(node='DS108S', cluster=12, parent_cluster=None, level=0, is_final_cluster=True),\n",
       " HierarchicalCluster(node='保护器件', cluster=12, parent_cluster=None, level=0, is_final_cluster=True),\n",
       " HierarchicalCluster(node='电位差异', cluster=12, parent_cluster=None, level=0, is_final_cluster=True),\n",
       " HierarchicalCluster(node='锁相环', cluster=13, parent_cluster=None, level=0, is_final_cluster=True),\n",
       " HierarchicalCluster(node='时钟驱动器', cluster=13, parent_cluster=None, level=0, is_final_cluster=True),\n",
       " HierarchicalCluster(node='BUSHOLD器件', cluster=14, parent_cluster=None, level=0, is_final_cluster=True),\n",
       " HierarchicalCluster(node='输入端口', cluster=14, parent_cluster=None, level=0, is_final_cluster=True),\n",
       " HierarchicalCluster(node='电源', cluster=15, parent_cluster=None, level=0, is_final_cluster=False),\n",
       " HierarchicalCluster(node='保险丝', cluster=15, parent_cluster=None, level=0, is_final_cluster=False),\n",
       " HierarchicalCluster(node='保险管', cluster=15, parent_cluster=None, level=0, is_final_cluster=False),\n",
       " HierarchicalCluster(node='器件', cluster=15, parent_cluster=None, level=0, is_final_cluster=False),\n",
       " HierarchicalCluster(node='地', cluster=15, parent_cluster=None, level=0, is_final_cluster=False),\n",
       " HierarchicalCluster(node='A 点', cluster=15, parent_cluster=None, level=0, is_final_cluster=False),\n",
       " HierarchicalCluster(node='Group', cluster=15, parent_cluster=None, level=0, is_final_cluster=False),\n",
       " HierarchicalCluster(node='Location', cluster=15, parent_cluster=None, level=0, is_final_cluster=False),\n",
       " HierarchicalCluster(node='时钟网络', cluster=15, parent_cluster=None, level=0, is_final_cluster=False),\n",
       " HierarchicalCluster(node='电阻', cluster=15, parent_cluster=None, level=0, is_final_cluster=False),\n",
       " HierarchicalCluster(node='Bus Hold 特性', cluster=15, parent_cluster=None, level=0, is_final_cluster=False),\n",
       " HierarchicalCluster(node='物料代码', cluster=15, parent_cluster=None, level=0, is_final_cluster=False),\n",
       " HierarchicalCluster(node='器件厂商', cluster=15, parent_cluster=None, level=0, is_final_cluster=False),\n",
       " HierarchicalCluster(node='供应商', cluster=15, parent_cluster=None, level=0, is_final_cluster=False),\n",
       " HierarchicalCluster(node='勘误表', cluster=15, parent_cluster=None, level=0, is_final_cluster=False),\n",
       " HierarchicalCluster(node='器件手册', cluster=15, parent_cluster=None, level=0, is_final_cluster=False),\n",
       " HierarchicalCluster(node='DSP 器件', cluster=15, parent_cluster=None, level=0, is_final_cluster=False),\n",
       " HierarchicalCluster(node='接口标准', cluster=15, parent_cluster=None, level=0, is_final_cluster=False),\n",
       " HierarchicalCluster(node='QDR', cluster=15, parent_cluster=None, level=0, is_final_cluster=False),\n",
       " HierarchicalCluster(node='DDR', cluster=15, parent_cluster=None, level=0, is_final_cluster=False),\n",
       " HierarchicalCluster(node='电源滤波', cluster=15, parent_cluster=None, level=0, is_final_cluster=False),\n",
       " HierarchicalCluster(node='电感', cluster=15, parent_cluster=None, level=0, is_final_cluster=False),\n",
       " HierarchicalCluster(node='磁珠', cluster=15, parent_cluster=None, level=0, is_final_cluster=False),\n",
       " HierarchicalCluster(node='$Location', cluster=15, parent_cluster=None, level=0, is_final_cluster=False),\n",
       " HierarchicalCluster(node='UART器件16C55X', cluster=16, parent_cluster=None, level=0, is_final_cluster=True),\n",
       " HierarchicalCluster(node='CTS信号', cluster=16, parent_cluster=None, level=0, is_final_cluster=True),\n",
       " HierarchicalCluster(node='DCD信号', cluster=16, parent_cluster=None, level=0, is_final_cluster=True),\n",
       " HierarchicalCluster(node='DSR信号', cluster=16, parent_cluster=None, level=0, is_final_cluster=True),\n",
       " HierarchicalCluster(node='试验板', cluster=17, parent_cluster=None, level=0, is_final_cluster=True),\n",
       " HierarchicalCluster(node='MIC39300-2.5BU', cluster=17, parent_cluster=None, level=0, is_final_cluster=True),\n",
       " HierarchicalCluster(node='SERDES芯片', cluster=17, parent_cluster=None, level=0, is_final_cluster=True),\n",
       " HierarchicalCluster(node='48V 电源滤波', cluster=18, parent_cluster=None, level=0, is_final_cluster=True),\n",
       " HierarchicalCluster(node='贴片陶瓷电容', cluster=18, parent_cluster=None, level=0, is_final_cluster=True),\n",
       " HierarchicalCluster(node='FLASH', cluster=19, parent_cluster=None, level=0, is_final_cluster=True),\n",
       " HierarchicalCluster(node='复位信号', cluster=19, parent_cluster=None, level=0, is_final_cluster=True),\n",
       " HierarchicalCluster(node='主控单板', cluster=20, parent_cluster=None, level=0, is_final_cluster=True),\n",
       " HierarchicalCluster(node='全框受控单板', cluster=20, parent_cluster=None, level=0, is_final_cluster=True),\n",
       " HierarchicalCluster(node='欧盟', cluster=21, parent_cluster=None, level=0, is_final_cluster=True),\n",
       " HierarchicalCluster(node='RoHS', cluster=21, parent_cluster=None, level=0, is_final_cluster=True),\n",
       " HierarchicalCluster(node='WEEE', cluster=21, parent_cluster=None, level=0, is_final_cluster=True),\n",
       " HierarchicalCluster(node='TRST*', cluster=22, parent_cluster=None, level=0, is_final_cluster=True),\n",
       " HierarchicalCluster(node='PRESET', cluster=22, parent_cluster=None, level=0, is_final_cluster=True),\n",
       " HierarchicalCluster(node='MPC860', cluster=22, parent_cluster=None, level=0, is_final_cluster=True),\n",
       " HierarchicalCluster(node='CCM 单板', cluster=22, parent_cluster=None, level=0, is_final_cluster=True),\n",
       " HierarchicalCluster(node='GNDP', cluster=23, parent_cluster=None, level=0, is_final_cluster=True),\n",
       " HierarchicalCluster(node='GNDD', cluster=23, parent_cluster=None, level=0, is_final_cluster=True),\n",
       " HierarchicalCluster(node='驱动器 2', cluster=24, parent_cluster=None, level=0, is_final_cluster=True),\n",
       " HierarchicalCluster(node='C 点', cluster=24, parent_cluster=None, level=0, is_final_cluster=True),\n",
       " HierarchicalCluster(node='驱动器 1', cluster=24, parent_cluster=None, level=0, is_final_cluster=True),\n",
       " HierarchicalCluster(node='电源滤波电容', cluster=25, parent_cluster=None, level=0, is_final_cluster=True),\n",
       " HierarchicalCluster(node='单板电源入口', cluster=25, parent_cluster=None, level=0, is_final_cluster=True),\n",
       " HierarchicalCluster(node='局部去耦', cluster=26, parent_cluster=None, level=0, is_final_cluster=True),\n",
       " HierarchicalCluster(node='芯片', cluster=26, parent_cluster=None, level=0, is_final_cluster=True),\n",
       " HierarchicalCluster(node='去耦电容', cluster=26, parent_cluster=None, level=0, is_final_cluster=True),\n",
       " HierarchicalCluster(node='电源模块', cluster=26, parent_cluster=None, level=0, is_final_cluster=True),\n",
       " HierarchicalCluster(node='3G系统', cluster=26, parent_cluster=None, level=0, is_final_cluster=True),\n",
       " HierarchicalCluster(node='公用器件', cluster=26, parent_cluster=None, level=0, is_final_cluster=True),\n",
       " HierarchicalCluster(node='接口逻辑器件', cluster=26, parent_cluster=None, level=0, is_final_cluster=True),\n",
       " HierarchicalCluster(node='全局去耦', cluster=26, parent_cluster=None, level=0, is_final_cluster=True),\n",
       " HierarchicalCluster(node='电源芯片', cluster=26, parent_cluster=None, level=0, is_final_cluster=True),\n",
       " HierarchicalCluster(node='方法', cluster=27, parent_cluster=None, level=0, is_final_cluster=True),\n",
       " HierarchicalCluster(node='Package XL 手册', cluster=27, parent_cluster=None, level=0, is_final_cluster=True),\n",
       " HierarchicalCluster(node='TMS320C6414T 型 DSP', cluster=28, parent_cluster=None, level=0, is_final_cluster=True),\n",
       " HierarchicalCluster(node='DDR 内存', cluster=28, parent_cluster=None, level=0, is_final_cluster=True),\n",
       " HierarchicalCluster(node='QDR 内存', cluster=28, parent_cluster=None, level=0, is_final_cluster=True),\n",
       " HierarchicalCluster(node='大容量电容', cluster=29, parent_cluster=None, level=0, is_final_cluster=True),\n",
       " HierarchicalCluster(node='小容量陶瓷贴片电容', cluster=29, parent_cluster=None, level=0, is_final_cluster=True),\n",
       " HierarchicalCluster(node='单板负责人', cluster=30, parent_cluster=None, level=0, is_final_cluster=True),\n",
       " HierarchicalCluster(node='原理图', cluster=30, parent_cluster=None, level=0, is_final_cluster=True),\n",
       " HierarchicalCluster(node='封面页', cluster=30, parent_cluster=None, level=0, is_final_cluster=True),\n",
       " HierarchicalCluster(node='多人', cluster=30, parent_cluster=None, level=0, is_final_cluster=True),\n",
       " HierarchicalCluster(node='备用单板', cluster=31, parent_cluster=None, level=0, is_final_cluster=True),\n",
       " HierarchicalCluster(node='主用单板', cluster=31, parent_cluster=None, level=0, is_final_cluster=True),\n",
       " HierarchicalCluster(node='双向信号', cluster=32, parent_cluster=None, level=0, is_final_cluster=True),\n",
       " HierarchicalCluster(node='器件布局', cluster=32, parent_cluster=None, level=0, is_final_cluster=True),\n",
       " HierarchicalCluster(node='产品', cluster=33, parent_cluster=None, level=0, is_final_cluster=True),\n",
       " HierarchicalCluster(node='模块电路', cluster=33, parent_cluster=None, level=0, is_final_cluster=True),\n",
       " HierarchicalCluster(node='通用电路', cluster=33, parent_cluster=None, level=0, is_final_cluster=True),\n",
       " HierarchicalCluster(node='降压电源设计', cluster=34, parent_cluster=None, level=0, is_final_cluster=True),\n",
       " HierarchicalCluster(node='LDO', cluster=34, parent_cluster=None, level=0, is_final_cluster=True),\n",
       " HierarchicalCluster(node='开关电源', cluster=34, parent_cluster=None, level=0, is_final_cluster=True),\n",
       " HierarchicalCluster(node='16244驱动器', cluster=35, parent_cluster=None, level=0, is_final_cluster=True),\n",
       " HierarchicalCluster(node='变化信号', cluster=35, parent_cluster=None, level=0, is_final_cluster=True),\n",
       " HierarchicalCluster(node='DA108S', cluster=36, parent_cluster=None, level=0, is_final_cluster=True),\n",
       " HierarchicalCluster(node='保护地', cluster=36, parent_cluster=None, level=0, is_final_cluster=True),\n",
       " HierarchicalCluster(node='变压器器件', cluster=36, parent_cluster=None, level=0, is_final_cluster=True),\n",
       " HierarchicalCluster(node='隔离变压器', cluster=36, parent_cluster=None, level=0, is_final_cluster=True),\n",
       " HierarchicalCluster(node='数字地', cluster=36, parent_cluster=None, level=0, is_final_cluster=True),\n",
       " HierarchicalCluster(node='PTC', cluster=37, parent_cluster=None, level=0, is_final_cluster=True),\n",
       " HierarchicalCluster(node='Polychem', cluster=37, parent_cluster=None, level=0, is_final_cluster=True),\n",
       " HierarchicalCluster(node='TVS', cluster=37, parent_cluster=None, level=0, is_final_cluster=True),\n",
       " HierarchicalCluster(node='变压器', cluster=38, parent_cluster=None, level=0, is_final_cluster=True),\n",
       " HierarchicalCluster(node='机框', cluster=38, parent_cluster=None, level=0, is_final_cluster=True),\n",
       " HierarchicalCluster(node='本地时钟', cluster=39, parent_cluster=4, level=1, is_final_cluster=True),\n",
       " HierarchicalCluster(node='可编程逻辑器件', cluster=39, parent_cluster=4, level=1, is_final_cluster=True),\n",
       " HierarchicalCluster(node='EPLD', cluster=40, parent_cluster=4, level=1, is_final_cluster=True),\n",
       " HierarchicalCluster(node='FPGA', cluster=40, parent_cluster=4, level=1, is_final_cluster=True),\n",
       " HierarchicalCluster(node='OE端', cluster=40, parent_cluster=4, level=1, is_final_cluster=True),\n",
       " HierarchicalCluster(node='接口单板', cluster=40, parent_cluster=4, level=1, is_final_cluster=True),\n",
       " HierarchicalCluster(node='Cyclone FPGA', cluster=40, parent_cluster=4, level=1, is_final_cluster=True),\n",
       " HierarchicalCluster(node='Cyclone', cluster=40, parent_cluster=4, level=1, is_final_cluster=True),\n",
       " HierarchicalCluster(node='软件', cluster=40, parent_cluster=4, level=1, is_final_cluster=True),\n",
       " HierarchicalCluster(node='CPU', cluster=41, parent_cluster=4, level=1, is_final_cluster=True),\n",
       " HierarchicalCluster(node='背板连接器', cluster=41, parent_cluster=4, level=1, is_final_cluster=True),\n",
       " HierarchicalCluster(node='ASIC', cluster=41, parent_cluster=4, level=1, is_final_cluster=True),\n",
       " HierarchicalCluster(node='DSP', cluster=41, parent_cluster=4, level=1, is_final_cluster=True),\n",
       " HierarchicalCluster(node='数据', cluster=42, parent_cluster=4, level=1, is_final_cluster=True),\n",
       " HierarchicalCluster(node='33欧姆串阻', cluster=42, parent_cluster=4, level=1, is_final_cluster=True),\n",
       " HierarchicalCluster(node='16244', cluster=42, parent_cluster=4, level=1, is_final_cluster=True),\n",
       " HierarchicalCluster(node='3G系统基带射频接口', cluster=42, parent_cluster=4, level=1, is_final_cluster=True),\n",
       " HierarchicalCluster(node='系统', cluster=43, parent_cluster=4, level=1, is_final_cluster=True),\n",
       " HierarchicalCluster(node='背板输出的驱动器', cluster=43, parent_cluster=4, level=1, is_final_cluster=True),\n",
       " HierarchicalCluster(node='CY2302', cluster=43, parent_cluster=4, level=1, is_final_cluster=True),\n",
       " HierarchicalCluster(node='OUT1', cluster=43, parent_cluster=4, level=1, is_final_cluster=True),\n",
       " HierarchicalCluster(node='OUT2', cluster=43, parent_cluster=4, level=1, is_final_cluster=True),\n",
       " HierarchicalCluster(node='背板互连线', cluster=44, parent_cluster=7, level=1, is_final_cluster=True),\n",
       " HierarchicalCluster(node='单板', cluster=44, parent_cluster=7, level=1, is_final_cluster=True),\n",
       " HierarchicalCluster(node='波峰焊', cluster=44, parent_cluster=7, level=1, is_final_cluster=True),\n",
       " HierarchicalCluster(node='电缆', cluster=44, parent_cluster=7, level=1, is_final_cluster=True),\n",
       " HierarchicalCluster(node='ADM706R', cluster=44, parent_cluster=7, level=1, is_final_cluster=True),\n",
       " HierarchicalCluster(node='信号线', cluster=44, parent_cluster=7, level=1, is_final_cluster=True),\n",
       " HierarchicalCluster(node='分板工艺', cluster=44, parent_cluster=7, level=1, is_final_cluster=True),\n",
       " HierarchicalCluster(node='移动通讯基站系统', cluster=44, parent_cluster=7, level=1, is_final_cluster=True),\n",
       " HierarchicalCluster(node='设计中的可配置部分', cluster=45, parent_cluster=7, level=1, is_final_cluster=True),\n",
       " HierarchicalCluster(node='0 欧姆跳线电阻', cluster=45, parent_cluster=7, level=1, is_final_cluster=True),\n",
       " HierarchicalCluster(node='上下拉电阻', cluster=45, parent_cluster=7, level=1, is_final_cluster=True),\n",
       " HierarchicalCluster(node='上拉或下拉', cluster=45, parent_cluster=7, level=1, is_final_cluster=True),\n",
       " HierarchicalCluster(node='可调部分', cluster=45, parent_cluster=7, level=1, is_final_cluster=True),\n",
       " HierarchicalCluster(node='多种器件方案', cluster=45, parent_cluster=7, level=1, is_final_cluster=True),\n",
       " HierarchicalCluster(node='驱动器', cluster=46, parent_cluster=11, level=1, is_final_cluster=True),\n",
       " HierarchicalCluster(node='射频接口板', cluster=46, parent_cluster=11, level=1, is_final_cluster=True),\n",
       " HierarchicalCluster(node='33.2欧姆电阻', cluster=46, parent_cluster=11, level=1, is_final_cluster=True),\n",
       " HierarchicalCluster(node='33欧姆排阻', cluster=46, parent_cluster=11, level=1, is_final_cluster=True),\n",
       " HierarchicalCluster(node='上电3态的器件', cluster=46, parent_cluster=11, level=1, is_final_cluster=True),\n",
       " HierarchicalCluster(node='驱动信号', cluster=46, parent_cluster=11, level=1, is_final_cluster=True),\n",
       " HierarchicalCluster(node='背板', cluster=47, parent_cluster=11, level=1, is_final_cluster=True),\n",
       " HierarchicalCluster(node='普通逻辑电平信号', cluster=47, parent_cluster=11, level=1, is_final_cluster=True),\n",
       " HierarchicalCluster(node='驱动器 3', cluster=47, parent_cluster=11, level=1, is_final_cluster=True),\n",
       " HierarchicalCluster(node='串阻', cluster=48, parent_cluster=11, level=1, is_final_cluster=True),\n",
       " HierarchicalCluster(node='信号完整性', cluster=48, parent_cluster=11, level=1, is_final_cluster=True),\n",
       " HierarchicalCluster(node='总线型应用', cluster=48, parent_cluster=11, level=1, is_final_cluster=True),\n",
       " HierarchicalCluster(node='33欧姆电阻', cluster=48, parent_cluster=11, level=1, is_final_cluster=True),\n",
       " HierarchicalCluster(node='总线', cluster=49, parent_cluster=11, level=1, is_final_cluster=True),\n",
       " HierarchicalCluster(node='MCS-51 单片机', cluster=49, parent_cluster=11, level=1, is_final_cluster=True),\n",
       " HierarchicalCluster(node='LVTH16245', cluster=49, parent_cluster=11, level=1, is_final_cluster=True),\n",
       " HierarchicalCluster(node='端口', cluster=49, parent_cluster=11, level=1, is_final_cluster=True),\n",
       " HierarchicalCluster(node='双向器件', cluster=49, parent_cluster=11, level=1, is_final_cluster=True),\n",
       " HierarchicalCluster(node='电源', cluster=50, parent_cluster=15, level=1, is_final_cluster=True),\n",
       " HierarchicalCluster(node='保险丝', cluster=50, parent_cluster=15, level=1, is_final_cluster=True),\n",
       " HierarchicalCluster(node='保险管', cluster=50, parent_cluster=15, level=1, is_final_cluster=True),\n",
       " HierarchicalCluster(node='地', cluster=50, parent_cluster=15, level=1, is_final_cluster=True),\n",
       " HierarchicalCluster(node='器件', cluster=51, parent_cluster=15, level=1, is_final_cluster=True),\n",
       " HierarchicalCluster(node='A 点', cluster=51, parent_cluster=15, level=1, is_final_cluster=True),\n",
       " HierarchicalCluster(node='Group', cluster=51, parent_cluster=15, level=1, is_final_cluster=True),\n",
       " HierarchicalCluster(node='Location', cluster=51, parent_cluster=15, level=1, is_final_cluster=True),\n",
       " HierarchicalCluster(node='Bus Hold 特性', cluster=51, parent_cluster=15, level=1, is_final_cluster=True),\n",
       " HierarchicalCluster(node='物料代码', cluster=51, parent_cluster=15, level=1, is_final_cluster=True),\n",
       " HierarchicalCluster(node='$Location', cluster=51, parent_cluster=15, level=1, is_final_cluster=True),\n",
       " HierarchicalCluster(node='供应商', cluster=51, parent_cluster=15, level=1, is_final_cluster=True),\n",
       " HierarchicalCluster(node='时钟网络', cluster=52, parent_cluster=15, level=1, is_final_cluster=True),\n",
       " HierarchicalCluster(node='接口标准', cluster=52, parent_cluster=15, level=1, is_final_cluster=True),\n",
       " HierarchicalCluster(node='QDR', cluster=52, parent_cluster=15, level=1, is_final_cluster=True),\n",
       " HierarchicalCluster(node='DDR', cluster=52, parent_cluster=15, level=1, is_final_cluster=True),\n",
       " HierarchicalCluster(node='器件厂商', cluster=53, parent_cluster=15, level=1, is_final_cluster=True),\n",
       " HierarchicalCluster(node='勘误表', cluster=53, parent_cluster=15, level=1, is_final_cluster=True),\n",
       " HierarchicalCluster(node='器件手册', cluster=53, parent_cluster=15, level=1, is_final_cluster=True),\n",
       " HierarchicalCluster(node='DSP 器件', cluster=53, parent_cluster=15, level=1, is_final_cluster=True),\n",
       " HierarchicalCluster(node='电阻', cluster=54, parent_cluster=15, level=1, is_final_cluster=True),\n",
       " HierarchicalCluster(node='电源滤波', cluster=54, parent_cluster=15, level=1, is_final_cluster=True),\n",
       " HierarchicalCluster(node='电感', cluster=54, parent_cluster=15, level=1, is_final_cluster=True),\n",
       " HierarchicalCluster(node='磁珠', cluster=54, parent_cluster=15, level=1, is_final_cluster=True)]"
      ]
     },
     "execution_count": 5,
     "metadata": {},
     "output_type": "execute_result"
    }
   ],
   "source": [
    "community_hierarchical_clusters"
   ]
  },
  {
   "cell_type": "code",
   "execution_count": null,
   "id": "8a9bfda6-4f13-49b1-8912-2713db3ead65",
   "metadata": {},
   "outputs": [],
   "source": []
  }
 ],
 "metadata": {
  "kernelspec": {
   "display_name": "Python 3 (ipykernel)",
   "language": "python",
   "name": "python3"
  },
  "language_info": {
   "codemirror_mode": {
    "name": "ipython",
    "version": 3
   },
   "file_extension": ".py",
   "mimetype": "text/x-python",
   "name": "python",
   "nbconvert_exporter": "python",
   "pygments_lexer": "ipython3",
   "version": "3.11.9"
  }
 },
 "nbformat": 4,
 "nbformat_minor": 5
}

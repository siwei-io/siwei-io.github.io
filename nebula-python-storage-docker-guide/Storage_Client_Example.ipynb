{
 "cells": [
  {
   "cell_type": "code",
   "execution_count": 1,
   "id": "1a8cea9e",
   "metadata": {},
   "outputs": [
    {
     "name": "stdout",
     "output_type": "stream",
     "text": [
      "Collecting nebula2-python==2.6.0\n",
      "  Downloading nebula2_python-2.6.0-py3-none-any.whl (301 kB)\n",
      "\u001b[K     |████████████████████████████████| 301 kB 196 kB/s eta 0:00:01\n",
      "\u001b[?25hCollecting httplib2\n",
      "  Downloading httplib2-0.20.2-py3-none-any.whl (96 kB)\n",
      "\u001b[K     |████████████████████████████████| 96 kB 2.2 MB/s eta 0:00:01\n",
      "\u001b[?25hCollecting future\n",
      "  Downloading future-0.18.2.tar.gz (829 kB)\n",
      "\u001b[K     |████████████████████████████████| 829 kB 2.0 MB/s eta 0:00:01\n",
      "\u001b[?25hRequirement already satisfied: pytz in /opt/conda/lib/python3.9/site-packages (from nebula2-python==2.6.0) (2021.1)\n",
      "Requirement already satisfied: six in /opt/conda/lib/python3.9/site-packages (from nebula2-python==2.6.0) (1.16.0)\n",
      "Requirement already satisfied: pyparsing!=3.0.0,!=3.0.1,!=3.0.2,!=3.0.3,<4,>=2.4.2 in /opt/conda/lib/python3.9/site-packages (from httplib2->nebula2-python==2.6.0) (2.4.7)\n",
      "Building wheels for collected packages: future\n",
      "  Building wheel for future (setup.py) ... \u001b[?25ldone\n",
      "\u001b[?25h  Created wheel for future: filename=future-0.18.2-py3-none-any.whl size=491059 sha256=18fbf9dafbc14140ece6d875dc7dfd1b9425eac90cc0a04e3e3d09d4bf0e8a43\n",
      "  Stored in directory: /home/jovyan/.cache/pip/wheels/2f/a0/d3/4030d9f80e6b3be787f19fc911b8e7aa462986a40ab1e4bb94\n",
      "Successfully built future\n",
      "Installing collected packages: httplib2, future, nebula2-python\n",
      "Successfully installed future-0.18.2 httplib2-0.20.2 nebula2-python-2.6.0\n"
     ]
    }
   ],
   "source": [
    "!pip install nebula2-python==2.6.0"
   ]
  },
  {
   "cell_type": "code",
   "execution_count": 2,
   "id": "ac7f9f92",
   "metadata": {},
   "outputs": [],
   "source": [
    "from nebula2.mclient import MetaCache, HostAddr\n",
    "from nebula2.sclient.GraphStorageClient import GraphStorageClient"
   ]
  },
  {
   "cell_type": "code",
   "execution_count": 3,
   "id": "9472ca24",
   "metadata": {},
   "outputs": [],
   "source": [
    "meta_cache = MetaCache([('metad1',9559),('metad0',9559),('metad2',9559)])"
   ]
  },
  {
   "cell_type": "code",
   "execution_count": 5,
   "id": "28873208",
   "metadata": {},
   "outputs": [],
   "source": [
    "graph_storage_client = GraphStorageClient(meta_cache)"
   ]
  },
  {
   "cell_type": "code",
   "execution_count": 6,
   "id": "d091645f",
   "metadata": {},
   "outputs": [],
   "source": [
    "resp = graph_storage_client.scan_vertex(\n",
    "        space_name='basketballplayer',\n",
    "        tag_name='player')"
   ]
  },
  {
   "cell_type": "code",
   "execution_count": 7,
   "id": "9d7df9a9",
   "metadata": {},
   "outputs": [
    {
     "name": "stdout",
     "output_type": "stream",
     "text": [
      "(\"player112\" :player{name: \"Jonathon Simmons\", age: 29})\n",
      "(\"player1120\" :player{name: \"李四\", age: 30})\n",
      "(\"player117\" :player{name: \"Stephen Curry\", age: 31})\n",
      "(\"player119\" :player{name: \"Kevin Durant\", age: 30})\n",
      "(\"player134\" :player{name: \"Blake Griffin\", age: 30})\n",
      "(\"player141\" :player{name: \"Ray Allen\", age: 43})\n",
      "(\"player144\" :player{name: \"Shaquille O'Neal\", age: 47})\n",
      "(\"player149\" :player{name: \"Ben Simmons\", age: 22})\n",
      "(\"player100\" :player{name: \"Tim Duncan\", age: 42})\n",
      "(\"player101\" :player{name: \"Tony Parker\", age: 36})\n",
      "(\"player110\" :player{name: \"Cory Joseph\", age: 27})\n",
      "(\"player126\" :player{name: \"Kyrie Irving\", age: 26})\n",
      "(\"player131\" :player{name: \"Paul George\", age: 28})\n",
      "(\"player133\" :player{name: \"Yao Ming\", age: 38})\n",
      "(\"player140\" :player{name: \"Grant Hill\", age: 46})\n",
      "(\"player105\" :player{name: \"Danny Green\", age: 31})\n",
      "(\"player109\" :player{name: \"Tiago Splitter\", age: 34})\n",
      "(\"player111\" :player{name: \"David West\", age: 38})\n",
      "(\"player1119\" :player{name: \"张三\", age: 30})\n",
      "(\"player118\" :player{name: \"Russell Westbrook\", age: 30})\n",
      "(\"player143\" :player{name: \"Kristaps Porzingis\", age: 23})\n",
      "(\"player108\" :player{name: \"Boris Diaw\", age: 36})\n",
      "(\"player122\" :player{name: \"DeAndre Jordan\", age: 30})\n",
      "(\"player123\" :player{name: \"Ricky Rubio\", age: 28})\n",
      "(\"player139\" :player{name: \"Marc Gasol\", age: 34})\n",
      "(\"player142\" :player{name: \"Klay Thompson\", age: 29})\n",
      "(\"player145\" :player{name: \"JaVale McGee\", age: 31})\n",
      "(\"player124\" :player{name: \"Rajon Rondo\", age: 33})\n",
      "(\"player127\" :player{name: \"Vince Carter\", age: 42})\n",
      "(\"player132\" :player{name: \"Giannis Antetokounmpo\", age: 24})\n",
      "(\"player135\" :player{name: \"Damian Lillard\", age: 28})\n",
      "(\"player146\" :player{name: \"Dwight Howard\", age: 33})\n",
      "(\"player147\" :player{name: \"Amar'e Stoudemire\", age: 36})\n",
      "(\"player148\" :player{name: \"Jason Kidd\", age: 45})\n",
      "(\"player103\" :player{name: \"Rudy Gay\", age: 32})\n",
      "(\"player113\" :player{name: \"Dejounte Murray\", age: 29})\n",
      "(\"player121\" :player{name: \"Chris Paul\", age: 33})\n",
      "(\"player128\" :player{name: \"Carmelo Anthony\", age: 34})\n",
      "(\"player130\" :player{name: \"Joel Embiid\", age: 25})\n",
      "(\"player136\" :player{name: \"Steve Nash\", age: 45})\n",
      "(\"player104\" :player{name: \"Marco Belinelli\", age: 32})\n",
      "(\"player107\" :player{name: \"Aron Baynes\", age: 32})\n",
      "(\"player116\" :player{name: \"LeBron James\", age: 34})\n",
      "(\"player120\" :player{name: \"James Harden\", age: 29})\n",
      "(\"player125\" :player{name: \"Manu Ginobili\", age: 41})\n",
      "(\"player137\" :player{name: \"Dirk Nowitzki\", age: 40})\n",
      "(\"player114\" :player{name: \"Tracy McGrady\", age: 39})\n",
      "(\"player150\" :player{name: \"Luka Doncic\", age: 20})\n",
      "(\"player102\" :player{name: \"LaMarcus Aldridge\", age: 33})\n",
      "(\"player106\" :player{name: \"Kyle Anderson\", age: 25})\n",
      "(\"player115\" :player{name: \"Kobe Bryant\", age: 40})\n",
      "(\"player129\" :player{name: \"Dwyane Wade\", age: 37})\n",
      "(\"player138\" :player{name: \"Paul Gasol\", age: 38})\n"
     ]
    }
   ],
   "source": [
    "while resp.has_next():\n",
    "    result = resp.next()\n",
    "    for vertex_data in result:\n",
    "        print(vertex_data)"
   ]
  },
  {
   "cell_type": "code",
   "execution_count": 9,
   "id": "78e8796a",
   "metadata": {},
   "outputs": [],
   "source": [
    "resp = graph_storage_client.scan_edge(\n",
    "    space_name='basketballplayer',\n",
    "    edge_name='follow')"
   ]
  },
  {
   "cell_type": "code",
   "execution_count": 10,
   "id": "f2c74c6c",
   "metadata": {},
   "outputs": [
    {
     "name": "stdout",
     "output_type": "stream",
     "text": [
      "(\"player134\")-[:follow@0{degree: -1}]->(\"player121\")\n",
      "(\"player141\")-[:follow@0{degree: 9}]->(\"player124\")\n",
      "(\"player144\")-[:follow@0{degree: 80}]->(\"player100\")\n",
      "(\"player144\")-[:follow@0{degree: 100}]->(\"player145\")\n",
      "(\"player149\")-[:follow@0{degree: 80}]->(\"player130\")\n",
      "(\"player100\")-[:follow@0{degree: 100}]->(\"player101\")\n",
      "(\"player100\")-[:follow@0{degree: 95}]->(\"player125\")\n",
      "(\"player101\")-[:follow@0{degree: 1111}]->(\"player100\")\n",
      "(\"player101\")-[:follow@0{degree: 90}]->(\"player102\")\n",
      "(\"player101\")-[:follow@0{degree: 95}]->(\"player125\")\n",
      "(\"player126\")-[:follow@0{degree: 13}]->(\"player116\")\n",
      "(\"player131\")-[:follow@0{degree: 95}]->(\"player118\")\n",
      "(\"player133\")-[:follow@0{degree: 90}]->(\"player114\")\n",
      "(\"player133\")-[:follow@0{degree: 90}]->(\"player144\")\n",
      "(\"player140\")-[:follow@0{degree: 90}]->(\"player114\")\n",
      "(\"player105\")-[:follow@0{degree: 70}]->(\"player100\")\n",
      "(\"player105\")-[:follow@0{degree: 83}]->(\"player104\")\n",
      "(\"player105\")-[:follow@0{degree: 80}]->(\"player116\")\n",
      "(\"player109\")-[:follow@0{degree: 80}]->(\"player100\")\n",
      "(\"player109\")-[:follow@0{degree: 90}]->(\"player125\")\n",
      "(\"player118\")-[:follow@0{degree: 90}]->(\"player120\")\n",
      "(\"player118\")-[:follow@0{degree: 90}]->(\"player131\")\n",
      "(\"player143\")-[:follow@0{degree: 90}]->(\"player150\")\n",
      "(\"10\")-[:follow@0{degree: __NULL__}]->(\"11\")\n",
      "(\"player108\")-[:follow@0{degree: 80}]->(\"player100\")\n",
      "(\"player108\")-[:follow@0{degree: 80}]->(\"player101\")\n",
      "(\"player139\")-[:follow@0{degree: 99}]->(\"player138\")\n",
      "(\"player142\")-[:follow@0{degree: 90}]->(\"player117\")\n",
      "(\"player104\")-[:follow@0{degree: 55}]->(\"player100\")\n",
      "(\"player104\")-[:follow@0{degree: 50}]->(\"player101\")\n",
      "(\"player104\")-[:follow@0{degree: 60}]->(\"player105\")\n",
      "(\"player107\")-[:follow@0{degree: 80}]->(\"player100\")\n",
      "(\"player116\")-[:follow@0{degree: 100}]->(\"player141\")\n",
      "(\"player120\")-[:follow@0{degree: 80}]->(\"player118\")\n",
      "(\"player125\")-[:follow@0{degree: 90}]->(\"player100\")\n",
      "(\"player137\")-[:follow@0{degree: 10}]->(\"player129\")\n",
      "(\"player137\")-[:follow@0{degree: 80}]->(\"player136\")\n",
      "(\"player137\")-[:follow@0{degree: 80}]->(\"player148\")\n",
      "(\"player114\")-[:follow@0{degree: 90}]->(\"player103\")\n",
      "(\"player114\")-[:follow@0{degree: 90}]->(\"player115\")\n",
      "(\"player114\")-[:follow@0{degree: 90}]->(\"player140\")\n",
      "(\"player150\")-[:follow@0{degree: 80}]->(\"player120\")\n",
      "(\"player150\")-[:follow@0{degree: 90}]->(\"player137\")\n",
      "(\"player150\")-[:follow@0{degree: 90}]->(\"player143\")\n",
      "(\"player102\")-[:follow@0{degree: 75}]->(\"player100\")\n",
      "(\"player102\")-[:follow@0{degree: 75}]->(\"player101\")\n",
      "(\"player129\")-[:follow@0{degree: 90}]->(\"player116\")\n",
      "(\"player129\")-[:follow@0{degree: 90}]->(\"player121\")\n",
      "(\"player129\")-[:follow@0{degree: 90}]->(\"player128\")\n",
      "(\"player138\")-[:follow@0{degree: 90}]->(\"player115\")\n",
      "(\"player138\")-[:follow@0{degree: 99}]->(\"player139\")\n",
      "(\"player124\")-[:follow@0{degree: -1}]->(\"player141\")\n",
      "(\"player127\")-[:follow@0{degree: 90}]->(\"player114\")\n",
      "(\"player127\")-[:follow@0{degree: 70}]->(\"player148\")\n",
      "(\"player135\")-[:follow@0{degree: 80}]->(\"player102\")\n",
      "(\"player147\")-[:follow@0{degree: 90}]->(\"player136\")\n",
      "(\"player148\")-[:follow@0{degree: 80}]->(\"player127\")\n",
      "(\"player148\")-[:follow@0{degree: 90}]->(\"player136\")\n",
      "(\"player148\")-[:follow@0{degree: 85}]->(\"player137\")\n",
      "(\"player103\")-[:follow@0{degree: 70}]->(\"player102\")\n",
      "(\"player113\")-[:follow@0{degree: 99}]->(\"player100\")\n",
      "(\"player113\")-[:follow@0{degree: 99}]->(\"player101\")\n",
      "(\"player113\")-[:follow@0{degree: 99}]->(\"player104\")\n",
      "(\"player113\")-[:follow@0{degree: 99}]->(\"player105\")\n",
      "(\"player113\")-[:follow@0{degree: 99}]->(\"player106\")\n",
      "(\"player113\")-[:follow@0{degree: 99}]->(\"player116\")\n",
      "(\"player113\")-[:follow@0{degree: 99}]->(\"player118\")\n",
      "(\"player113\")-[:follow@0{degree: 99}]->(\"player119\")\n",
      "(\"player113\")-[:follow@0{degree: 99}]->(\"player120\")\n",
      "(\"player113\")-[:follow@0{degree: 99}]->(\"player121\")\n",
      "(\"player113\")-[:follow@0{degree: 99}]->(\"player125\")\n",
      "(\"player121\")-[:follow@0{degree: 90}]->(\"player116\")\n",
      "(\"player121\")-[:follow@0{degree: 90}]->(\"player128\")\n",
      "(\"player121\")-[:follow@0{degree: 90}]->(\"player129\")\n",
      "(\"player128\")-[:follow@0{degree: 90}]->(\"player116\")\n",
      "(\"player128\")-[:follow@0{degree: 90}]->(\"player121\")\n",
      "(\"player128\")-[:follow@0{degree: 90}]->(\"player129\")\n",
      "(\"player130\")-[:follow@0{degree: 80}]->(\"player149\")\n",
      "(\"player136\")-[:follow@0{degree: 90}]->(\"player117\")\n",
      "(\"player136\")-[:follow@0{degree: 88}]->(\"player137\")\n",
      "(\"player136\")-[:follow@0{degree: 90}]->(\"player147\")\n",
      "(\"player136\")-[:follow@0{degree: 85}]->(\"player148\")\n"
     ]
    }
   ],
   "source": [
    "while resp.has_next():\n",
    "    result = resp.next()\n",
    "    for edge_data in result:\n",
    "        print(edge_data)"
   ]
  }
 ],
 "metadata": {
  "kernelspec": {
   "display_name": "Python 3",
   "language": "python",
   "name": "python3"
  },
  "language_info": {
   "codemirror_mode": {
    "name": "ipython",
    "version": 3
   },
   "file_extension": ".py",
   "mimetype": "text/x-python",
   "name": "python",
   "nbconvert_exporter": "python",
   "pygments_lexer": "ipython3",
   "version": "3.9.2"
  }
 },
 "nbformat": 4,
 "nbformat_minor": 5
}
